{
 "cells": [
  {
   "cell_type": "markdown",
   "id": "187b8137-c409-4edb-b940-35b7656cedb6",
   "metadata": {
    "jp-MarkdownHeadingCollapsed": true
   },
   "source": [
    "## code up 100제 \n",
    "# 1. 기초 출력\n"
   ]
  },
  {
   "cell_type": "code",
   "execution_count": 1,
   "id": "9e19abfb-2224-4cec-8540-88363f7af0bb",
   "metadata": {},
   "outputs": [
    {
     "name": "stdout",
     "output_type": "stream",
     "text": [
      "Hello\n"
     ]
    }
   ],
   "source": [
    "# ## 001\n",
    "# python 언어에서 가장 기본적인 명령이 출력문이다.\n",
    "# print( )를 이용해 다음 단어를 출력하시오.\n",
    "\n",
    "# Hello\n",
    "\n",
    "# 참고\n",
    "# 아래와 같은 소스 코드를 작성하고 실행시키면,\n",
    "# 지정한 \"문장\"이 출력(print)된다.\n",
    "# print(\"문장\") \n",
    "\n",
    "print(\"Hello\")"
   ]
  },
  {
   "cell_type": "code",
   "execution_count": 3,
   "id": "d4183489-e80f-439f-a4cc-4ce7ee16ded0",
   "metadata": {},
   "outputs": [
    {
     "name": "stdout",
     "output_type": "stream",
     "text": [
      "Hello World\n"
     ]
    }
   ],
   "source": [
    "## 002\n",
    "# 이번에는 공백( )을 포함한 문장을 출력한다.\n",
    "# 다음 문장을 출력해보자.\n",
    "\n",
    "# Hello World\n",
    "# (대소문자에 주의한다.)\n",
    "\n",
    "# 참고\n",
    "# print(\"문장1 문장2\")\n",
    "# 을 실행시키면 \"문장1”, \"문장2\"가 공백( )을 사이에 두고 출력된다.\n",
    "# print(\"문장1\", \"문장2\")\n",
    "# 도 \"문장1\"과 \"문장2\" 사이에 공백( )을 출력한다.\n",
    "\n",
    "# ** 주의 : 본 화면에서 복사하여 붙여넣기하면 제대로 되지 않을 수 있으니 직접 소스코드를 작성해 넣어야 한다.\n",
    "\n",
    "print(\"Hello World\")"
   ]
  },
  {
   "cell_type": "code",
   "execution_count": 6,
   "id": "6b2a24e9-ac02-4e83-9d83-3111faa1568d",
   "metadata": {},
   "outputs": [
    {
     "name": "stdout",
     "output_type": "stream",
     "text": [
      "Hello\n",
      "World\n"
     ]
    }
   ],
   "source": [
    "## 003\n",
    "# Hello\n",
    "# World\n",
    "# (두 줄에 걸쳐 줄을 바꿔 출력)\n",
    "\n",
    "# 예시 \n",
    "# print(\"Hello\") \n",
    "# print(\"World\")\n",
    "\n",
    "# 참고\n",
    "# python의 기본 print( ) 를 이용해 출력하면 문장을 출력한 후 마지막에 줄을 바꾼다.(new line)\n",
    "# 출력 후 줄을 바꾸는 대신 스페이스( ) 공백을 붙이도록 설정하는 방법도 있다.\n",
    "\n",
    "# ** 주의 : 본 화면에서 복사하여 붙여넣기하면 제대로 되지 않을 수 있으니 직접 소스코드를 작성해 넣어야한다.\n",
    "\n",
    "print(\"Hello\\nWorld\")"
   ]
  },
  {
   "cell_type": "code",
   "execution_count": 9,
   "id": "6c7d84eb-36ce-4e26-b97c-333636a1c34f",
   "metadata": {},
   "outputs": [
    {
     "name": "stdout",
     "output_type": "stream",
     "text": [
      "'Hello'\n"
     ]
    }
   ],
   "source": [
    "## 004\n",
    "# 이번에는 작은 따옴표(')(single quotation mark)가 들어있는\n",
    "\n",
    "# 출력문 연습을 해보자.\n",
    "\n",
    "# 다음 문장을 출력하시오.\n",
    "# 'Hello'\n",
    "\n",
    "# 예시\n",
    "\n",
    "# print(\" ' \")\n",
    "\n",
    "\n",
    "# ** 주의 : 본 화면에서 복사하여 붙여넣기하면 제대로 되지 않을 수 있으니 직접 작성해야한다.\n",
    "\n",
    "print(\"'Hello'\")"
   ]
  },
  {
   "cell_type": "code",
   "execution_count": 11,
   "id": "75d7b922-4984-4e42-959f-797711133091",
   "metadata": {},
   "outputs": [
    {
     "name": "stdout",
     "output_type": "stream",
     "text": [
      "\"Hello World\"\n"
     ]
    }
   ],
   "source": [
    "## 005\n",
    "# 이번에는 큰따옴표(\")(double quotation mark)가 포함된 출력문을 연습해보자.\n",
    "\n",
    "# 다음 문장을 출력하시오.\n",
    "\n",
    "# \"Hello World\"\n",
    "# (단, 큰따옴표도 함께 출력한다.)\n",
    "\n",
    "# 예시\n",
    "# print(' \" ')\n",
    "\n",
    "# 참고\n",
    "# python 언어에서 print( ) 로 출력할 문장을 표현할 때 큰 따옴표 기호(\")로 묶어 표현한다. \n",
    "# 따라서, 큰따옴표 기호 그 자체를 출력하기 위해서는 다른 방법을 사용해야한다.\n",
    "# python 언어에서 문장(문자열)을 표현하는 기호로 \"와 '를 쌍으로 묶어 사용할 수 있다.\n",
    "# 따라서, 문장을 표현할 때 사용하는 큰따옴표(\"문장\") 기호 대신 작은따옴표('문장')를 사용하면 큰따옴표를 출력할 수 있다.\n",
    "# (물론, 큰따옴표를 출력하는 다른 방법도 있다.) \n",
    "\n",
    "# ** 주의 : 본 화면에서 복사하여 붙여넣기하면 제대로 되지 않을 수 있으니 직접 작성해야한다.\n",
    "print('\"Hello World\"')"
   ]
  },
  {
   "cell_type": "markdown",
   "id": "e976902a-dbe0-4511-b687-4786f6e8bb19",
   "metadata": {},
   "source": [
    "## 백슬래시 \n",
    "print('\\\"!@#$%^&*()\\'')\n"
   ]
  },
  {
   "cell_type": "code",
   "execution_count": 48,
   "id": "020d1e34-62fc-47cc-af00-26b78a49b78a",
   "metadata": {},
   "outputs": [
    {
     "name": "stdout",
     "output_type": "stream",
     "text": [
      "\"!@#$%^&*()'\n"
     ]
    }
   ],
   "source": [
    "# ## 006\n",
    "\n",
    "# 이번에는 특수문자 출력에 도전하자!!\n",
    "\n",
    "# 다음 문장을 출력하시오.\n",
    "\n",
    "# \"!@#$%^&*()'\n",
    "# (단, 큰따옴표와 작은따옴표도 함께 출력한다.)\n",
    "\n",
    " \n",
    "\n",
    "# 출력 형식에 필요한 따옴표와 출력할 문자인 따옴표를 구분하기 위하여\n",
    "\n",
    "# \\\" 또는 \\' 를 이용하여 출력할 수 있다.\n",
    "\n",
    "\n",
    "# ** 주의 : 본 화면에서 복사하여 붙여넣기하면 제대로 되지 않을 수 있으니 직접 작성해야한다.\n",
    "print('\\\"!@#$%^&*()\\'')\n"
   ]
  },
  {
   "cell_type": "code",
   "execution_count": 64,
   "id": "9391dc33-10bf-44ae-9aae-d0e210da59c0",
   "metadata": {},
   "outputs": [
    {
     "name": "stdout",
     "output_type": "stream",
     "text": [
      "\"C:\\Download\\'hello'.py\"\n"
     ]
    }
   ],
   "source": [
    "## 007\n",
    "# 윈도우 운영체제의 파일 경로를 출력하는 연습을 해보자.\n",
    " \n",
    "# 파일 경로에는 특수문자들이 포함된다.\n",
    "\n",
    "# 다음 경로를 출력하시오.\n",
    "\n",
    "# \"C:\\Download\\'hello'.py\"\n",
    "# (단, 따옴표도 함께 출력한다.)\n",
    "\n",
    " \n",
    "\n",
    "# \\도 안전하게 출력하려면 \\\\를 사용하는 것이 좋다.\n",
    "\n",
    "\n",
    "# ** 주의 : 본 화면에서 복사하여 붙여넣기하면 제대로 되지 않을 수 있으니 직접 작성해야한다.\n",
    "\n",
    "print('''\"C:\\\\Download\\\\'hello'.py\"''')"
   ]
  },
  {
   "cell_type": "code",
   "execution_count": 76,
   "id": "51c08656-089d-4738-96fd-5e591644103b",
   "metadata": {},
   "outputs": [
    {
     "name": "stdout",
     "output_type": "stream",
     "text": [
      "print(\"Hello\\nWorld\")\n"
     ]
    }
   ],
   "source": [
    "# ## 008\n",
    "# 출력문 연습의 마지막 문제이다.\n",
    "# (생각과 시도를 많이 해야하는 문제들은 한 두 문제씩 넘겼다가 나중에 풀어보면 된다.)\n",
    "\n",
    "# 이번에는 다음과 같은 python프로그램의 소스코드를 출력해보자.\n",
    "\n",
    "# print(\"Hello\\nWorld\")\n",
    "\n",
    "# 위 코드를 정확히 그대로 출력하시오.(공백문자 주의)\n",
    "\n",
    " \n",
    "\n",
    "# print 명령 안에 서식 문자로 \\n을 사용하면 줄 바꿈(new line) 문자로 사용된다.\n",
    "\n",
    "# 그렇다면 \\n을 화면에 그대로 출력하려면 어떻게 해야될까?\n",
    "\n",
    "# ** 주의 : 본 화면에서 복사하여 붙여넣기하면 제대로 되지 않을 수 있으니 직접 소스코드를 작성해 넣어야 한다.\n",
    "\n",
    "print('''print(\"Hello\\\\nWorld\")''')\n",
    "\n"
   ]
  },
  {
   "cell_type": "markdown",
   "id": "4405b553-3de9-4eb6-9939-1a92fa0f58b5",
   "metadata": {},
   "source": [
    "# 2. 기초- 입출력"
   ]
  },
  {
   "cell_type": "code",
   "execution_count": 79,
   "id": "e216dc2d-f3e3-4659-b48e-b4d62ea3672b",
   "metadata": {},
   "outputs": [
    {
     "name": "stdin",
     "output_type": "stream",
     "text": [
      " a\n"
     ]
    },
    {
     "name": "stdout",
     "output_type": "stream",
     "text": [
      "a\n"
     ]
    }
   ],
   "source": [
    "# ## 009\n",
    "# 문자(character)는\n",
    "# 0~9, a~z, A~Z, !, @, #, {, [, <, ... 과 같이 \n",
    "# 길이가 1인 기호라고 할 수 있다.\n",
    "\n",
    "# 변수에 문자 1개를 저장한 후\n",
    "# 변수에 저장되어 있는 문자를 그대로 출력해보자.\n",
    "\n",
    "# 예시\n",
    "# c = input()\n",
    "# print(c)\n",
    "\n",
    "# 와 같은 형태로 가능하다.\n",
    "\n",
    "c = input()\n",
    "print(c)\n"
   ]
  },
  {
   "cell_type": "code",
   "execution_count": 86,
   "id": "4503509c-d19a-425f-bc5d-dbd6816fffea",
   "metadata": {},
   "outputs": [
    {
     "ename": "KeyboardInterrupt",
     "evalue": "Interrupted by user",
     "output_type": "error",
     "traceback": [
      "\u001b[0;31m---------------------------------------------------------------------------\u001b[0m",
      "\u001b[0;31mKeyboardInterrupt\u001b[0m                         Traceback (most recent call last)",
      "Input \u001b[0;32mIn [86]\u001b[0m, in \u001b[0;36m<cell line: 16>\u001b[0;34m()\u001b[0m\n\u001b[1;32m      1\u001b[0m \u001b[38;5;66;03m# ## 010\u001b[39;00m\n\u001b[1;32m      2\u001b[0m \u001b[38;5;66;03m# 정수(integer)는\u001b[39;00m\n\u001b[1;32m      3\u001b[0m \u001b[38;5;66;03m# 양의 정수(1, 2, 3, 4, 5, ...), 음의 정수(-1, -2, -3, -4, -5, ...), 0 과 같이\u001b[39;00m\n\u001b[0;32m   (...)\u001b[0m\n\u001b[1;32m     14\u001b[0m \u001b[38;5;66;03m# 참고\u001b[39;00m\n\u001b[1;32m     15\u001b[0m \u001b[38;5;66;03m# input() 을 사용하면 키보드로 입력(input)한 값을 가져온다.\u001b[39;00m\n\u001b[0;32m---> 16\u001b[0m n \u001b[38;5;241m=\u001b[39m \u001b[38;5;28;43minput\u001b[39;49m\u001b[43m(\u001b[49m\u001b[43m)\u001b[49m\n\u001b[1;32m     17\u001b[0m n \u001b[38;5;241m=\u001b[39m \u001b[38;5;28mint\u001b[39m(n)\n\u001b[1;32m     18\u001b[0m \u001b[38;5;28mprint\u001b[39m(n)\n",
      "File \u001b[0;32m~/anaconda3/lib/python3.9/site-packages/ipykernel/kernelbase.py:1075\u001b[0m, in \u001b[0;36mKernel.raw_input\u001b[0;34m(self, prompt)\u001b[0m\n\u001b[1;32m   1071\u001b[0m \u001b[38;5;28;01mif\u001b[39;00m \u001b[38;5;129;01mnot\u001b[39;00m \u001b[38;5;28mself\u001b[39m\u001b[38;5;241m.\u001b[39m_allow_stdin:\n\u001b[1;32m   1072\u001b[0m     \u001b[38;5;28;01mraise\u001b[39;00m StdinNotImplementedError(\n\u001b[1;32m   1073\u001b[0m         \u001b[38;5;124m\"\u001b[39m\u001b[38;5;124mraw_input was called, but this frontend does not support input requests.\u001b[39m\u001b[38;5;124m\"\u001b[39m\n\u001b[1;32m   1074\u001b[0m     )\n\u001b[0;32m-> 1075\u001b[0m \u001b[38;5;28;01mreturn\u001b[39;00m \u001b[38;5;28;43mself\u001b[39;49m\u001b[38;5;241;43m.\u001b[39;49m\u001b[43m_input_request\u001b[49m\u001b[43m(\u001b[49m\n\u001b[1;32m   1076\u001b[0m \u001b[43m    \u001b[49m\u001b[38;5;28;43mstr\u001b[39;49m\u001b[43m(\u001b[49m\u001b[43mprompt\u001b[49m\u001b[43m)\u001b[49m\u001b[43m,\u001b[49m\n\u001b[1;32m   1077\u001b[0m \u001b[43m    \u001b[49m\u001b[38;5;28;43mself\u001b[39;49m\u001b[38;5;241;43m.\u001b[39;49m\u001b[43m_parent_ident\u001b[49m\u001b[43m[\u001b[49m\u001b[38;5;124;43m\"\u001b[39;49m\u001b[38;5;124;43mshell\u001b[39;49m\u001b[38;5;124;43m\"\u001b[39;49m\u001b[43m]\u001b[49m\u001b[43m,\u001b[49m\n\u001b[1;32m   1078\u001b[0m \u001b[43m    \u001b[49m\u001b[38;5;28;43mself\u001b[39;49m\u001b[38;5;241;43m.\u001b[39;49m\u001b[43mget_parent\u001b[49m\u001b[43m(\u001b[49m\u001b[38;5;124;43m\"\u001b[39;49m\u001b[38;5;124;43mshell\u001b[39;49m\u001b[38;5;124;43m\"\u001b[39;49m\u001b[43m)\u001b[49m\u001b[43m,\u001b[49m\n\u001b[1;32m   1079\u001b[0m \u001b[43m    \u001b[49m\u001b[43mpassword\u001b[49m\u001b[38;5;241;43m=\u001b[39;49m\u001b[38;5;28;43;01mFalse\u001b[39;49;00m\u001b[43m,\u001b[49m\n\u001b[1;32m   1080\u001b[0m \u001b[43m\u001b[49m\u001b[43m)\u001b[49m\n",
      "File \u001b[0;32m~/anaconda3/lib/python3.9/site-packages/ipykernel/kernelbase.py:1120\u001b[0m, in \u001b[0;36mKernel._input_request\u001b[0;34m(self, prompt, ident, parent, password)\u001b[0m\n\u001b[1;32m   1117\u001b[0m             \u001b[38;5;28;01mbreak\u001b[39;00m\n\u001b[1;32m   1118\u001b[0m \u001b[38;5;28;01mexcept\u001b[39;00m \u001b[38;5;167;01mKeyboardInterrupt\u001b[39;00m:\n\u001b[1;32m   1119\u001b[0m     \u001b[38;5;66;03m# re-raise KeyboardInterrupt, to truncate traceback\u001b[39;00m\n\u001b[0;32m-> 1120\u001b[0m     \u001b[38;5;28;01mraise\u001b[39;00m \u001b[38;5;167;01mKeyboardInterrupt\u001b[39;00m(\u001b[38;5;124m\"\u001b[39m\u001b[38;5;124mInterrupted by user\u001b[39m\u001b[38;5;124m\"\u001b[39m) \u001b[38;5;28;01mfrom\u001b[39;00m \u001b[38;5;28mNone\u001b[39m\n\u001b[1;32m   1121\u001b[0m \u001b[38;5;28;01mexcept\u001b[39;00m \u001b[38;5;167;01mException\u001b[39;00m:\n\u001b[1;32m   1122\u001b[0m     \u001b[38;5;28mself\u001b[39m\u001b[38;5;241m.\u001b[39mlog\u001b[38;5;241m.\u001b[39mwarning(\u001b[38;5;124m\"\u001b[39m\u001b[38;5;124mInvalid Message:\u001b[39m\u001b[38;5;124m\"\u001b[39m, exc_info\u001b[38;5;241m=\u001b[39m\u001b[38;5;28;01mTrue\u001b[39;00m)\n",
      "\u001b[0;31mKeyboardInterrupt\u001b[0m: Interrupted by user"
     ]
    }
   ],
   "source": [
    "# ## 010\n",
    "# 정수(integer)는\n",
    "# 양의 정수(1, 2, 3, 4, 5, ...), 음의 정수(-1, -2, -3, -4, -5, ...), 0 과 같이\n",
    "# 소숫점 아래에 수가 없는 수라고 할 수 있다.\n",
    "\n",
    "# 변수에 정수값을 저장한 후 정수로 변환하여 출력해보자.\n",
    "\n",
    "# 예시\n",
    "# n = input()\n",
    "# n = int(n)\n",
    "# print(n)\n",
    "# 와 같은 형태로 가능하다.\n",
    "\n",
    "# 참고\n",
    "# input() 을 사용하면 키보드로 입력(input)한 값을 가져온다.\n",
    "n = input()\n",
    "n = int(n)\n",
    "print(n)"
   ]
  },
  {
   "cell_type": "code",
   "execution_count": 87,
   "id": "65444441-5d99-4ab5-add7-aff0c71f312d",
   "metadata": {},
   "outputs": [
    {
     "name": "stdin",
     "output_type": "stream",
     "text": [
      " 3.8\n"
     ]
    },
    {
     "name": "stdout",
     "output_type": "stream",
     "text": [
      "3.8\n"
     ]
    }
   ],
   "source": [
    "# ## 011\n",
    "# 숫자(0~9)와 소수점(.)을 사용해 표현한 수를 실수(real number)라고 한다.\n",
    "\n",
    "# 변수에 실수값을 저장한 후\n",
    "# 변수에 저장되어 있는 값을 그대로 출력해보자.\n",
    "\n",
    "# 예시\n",
    "# f = input()\n",
    "# f = float(f)\n",
    "# print(f)\n",
    "# 와 같은 형태로 가능하다.\n",
    "\n",
    "f = input()\n",
    "f = float(f)\n",
    "print(f)\n"
   ]
  },
  {
   "cell_type": "code",
   "execution_count": 100,
   "id": "40f253fb-5e25-4518-be49-863e1a6e4e82",
   "metadata": {},
   "outputs": [
    {
     "name": "stdin",
     "output_type": "stream",
     "text": [
      " 3\n",
      " 5\n"
     ]
    },
    {
     "name": "stdout",
     "output_type": "stream",
     "text": [
      "3\n",
      "5\n"
     ]
    }
   ],
   "source": [
    "# ## 012\n",
    "# 줄을 바꿔 정수(integer) 2개를 입력받아 줄을 바꿔 출력해보자.\n",
    "\n",
    "# 예시\n",
    "# a = input() \n",
    "# b = input()\n",
    "# a=int(a)\n",
    "# b=int(b)\n",
    "# print(a)\n",
    "# print(b)\n",
    "# 과 같은 방법으로 가능하다.\n",
    "\n",
    "a = input() \n",
    "b = input()\n",
    "a=int(a)\n",
    "b=int(b)\n",
    "print(a)\n",
    "print(b)"
   ]
  },
  {
   "cell_type": "code",
   "execution_count": 109,
   "id": "c849fb70-5922-412f-b443-f2845d15a85d",
   "metadata": {},
   "outputs": [
    {
     "name": "stdin",
     "output_type": "stream",
     "text": [
      " 3\n",
      " 4\n"
     ]
    },
    {
     "name": "stdout",
     "output_type": "stream",
     "text": [
      "4\n",
      "3\n"
     ]
    }
   ],
   "source": [
    "# 013\n",
    "#줄을 바꿔 문자(character) 2개를 입력받고, 순서를 바꿔 한 줄씩 출력해보자.\n",
    "\n",
    "a = input()\n",
    "b = input()\n",
    "\n",
    "temp = a\n",
    "a= b\n",
    "b= temp\n",
    "\n",
    "print(a)\n",
    "print(b)\n"
   ]
  },
  {
   "cell_type": "code",
   "execution_count": null,
   "id": "78a2b2c5-548d-486b-99e9-a92c558445b9",
   "metadata": {},
   "outputs": [],
   "source": []
  }
 ],
 "metadata": {
  "kernelspec": {
   "display_name": "Python (base)",
   "language": "python",
   "name": "base"
  },
  "language_info": {
   "codemirror_mode": {
    "name": "ipython",
    "version": 3
   },
   "file_extension": ".py",
   "mimetype": "text/x-python",
   "name": "python",
   "nbconvert_exporter": "python",
   "pygments_lexer": "ipython3",
   "version": "3.9.12"
  }
 },
 "nbformat": 4,
 "nbformat_minor": 5
}
