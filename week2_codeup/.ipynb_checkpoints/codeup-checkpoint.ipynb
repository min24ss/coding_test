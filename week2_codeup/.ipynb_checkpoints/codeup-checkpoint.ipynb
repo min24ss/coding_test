{
 "cells": [
  {
   "cell_type": "markdown",
   "id": "187b8137-c409-4edb-b940-35b7656cedb6",
   "metadata": {
    "jp-MarkdownHeadingCollapsed": true
   },
   "source": [
    "## code up 100제 \n",
    "# 1. 기초 출력\n"
   ]
  },
  {
   "cell_type": "code",
   "execution_count": 1,
   "id": "9e19abfb-2224-4cec-8540-88363f7af0bb",
   "metadata": {},
   "outputs": [
    {
     "name": "stdout",
     "output_type": "stream",
     "text": [
      "Hello\n"
     ]
    }
   ],
   "source": [
    "# ## 001\n",
    "# python 언어에서 가장 기본적인 명령이 출력문이다.\n",
    "# print( )를 이용해 다음 단어를 출력하시오.\n",
    "\n",
    "# Hello\n",
    "\n",
    "# 참고\n",
    "# 아래와 같은 소스 코드를 작성하고 실행시키면,\n",
    "# 지정한 \"문장\"이 출력(print)된다.\n",
    "# print(\"문장\") \n",
    "\n",
    "print(\"Hello\")"
   ]
  },
  {
   "cell_type": "code",
   "execution_count": 3,
   "id": "d4183489-e80f-439f-a4cc-4ce7ee16ded0",
   "metadata": {},
   "outputs": [
    {
     "name": "stdout",
     "output_type": "stream",
     "text": [
      "Hello World\n"
     ]
    }
   ],
   "source": [
    "## 002\n",
    "# 이번에는 공백( )을 포함한 문장을 출력한다.\n",
    "# 다음 문장을 출력해보자.\n",
    "\n",
    "# Hello World\n",
    "# (대소문자에 주의한다.)\n",
    "\n",
    "# 참고\n",
    "# print(\"문장1 문장2\")\n",
    "# 을 실행시키면 \"문장1”, \"문장2\"가 공백( )을 사이에 두고 출력된다.\n",
    "# print(\"문장1\", \"문장2\")\n",
    "# 도 \"문장1\"과 \"문장2\" 사이에 공백( )을 출력한다.\n",
    "\n",
    "# ** 주의 : 본 화면에서 복사하여 붙여넣기하면 제대로 되지 않을 수 있으니 직접 소스코드를 작성해 넣어야 한다.\n",
    "\n",
    "print(\"Hello World\")"
   ]
  },
  {
   "cell_type": "code",
   "execution_count": 6,
   "id": "6b2a24e9-ac02-4e83-9d83-3111faa1568d",
   "metadata": {},
   "outputs": [
    {
     "name": "stdout",
     "output_type": "stream",
     "text": [
      "Hello\n",
      "World\n"
     ]
    }
   ],
   "source": [
    "## 003\n",
    "# Hello\n",
    "# World\n",
    "# (두 줄에 걸쳐 줄을 바꿔 출력)\n",
    "\n",
    "# 예시 \n",
    "# print(\"Hello\") \n",
    "# print(\"World\")\n",
    "\n",
    "# 참고\n",
    "# python의 기본 print( ) 를 이용해 출력하면 문장을 출력한 후 마지막에 줄을 바꾼다.(new line)\n",
    "# 출력 후 줄을 바꾸는 대신 스페이스( ) 공백을 붙이도록 설정하는 방법도 있다.\n",
    "\n",
    "# ** 주의 : 본 화면에서 복사하여 붙여넣기하면 제대로 되지 않을 수 있으니 직접 소스코드를 작성해 넣어야한다.\n",
    "\n",
    "print(\"Hello\\nWorld\")"
   ]
  },
  {
   "cell_type": "code",
   "execution_count": 9,
   "id": "6c7d84eb-36ce-4e26-b97c-333636a1c34f",
   "metadata": {},
   "outputs": [
    {
     "name": "stdout",
     "output_type": "stream",
     "text": [
      "'Hello'\n"
     ]
    }
   ],
   "source": [
    "## 004\n",
    "# 이번에는 작은 따옴표(')(single quotation mark)가 들어있는\n",
    "\n",
    "# 출력문 연습을 해보자.\n",
    "\n",
    "# 다음 문장을 출력하시오.\n",
    "# 'Hello'\n",
    "\n",
    "# 예시\n",
    "\n",
    "# print(\" ' \")\n",
    "\n",
    "\n",
    "# ** 주의 : 본 화면에서 복사하여 붙여넣기하면 제대로 되지 않을 수 있으니 직접 작성해야한다.\n",
    "\n",
    "print(\"'Hello'\")"
   ]
  },
  {
   "cell_type": "code",
   "execution_count": 11,
   "id": "75d7b922-4984-4e42-959f-797711133091",
   "metadata": {},
   "outputs": [
    {
     "name": "stdout",
     "output_type": "stream",
     "text": [
      "\"Hello World\"\n"
     ]
    }
   ],
   "source": [
    "## 005\n",
    "# 이번에는 큰따옴표(\")(double quotation mark)가 포함된 출력문을 연습해보자.\n",
    "\n",
    "# 다음 문장을 출력하시오.\n",
    "\n",
    "# \"Hello World\"\n",
    "# (단, 큰따옴표도 함께 출력한다.)\n",
    "\n",
    "# 예시\n",
    "# print(' \" ')\n",
    "\n",
    "# 참고\n",
    "# python 언어에서 print( ) 로 출력할 문장을 표현할 때 큰 따옴표 기호(\")로 묶어 표현한다. \n",
    "# 따라서, 큰따옴표 기호 그 자체를 출력하기 위해서는 다른 방법을 사용해야한다.\n",
    "# python 언어에서 문장(문자열)을 표현하는 기호로 \"와 '를 쌍으로 묶어 사용할 수 있다.\n",
    "# 따라서, 문장을 표현할 때 사용하는 큰따옴표(\"문장\") 기호 대신 작은따옴표('문장')를 사용하면 큰따옴표를 출력할 수 있다.\n",
    "# (물론, 큰따옴표를 출력하는 다른 방법도 있다.) \n",
    "\n",
    "# ** 주의 : 본 화면에서 복사하여 붙여넣기하면 제대로 되지 않을 수 있으니 직접 작성해야한다.\n",
    "print('\"Hello World\"')"
   ]
  },
  {
   "cell_type": "markdown",
   "id": "e976902a-dbe0-4511-b687-4786f6e8bb19",
   "metadata": {},
   "source": [
    "## 백슬래시 \n",
    "print('\\\"!@#$%^&*()\\'')\n"
   ]
  },
  {
   "cell_type": "code",
   "execution_count": 48,
   "id": "020d1e34-62fc-47cc-af00-26b78a49b78a",
   "metadata": {},
   "outputs": [
    {
     "name": "stdout",
     "output_type": "stream",
     "text": [
      "\"!@#$%^&*()'\n"
     ]
    }
   ],
   "source": [
    "# ## 006\n",
    "\n",
    "# 이번에는 특수문자 출력에 도전하자!!\n",
    "\n",
    "# 다음 문장을 출력하시오.\n",
    "\n",
    "# \"!@#$%^&*()'\n",
    "# (단, 큰따옴표와 작은따옴표도 함께 출력한다.)\n",
    "\n",
    " \n",
    "\n",
    "# 출력 형식에 필요한 따옴표와 출력할 문자인 따옴표를 구분하기 위하여\n",
    "\n",
    "# \\\" 또는 \\' 를 이용하여 출력할 수 있다.\n",
    "\n",
    "\n",
    "# ** 주의 : 본 화면에서 복사하여 붙여넣기하면 제대로 되지 않을 수 있으니 직접 작성해야한다.\n",
    "print('\\\"!@#$%^&*()\\'')\n"
   ]
  },
  {
   "cell_type": "code",
   "execution_count": 64,
   "id": "9391dc33-10bf-44ae-9aae-d0e210da59c0",
   "metadata": {},
   "outputs": [
    {
     "name": "stdout",
     "output_type": "stream",
     "text": [
      "\"C:\\Download\\'hello'.py\"\n"
     ]
    }
   ],
   "source": [
    "## 007\n",
    "# 윈도우 운영체제의 파일 경로를 출력하는 연습을 해보자.\n",
    " \n",
    "# 파일 경로에는 특수문자들이 포함된다.\n",
    "\n",
    "# 다음 경로를 출력하시오.\n",
    "\n",
    "# \"C:\\Download\\'hello'.py\"\n",
    "# (단, 따옴표도 함께 출력한다.)\n",
    "\n",
    " \n",
    "\n",
    "# \\도 안전하게 출력하려면 \\\\를 사용하는 것이 좋다.\n",
    "\n",
    "\n",
    "# ** 주의 : 본 화면에서 복사하여 붙여넣기하면 제대로 되지 않을 수 있으니 직접 작성해야한다.\n",
    "\n",
    "print('''\"C:\\\\Download\\\\'hello'.py\"''')"
   ]
  },
  {
   "cell_type": "code",
   "execution_count": 76,
   "id": "51c08656-089d-4738-96fd-5e591644103b",
   "metadata": {},
   "outputs": [
    {
     "name": "stdout",
     "output_type": "stream",
     "text": [
      "print(\"Hello\\nWorld\")\n"
     ]
    }
   ],
   "source": [
    "# ## 008\n",
    "# 출력문 연습의 마지막 문제이다.\n",
    "# (생각과 시도를 많이 해야하는 문제들은 한 두 문제씩 넘겼다가 나중에 풀어보면 된다.)\n",
    "\n",
    "# 이번에는 다음과 같은 python프로그램의 소스코드를 출력해보자.\n",
    "\n",
    "# print(\"Hello\\nWorld\")\n",
    "\n",
    "# 위 코드를 정확히 그대로 출력하시오.(공백문자 주의)\n",
    "\n",
    " \n",
    "\n",
    "# print 명령 안에 서식 문자로 \\n을 사용하면 줄 바꿈(new line) 문자로 사용된다.\n",
    "\n",
    "# 그렇다면 \\n을 화면에 그대로 출력하려면 어떻게 해야될까?\n",
    "\n",
    "# ** 주의 : 본 화면에서 복사하여 붙여넣기하면 제대로 되지 않을 수 있으니 직접 소스코드를 작성해 넣어야 한다.\n",
    "\n",
    "print('''print(\"Hello\\\\nWorld\")''')\n",
    "\n"
   ]
  },
  {
   "cell_type": "markdown",
   "id": "4405b553-3de9-4eb6-9939-1a92fa0f58b5",
   "metadata": {
    "jp-MarkdownHeadingCollapsed": true
   },
   "source": [
    "# 2. 기초- 입출력"
   ]
  },
  {
   "cell_type": "code",
   "execution_count": 79,
   "id": "e216dc2d-f3e3-4659-b48e-b4d62ea3672b",
   "metadata": {},
   "outputs": [
    {
     "name": "stdin",
     "output_type": "stream",
     "text": [
      " a\n"
     ]
    },
    {
     "name": "stdout",
     "output_type": "stream",
     "text": [
      "a\n"
     ]
    }
   ],
   "source": [
    "# ## 009\n",
    "# 문자(character)는\n",
    "# 0~9, a~z, A~Z, !, @, #, {, [, <, ... 과 같이 \n",
    "# 길이가 1인 기호라고 할 수 있다.\n",
    "\n",
    "# 변수에 문자 1개를 저장한 후\n",
    "# 변수에 저장되어 있는 문자를 그대로 출력해보자.\n",
    "\n",
    "# 예시\n",
    "# c = input()\n",
    "# print(c)\n",
    "\n",
    "# 와 같은 형태로 가능하다.\n",
    "\n",
    "c = input()\n",
    "print(c)\n"
   ]
  },
  {
   "cell_type": "code",
   "execution_count": 86,
   "id": "4503509c-d19a-425f-bc5d-dbd6816fffea",
   "metadata": {},
   "outputs": [
    {
     "ename": "KeyboardInterrupt",
     "evalue": "Interrupted by user",
     "output_type": "error",
     "traceback": [
      "\u001b[0;31m---------------------------------------------------------------------------\u001b[0m",
      "\u001b[0;31mKeyboardInterrupt\u001b[0m                         Traceback (most recent call last)",
      "Input \u001b[0;32mIn [86]\u001b[0m, in \u001b[0;36m<cell line: 16>\u001b[0;34m()\u001b[0m\n\u001b[1;32m      1\u001b[0m \u001b[38;5;66;03m# ## 010\u001b[39;00m\n\u001b[1;32m      2\u001b[0m \u001b[38;5;66;03m# 정수(integer)는\u001b[39;00m\n\u001b[1;32m      3\u001b[0m \u001b[38;5;66;03m# 양의 정수(1, 2, 3, 4, 5, ...), 음의 정수(-1, -2, -3, -4, -5, ...), 0 과 같이\u001b[39;00m\n\u001b[0;32m   (...)\u001b[0m\n\u001b[1;32m     14\u001b[0m \u001b[38;5;66;03m# 참고\u001b[39;00m\n\u001b[1;32m     15\u001b[0m \u001b[38;5;66;03m# input() 을 사용하면 키보드로 입력(input)한 값을 가져온다.\u001b[39;00m\n\u001b[0;32m---> 16\u001b[0m n \u001b[38;5;241m=\u001b[39m \u001b[38;5;28;43minput\u001b[39;49m\u001b[43m(\u001b[49m\u001b[43m)\u001b[49m\n\u001b[1;32m     17\u001b[0m n \u001b[38;5;241m=\u001b[39m \u001b[38;5;28mint\u001b[39m(n)\n\u001b[1;32m     18\u001b[0m \u001b[38;5;28mprint\u001b[39m(n)\n",
      "File \u001b[0;32m~/anaconda3/lib/python3.9/site-packages/ipykernel/kernelbase.py:1075\u001b[0m, in \u001b[0;36mKernel.raw_input\u001b[0;34m(self, prompt)\u001b[0m\n\u001b[1;32m   1071\u001b[0m \u001b[38;5;28;01mif\u001b[39;00m \u001b[38;5;129;01mnot\u001b[39;00m \u001b[38;5;28mself\u001b[39m\u001b[38;5;241m.\u001b[39m_allow_stdin:\n\u001b[1;32m   1072\u001b[0m     \u001b[38;5;28;01mraise\u001b[39;00m StdinNotImplementedError(\n\u001b[1;32m   1073\u001b[0m         \u001b[38;5;124m\"\u001b[39m\u001b[38;5;124mraw_input was called, but this frontend does not support input requests.\u001b[39m\u001b[38;5;124m\"\u001b[39m\n\u001b[1;32m   1074\u001b[0m     )\n\u001b[0;32m-> 1075\u001b[0m \u001b[38;5;28;01mreturn\u001b[39;00m \u001b[38;5;28;43mself\u001b[39;49m\u001b[38;5;241;43m.\u001b[39;49m\u001b[43m_input_request\u001b[49m\u001b[43m(\u001b[49m\n\u001b[1;32m   1076\u001b[0m \u001b[43m    \u001b[49m\u001b[38;5;28;43mstr\u001b[39;49m\u001b[43m(\u001b[49m\u001b[43mprompt\u001b[49m\u001b[43m)\u001b[49m\u001b[43m,\u001b[49m\n\u001b[1;32m   1077\u001b[0m \u001b[43m    \u001b[49m\u001b[38;5;28;43mself\u001b[39;49m\u001b[38;5;241;43m.\u001b[39;49m\u001b[43m_parent_ident\u001b[49m\u001b[43m[\u001b[49m\u001b[38;5;124;43m\"\u001b[39;49m\u001b[38;5;124;43mshell\u001b[39;49m\u001b[38;5;124;43m\"\u001b[39;49m\u001b[43m]\u001b[49m\u001b[43m,\u001b[49m\n\u001b[1;32m   1078\u001b[0m \u001b[43m    \u001b[49m\u001b[38;5;28;43mself\u001b[39;49m\u001b[38;5;241;43m.\u001b[39;49m\u001b[43mget_parent\u001b[49m\u001b[43m(\u001b[49m\u001b[38;5;124;43m\"\u001b[39;49m\u001b[38;5;124;43mshell\u001b[39;49m\u001b[38;5;124;43m\"\u001b[39;49m\u001b[43m)\u001b[49m\u001b[43m,\u001b[49m\n\u001b[1;32m   1079\u001b[0m \u001b[43m    \u001b[49m\u001b[43mpassword\u001b[49m\u001b[38;5;241;43m=\u001b[39;49m\u001b[38;5;28;43;01mFalse\u001b[39;49;00m\u001b[43m,\u001b[49m\n\u001b[1;32m   1080\u001b[0m \u001b[43m\u001b[49m\u001b[43m)\u001b[49m\n",
      "File \u001b[0;32m~/anaconda3/lib/python3.9/site-packages/ipykernel/kernelbase.py:1120\u001b[0m, in \u001b[0;36mKernel._input_request\u001b[0;34m(self, prompt, ident, parent, password)\u001b[0m\n\u001b[1;32m   1117\u001b[0m             \u001b[38;5;28;01mbreak\u001b[39;00m\n\u001b[1;32m   1118\u001b[0m \u001b[38;5;28;01mexcept\u001b[39;00m \u001b[38;5;167;01mKeyboardInterrupt\u001b[39;00m:\n\u001b[1;32m   1119\u001b[0m     \u001b[38;5;66;03m# re-raise KeyboardInterrupt, to truncate traceback\u001b[39;00m\n\u001b[0;32m-> 1120\u001b[0m     \u001b[38;5;28;01mraise\u001b[39;00m \u001b[38;5;167;01mKeyboardInterrupt\u001b[39;00m(\u001b[38;5;124m\"\u001b[39m\u001b[38;5;124mInterrupted by user\u001b[39m\u001b[38;5;124m\"\u001b[39m) \u001b[38;5;28;01mfrom\u001b[39;00m \u001b[38;5;28mNone\u001b[39m\n\u001b[1;32m   1121\u001b[0m \u001b[38;5;28;01mexcept\u001b[39;00m \u001b[38;5;167;01mException\u001b[39;00m:\n\u001b[1;32m   1122\u001b[0m     \u001b[38;5;28mself\u001b[39m\u001b[38;5;241m.\u001b[39mlog\u001b[38;5;241m.\u001b[39mwarning(\u001b[38;5;124m\"\u001b[39m\u001b[38;5;124mInvalid Message:\u001b[39m\u001b[38;5;124m\"\u001b[39m, exc_info\u001b[38;5;241m=\u001b[39m\u001b[38;5;28;01mTrue\u001b[39;00m)\n",
      "\u001b[0;31mKeyboardInterrupt\u001b[0m: Interrupted by user"
     ]
    }
   ],
   "source": [
    "# ## 010\n",
    "# 정수(integer)는\n",
    "# 양의 정수(1, 2, 3, 4, 5, ...), 음의 정수(-1, -2, -3, -4, -5, ...), 0 과 같이\n",
    "# 소숫점 아래에 수가 없는 수라고 할 수 있다.\n",
    "\n",
    "# 변수에 정수값을 저장한 후 정수로 변환하여 출력해보자.\n",
    "\n",
    "# 예시\n",
    "# n = input()\n",
    "# n = int(n)\n",
    "# print(n)\n",
    "# 와 같은 형태로 가능하다.\n",
    "\n",
    "# 참고\n",
    "# input() 을 사용하면 키보드로 입력(input)한 값을 가져온다.\n",
    "n = input()\n",
    "n = int(n)\n",
    "print(n)"
   ]
  },
  {
   "cell_type": "code",
   "execution_count": 87,
   "id": "65444441-5d99-4ab5-add7-aff0c71f312d",
   "metadata": {},
   "outputs": [
    {
     "name": "stdin",
     "output_type": "stream",
     "text": [
      " 3.8\n"
     ]
    },
    {
     "name": "stdout",
     "output_type": "stream",
     "text": [
      "3.8\n"
     ]
    }
   ],
   "source": [
    "# ## 011\n",
    "# 숫자(0~9)와 소수점(.)을 사용해 표현한 수를 실수(real number)라고 한다.\n",
    "\n",
    "# 변수에 실수값을 저장한 후\n",
    "# 변수에 저장되어 있는 값을 그대로 출력해보자.\n",
    "\n",
    "# 예시\n",
    "# f = input()\n",
    "# f = float(f)\n",
    "# print(f)\n",
    "# 와 같은 형태로 가능하다.\n",
    "\n",
    "f = input()\n",
    "f = float(f)\n",
    "print(f)\n"
   ]
  },
  {
   "cell_type": "code",
   "execution_count": 100,
   "id": "40f253fb-5e25-4518-be49-863e1a6e4e82",
   "metadata": {},
   "outputs": [
    {
     "name": "stdin",
     "output_type": "stream",
     "text": [
      " 3\n",
      " 5\n"
     ]
    },
    {
     "name": "stdout",
     "output_type": "stream",
     "text": [
      "3\n",
      "5\n"
     ]
    }
   ],
   "source": [
    "# ## 012\n",
    "# 줄을 바꿔 정수(integer) 2개를 입력받아 줄을 바꿔 출력해보자.\n",
    "\n",
    "# 예시\n",
    "# a = input() \n",
    "# b = input()\n",
    "# a=int(a)\n",
    "# b=int(b)\n",
    "# print(a)\n",
    "# print(b)\n",
    "# 과 같은 방법으로 가능하다.\n",
    "\n",
    "a = input() \n",
    "b = input()\n",
    "a=int(a)\n",
    "b=int(b)\n",
    "print(a)\n",
    "print(b)"
   ]
  },
  {
   "cell_type": "code",
   "execution_count": 109,
   "id": "c849fb70-5922-412f-b443-f2845d15a85d",
   "metadata": {},
   "outputs": [
    {
     "name": "stdin",
     "output_type": "stream",
     "text": [
      " 3\n",
      " 4\n"
     ]
    },
    {
     "name": "stdout",
     "output_type": "stream",
     "text": [
      "4\n",
      "3\n"
     ]
    }
   ],
   "source": [
    "# 013\n",
    "#줄을 바꿔 문자(character) 2개를 입력받고, 순서를 바꿔 한 줄씩 출력해보자.\n",
    "\n",
    "a = input()\n",
    "b = input()\n",
    "\n",
    "temp = a\n",
    "a= b\n",
    "b= temp\n",
    "\n",
    "print(a)\n",
    "print(b)\n"
   ]
  },
  {
   "cell_type": "code",
   "execution_count": 116,
   "id": "78a2b2c5-548d-486b-99e9-a92c558445b9",
   "metadata": {},
   "outputs": [
    {
     "name": "stdin",
     "output_type": "stream",
     "text": [
      " 3.2\n"
     ]
    },
    {
     "name": "stdout",
     "output_type": "stream",
     "text": [
      "3.2\n",
      "3.2\n",
      "3.2\n"
     ]
    }
   ],
   "source": [
    "# ## 014\n",
    "# 실수(real number) 1개를 입력받아 줄을 바꿔 3번 출력해보자.\n",
    "\n",
    "# 예시\n",
    "# ...\n",
    "# print(f)  #f에 저장되어있는 값을 출력하고 줄을 바꾼다.\n",
    "# print(f)\n",
    "# print(f)\n",
    "# 와 같은 방법으로 3번 줄을 바꿔 출력할 수 있다.\n",
    "f = float(input())\n",
    "print(f)\n",
    "print(f)\n",
    "print(f)"
   ]
  },
  {
   "cell_type": "code",
   "execution_count": 129,
   "id": "bd756d61-beeb-4c30-9e20-79377d4750bc",
   "metadata": {},
   "outputs": [
    {
     "name": "stdin",
     "output_type": "stream",
     "text": [
      " 3 4\n"
     ]
    },
    {
     "name": "stdout",
     "output_type": "stream",
     "text": [
      "3\n",
      "4\n"
     ]
    }
   ],
   "source": [
    "#015\n",
    "#공백을 두고 입력된정수(integer) 2개를 입력받아 줄을 바꿔 출력해보자.\n",
    "\n",
    "# 예시\n",
    "# a, b = input().split()\n",
    "# a=int(a)\n",
    "# b=int(b)\n",
    "# print(a)\n",
    "# print(b)\n",
    "# 과 같은 방법으로 두 정수를 입력받아 출력할 수 있다.\n",
    "\n",
    "a, b = map(int,input().split())\n",
    "print(a)\n",
    "print(b)"
   ]
  },
  {
   "cell_type": "code",
   "execution_count": 135,
   "id": "2596ece9-5d57-4645-ae0f-ded93ac0be25",
   "metadata": {},
   "outputs": [
    {
     "name": "stdin",
     "output_type": "stream",
     "text": [
      " a b\n"
     ]
    },
    {
     "name": "stdout",
     "output_type": "stream",
     "text": [
      "b a\n"
     ]
    }
   ],
   "source": [
    "# ## 016\n",
    "# 공백을 두고 문자(character) 2개를 입력받아 순서를 바꿔 출력해보자.\n",
    "\n",
    "# 참고\n",
    "# ...\n",
    "# print(c2, c1)\n",
    "# 와 같은 방법으로 출력하면, c1과 c2에 저장된 값이 공백을 두고 순서가 바뀌어 한 줄로 출력된다.\n",
    "# print( ) 안에서 쉼표(,)를 찍어 순서대로 나열하면, 그 순서대로 공백을 두고 출력된다.\n",
    "a, b = input().split()\n",
    "temp = a\n",
    "a= b\n",
    "b = temp\n",
    "print(a, b)"
   ]
  },
  {
   "cell_type": "code",
   "execution_count": 136,
   "id": "e6c0a388-4036-4677-bd92-185604a85fa2",
   "metadata": {},
   "outputs": [
    {
     "name": "stdin",
     "output_type": "stream",
     "text": [
      " computer science\n"
     ]
    },
    {
     "name": "stdout",
     "output_type": "stream",
     "text": [
      "computer science computer science computer science\n"
     ]
    }
   ],
   "source": [
    "# ## 017\n",
    "\n",
    "# 정수(integer), 실수, 문자(character), 문자열(string) 등 1개만 입력받아 한 줄로 3번 출력해보자.\n",
    "\n",
    "# 예시\n",
    "# s = input()\n",
    "# print(s, s, s)  #공백으로 구분해 한 줄로 출력한다.\n",
    "# 와 같은 방법으로 3번 출력할 수 있다.\n",
    "\n",
    "s = input()\n",
    "print(s, s, s)"
   ]
  },
  {
   "cell_type": "code",
   "execution_count": 138,
   "id": "6dd2a38f-c8f1-43b5-8006-73fc3ff09330",
   "metadata": {},
   "outputs": [
    {
     "name": "stdin",
     "output_type": "stream",
     "text": [
      " 3:4\n"
     ]
    },
    {
     "name": "stdout",
     "output_type": "stream",
     "text": [
      "3:4\n"
     ]
    }
   ],
   "source": [
    "# # 018\n",
    "# 24시간 시:분 형식으로 시간이 입력될 때, 그대로 출력하는 연습을 해보자.\n",
    "\n",
    "# 예시\n",
    "# a, b = input().split(':')\n",
    "# print(a, b, sep=':')\n",
    "# 와 같은 방법으로 가능하다.\n",
    "\n",
    "a, b = input().split(\":\")\n",
    "print(a, b, sep = \":\")"
   ]
  },
  {
   "cell_type": "code",
   "execution_count": 139,
   "id": "abe21414-6296-4cfb-946a-5d5dbdf55bf0",
   "metadata": {},
   "outputs": [
    {
     "name": "stdin",
     "output_type": "stream",
     "text": [
      " 2020.3.4\n"
     ]
    },
    {
     "name": "stdout",
     "output_type": "stream",
     "text": [
      "4-3-2020\n"
     ]
    }
   ],
   "source": [
    "#019\n",
    "# \"연도.월.일\"을 입력받아 \"일-월-연도\" 순서로 바꿔 출력해보자.\n",
    "\n",
    "# 참고\n",
    "# y, m, d = input().split('.')\n",
    "# 과 같이 변수들을 순서대로 나열하면 구분기호를 기준으로 잘라 순서대로 저장한다.\n",
    "\n",
    "y, m, d = input().split(\".\")\n",
    "print(d, m, y, sep = \"-\")\n"
   ]
  },
  {
   "cell_type": "code",
   "execution_count": 148,
   "id": "dbb5d2ce-ec24-41ca-b128-fec40fb9933c",
   "metadata": {},
   "outputs": [
    {
     "name": "stdin",
     "output_type": "stream",
     "text": [
      " 000907-1121112\n"
     ]
    },
    {
     "name": "stdout",
     "output_type": "stream",
     "text": [
      "0009071121112\n"
     ]
    }
   ],
   "source": [
    "# # 020\n",
    "# 주민번호는 다음과 같이 구성된다.\n",
    "# XXXXXX-XXXXXXX\n",
    "\n",
    "# 왼쪽 6자리는 생년월일(YYMMDD)이고, 오른쪽 7자리는 성별,출생지역,확인코드로 구성되어있다.\n",
    "# 주민번호를 입력받아 형태를 바꿔 출력해보자.\n",
    "\n",
    "num = input().split(\"-\")\n",
    "\n",
    "print(num[0] + num[1])"
   ]
  },
  {
   "cell_type": "code",
   "execution_count": 5,
   "id": "b192aef6-327c-4082-8b3e-8cd9cd783516",
   "metadata": {},
   "outputs": [
    {
     "name": "stdin",
     "output_type": "stream",
     "text": [
      " hello\n"
     ]
    },
    {
     "name": "stdout",
     "output_type": "stream",
     "text": [
      "h\n",
      "e\n",
      "l\n",
      "l\n",
      "o\n"
     ]
    }
   ],
   "source": [
    "# ## 021\n",
    "# 알파벳과 숫자로 이루어진 단어 1개가 입력된다.\n",
    "# 입력받은 단어의 각 문자를 한 줄에 한 문자씩 분리해 출력한다.\n",
    "\n",
    "# 예시\n",
    "# s = input()\n",
    "# print(s[0])\n",
    "# print(s[1])\n",
    "# ...\n",
    "\n",
    "# 참고\n",
    "# s[0] 은 첫 번째 문자를 의미한다.\n",
    "\n",
    "s = input()\n",
    "print(s[0])\n",
    "print(s[1])\n",
    "print(s[2])\n",
    "print(s[3])\n",
    "print(s[4])\n",
    "      "
   ]
  },
  {
   "cell_type": "code",
   "execution_count": 20,
   "id": "c1924fcf-cebf-414b-a3cd-445b3ffd11dc",
   "metadata": {},
   "outputs": [
    {
     "name": "stdin",
     "output_type": "stream",
     "text": [
      " 022534\n"
     ]
    },
    {
     "name": "stdout",
     "output_type": "stream",
     "text": [
      "02 25 34\n"
     ]
    }
   ],
   "source": [
    "# #022\n",
    "# 6자리의 연월일(YYMMDD)을 입력받아 나누어 출력해보자.\n",
    "\n",
    "# 참고\n",
    "# s = input()\n",
    "# print(s[0:2])\n",
    "\n",
    "# 를 실행하면 0번째 문자부터 1번째 문자까지 잘라 출력한다.\n",
    "# s[a:b] 라고 하면, s라는 단어에서 a번째 문자부터 b-1번째 문자까지 잘라낸 부분을 의미한다.\n",
    "# 다른 자르기 방법도 있다.\n",
    "s = input()      \n",
    "y = (s[0:2])\n",
    "m = (s[2:4])\n",
    "d = (s[4:6])\n",
    "print(y, m, d)"
   ]
  },
  {
   "cell_type": "code",
   "execution_count": 24,
   "id": "2e492d9d-d4e0-4822-bfd3-39c6450a0bcf",
   "metadata": {},
   "outputs": [
    {
     "name": "stdin",
     "output_type": "stream",
     "text": [
      " 17:23:57\n"
     ]
    },
    {
     "name": "stdout",
     "output_type": "stream",
     "text": [
      "23\n"
     ]
    }
   ],
   "source": [
    "# #023\n",
    "# 시:분:초 형식으로 시간이 입력될 때 분만 출력해보자.\n",
    "\n",
    "\n",
    "\n",
    "# 어떻게 분만 출력해야 할지 주의 깊게 생각해야한다.\n",
    "\n",
    "s= input().split(':')\n",
    "print(s[1])"
   ]
  },
  {
   "cell_type": "code",
   "execution_count": 26,
   "id": "0fc3ef11-286d-42fa-9c03-098f098083d2",
   "metadata": {},
   "outputs": [
    {
     "name": "stdin",
     "output_type": "stream",
     "text": [
      " hello world\n"
     ]
    },
    {
     "name": "stdout",
     "output_type": "stream",
     "text": [
      "helloworld\n"
     ]
    }
   ],
   "source": [
    "# 024\n",
    "# 알파벳 문자와 숫자로 이루어진 단어 2개를 입력받아\n",
    "# 순서대로 붙여 출력하는 프로그램을 작성해보자.\n",
    "\n",
    "# 예시\n",
    "# w1, w2 = input().split()\n",
    "# s = w1 + w2\n",
    "# print(s)\n",
    "\n",
    "# 참고\n",
    "# 단어는 문자(character)들로 만든다.\n",
    "# 문자들로 구성된 문장을 문자열(string)이라고 부른다.\n",
    "# 문자열에는 공백문자(' ')가 포함될 수 있는데, \n",
    "# 문자 1개는 길이가 1인 문자열이라고 할 수 있고, 공백문자(' ')가 없는 문자열은 단어(word)라고 할 수 있다.\n",
    "\n",
    "# 일반적인 문장들은 공백으로 구분된 단어들로 만들어지기 때문에,\n",
    "# 공백문자로 구분된 문장에서 단어를 잘라내기 위해서는 공백문자(' ')를 기준으로 자르면 된다.\n",
    "# 키보드로 입력되는 것들은 기본적으로 문자열로 인식되고, 문자열끼리 더하기(+)를 실행하면,\n",
    "# 두 문자열을 합쳐 연결한(concatenate) 결과를 만들어 낸다.\n",
    "\n",
    "s1, s2 = input().split()\n",
    "print(s1+s2)"
   ]
  },
  {
   "cell_type": "markdown",
   "id": "dedb3d98-f94f-47eb-839f-3ff93a888df3",
   "metadata": {
    "jp-MarkdownHeadingCollapsed": true
   },
   "source": [
    "# 3. 기초 - 값변환"
   ]
  },
  {
   "cell_type": "code",
   "execution_count": 31,
   "id": "e99cedf5-3875-4eb3-a4ca-8dca503aad5b",
   "metadata": {},
   "outputs": [
    {
     "name": "stdin",
     "output_type": "stream",
     "text": [
      " 123 123\n"
     ]
    },
    {
     "name": "stdout",
     "output_type": "stream",
     "text": [
      "246\n"
     ]
    }
   ],
   "source": [
    "#025\n",
    "# 정수 2개를 입력받아\n",
    "# 합을 출력하는 프로그램을 작성해보자.\n",
    "\n",
    "# 예시\n",
    "# a, b = input().split()\n",
    "# c = int(a) + int(b)\n",
    "# print(c)\n",
    "\n",
    "# 참고\n",
    "# 입력되는 값은 기본적으로 문자열로 인식된다.\n",
    "\n",
    "# 문자열 + 문자열은 두 문자열을 합친 문자열을 만든다.\n",
    "# 숫자로 구성된 문자열이나 실수를 정수(integer) 값으로 바꾸기 위해서는 int( ) 를 사용할 수 있다.\n",
    "# 수 + 수의 결과는 합(addition)이 계산된다.\n",
    "s1, s2 = input().split()\n",
    "result = int(s1) + int(s2)\n",
    "print(result)"
   ]
  },
  {
   "cell_type": "code",
   "execution_count": 35,
   "id": "9251c8a0-b85b-44b0-8e17-78aa8cf54b6e",
   "metadata": {},
   "outputs": [
    {
     "name": "stdin",
     "output_type": "stream",
     "text": [
      " 3.4\n",
      " 2.5\n"
     ]
    },
    {
     "name": "stdout",
     "output_type": "stream",
     "text": [
      "5.9\n"
     ]
    }
   ],
   "source": [
    "# #026 \n",
    "# 실수 2개를 입력받아\n",
    "# 합을 출력하는 프로그램을 작성해보자.\n",
    "\n",
    "# 참고\n",
    "# 입력되는 값은 기본적으로 문자열로 인식된다.\n",
    "\n",
    "# 숫자로 구성된 문자열이나 정수를 실수(real number) 값으로 바꾸기 위해서는 float( ) 를 사용할 수 있다.\n",
    "# 소숫점(.)은 그 위치가 정해져있지 않고 이리저리 둥둥 떠다니므로, floating point라고 부른다.\n",
    "\n",
    "s1 = input()\n",
    "s2 = input()\n",
    "c = float(s1) + float(s2)\n",
    "print(c)"
   ]
  },
  {
   "cell_type": "markdown",
   "id": "7beff84a-4c33-4361-aa59-80facd4ec5d1",
   "metadata": {},
   "source": [
    "# 4. 기초 - 출력변환"
   ]
  },
  {
   "cell_type": "code",
   "execution_count": 43,
   "id": "2b4673ec-3f68-46bd-9df7-ff00f2e70a70",
   "metadata": {},
   "outputs": [
    {
     "name": "stdin",
     "output_type": "stream",
     "text": [
      " 255\n"
     ]
    },
    {
     "name": "stdout",
     "output_type": "stream",
     "text": [
      "ff\n"
     ]
    }
   ],
   "source": [
    "#027 \n",
    "# 10진수를 입력받아 16진수(hexadecimal)로 출력해보자.\n",
    "\n",
    "# 예시\n",
    "# a = input()\n",
    "# n = int(a)            #입력된 a를 10진수 값으로 변환해 변수 n에 저장\n",
    "# print('%x'% n)  #n에 저장되어있는 값을 16진수(hexadecimal) 소문자 형태 문자열로 출력\n",
    "\n",
    "# 참고\n",
    "# 10진수 형태로 입력받고\n",
    "# %x로 출력하면 16진수(hexadecimal) 소문자로 출력된다.\n",
    "# (%o로 출력하면 8진수(octal) 문자열로 출력된다.)\n",
    "\n",
    "# 10진법은 한 자리에 10개(0 1 2 3 4 5 6 7 8 9)의 문자를 사용하고,\n",
    "# 16진법은 영문 소문자를 사용하는 경우에 한 자리에 16개(0 1 2 3 4 5 6 7 8 9 a b c d e f)의 문자를 사용한다.\n",
    "# 16진수 a는 10진수의 10, b는 11, c는 12 ... 와 같다.\n",
    "a = input()\n",
    "n = int(a)           \n",
    "print('%x'% n) \n",
    "\n"
   ]
  },
  {
   "cell_type": "code",
   "execution_count": 3,
   "id": "e3cda05b-1450-4694-b013-6e0b87c13a5f",
   "metadata": {},
   "outputs": [
    {
     "name": "stdin",
     "output_type": "stream",
     "text": [
      " 255\n"
     ]
    },
    {
     "name": "stdout",
     "output_type": "stream",
     "text": [
      "FF\n"
     ]
    }
   ],
   "source": [
    "#028\n",
    "\n",
    "# 10진수를 입력받아 16진수(hexadecimal)로 출력해보자.\n",
    "\n",
    "# 예시\n",
    "# print('%X' % n)  #n에 저장되어있는 값을 16진수 대문자 형태 문자열로 출력\n",
    "\n",
    "# 참고\n",
    "# 10진수 형태로 입력받고\n",
    "# %X로 출력하면 16진수(hexadecimal)대문자로 출력된다.\n",
    "\n",
    "# 16진법은 영문 소문자를 사용하는 경우에 한 자리에 16개(0 1 2 3 4 5 6 7 8 9 A B C D E F)의 문자를 사용한다.\n",
    "# 16진수 A는 10진수의 10, B는 11, C는 12 ... 와 같다.\n",
    "\n",
    "a = input()\n",
    "n = int(a)\n",
    "print('%X' % n) "
   ]
  },
  {
   "cell_type": "code",
   "execution_count": 4,
   "id": "f7e221bb-4b1a-447b-9da0-f377e1d1a7e3",
   "metadata": {},
   "outputs": [
    {
     "name": "stdin",
     "output_type": "stream",
     "text": [
      " f\n"
     ]
    },
    {
     "name": "stdout",
     "output_type": "stream",
     "text": [
      "17\n"
     ]
    }
   ],
   "source": [
    "# #029\n",
    "# 16진수를 입력받아 8진수(octal)로 출력해보자.\n",
    "\n",
    "# 예시\n",
    "# a = input()\n",
    "# n = int(a, 16)      #입력된 a를 16진수로 인식해 변수 n에 저장\n",
    "# print('%o' % n)  #n에 저장되어있는 값을 8진수(octal) 형태 문자열로 출력\n",
    "\n",
    "# 참고\n",
    "# 8진법은 한 자리에 8개(0 1 2 3 4 5 6 7)의 문자를 사용한다.\n",
    "# 8진수 10은 10진수의 8, 11은 9, 12는 10 ... 와 같다.\n",
    "\n",
    "a = input()\n",
    "n = int(a, 16)\n",
    "print('%o' % n)\n"
   ]
  },
  {
   "cell_type": "markdown",
   "id": "349bdabb-6fff-441b-83b8-ffc5c3aa05f9",
   "metadata": {},
   "source": [
    "- ord() : 어떤 문자의 순서 위치(ordinal position) 값\n",
    "- ord(c) : 문자 c를 10진수로 변환한 값\n"
   ]
  },
  {
   "cell_type": "code",
   "execution_count": 5,
   "id": "89686041-831d-48f2-b7fb-66729123a96a",
   "metadata": {},
   "outputs": [
    {
     "name": "stdin",
     "output_type": "stream",
     "text": [
      " A\n"
     ]
    },
    {
     "name": "stdout",
     "output_type": "stream",
     "text": [
      "65\n"
     ]
    }
   ],
   "source": [
    "# #30\n",
    "\n",
    "# 영문자 1개를 입력받아 10진수 유니코드(Unicode) 값으로 출력해보자.\n",
    "\n",
    "# 예시\n",
    "# n = ord(input())\n",
    "# print(n)\n",
    "\n",
    "# 참고\n",
    "# n = ord(input())  #입력받은 문자를 10진수 유니코드 값으로 변환한 후, n에 저장한다.\n",
    "\n",
    "# ord( ) 는 어떤 문자의 순서 위치(ordinal position) 값을 의미한다.  \n",
    "# 실제로 각각의 문자들에는 연속된 정수 값이 순서에 따라 부여 되어 있다. A:65, B:66, C:67 .... \n",
    "# ord(c) : 문자 c 를 10진수로 변환한 값 \n",
    "\n",
    "# 컴퓨터로 저장되고 처리되는 모든 데이터들은 2진수 형태로 정수화 되어야 하는데,\n",
    "# 컴퓨터에 문자를 저장하는 방법으로 아스키코드(ASCII Code)나 유니코드(Unicode)가 자주 사용된다.\n",
    "\n",
    "# 예를 들어, 영문 대문자 'A'는 10진수 값 65 로 표현하고, \n",
    "# 2진수(binary digit) 값 1000001 로 바꾸어 컴퓨터 내부에 저장한다. \n",
    "\n",
    "# 유니코드(unicode)는 세계 여러 나라의 문자를 공통된 코드 값으로 저장할 때 사용하는 표준 코드이다.\n",
    "n = input()\n",
    "print(ord(n))"
   ]
  },
  {
   "cell_type": "code",
   "execution_count": 8,
   "id": "7c56778e-2cec-4f32-913e-f7c155113658",
   "metadata": {},
   "outputs": [
    {
     "name": "stdin",
     "output_type": "stream",
     "text": [
      " 65\n"
     ]
    },
    {
     "name": "stdout",
     "output_type": "stream",
     "text": [
      "A\n"
     ]
    }
   ],
   "source": [
    "# #31\n",
    "# 10진 정수 1개를 입력받아\n",
    "# 유니코드 문자로 출력해보자.\n",
    "\n",
    "\n",
    "# 예시\n",
    "# c = int(input())\n",
    "# print(chr(c))  #c에 저장되어 있는 정수 값을 유니코드 문자(chracter)로 바꿔 출력한다. \n",
    "\n",
    "\n",
    "# 참고\n",
    "# 입력은 기본적으로 모두 문자열로 입력되는 것이라고 할 수 있다. \n",
    "# 따라서, 입력 값이 문자/문자열/정수/실수인지에 따라서 먼저 정확하게 변환시킨 다음에 사용하거나 계산하는 것이 좋다.\n",
    "\n",
    "# 예를 들어 123 이 입력 되었다고 한다면, 이건 정수일까? 문자열일까?\n",
    "# 조금 생각해보면, 입력된 것만 보고는 그 값이 어떤 데이터인지 알 수 없다는 것을 쉽게 이해할 수 있다.\n",
    "# 따라서, 그 입력 값을 어떻게 해석하고 변환할 지에 대해서 명확하게 작성해 주어야 하는 것이다. \n",
    "\n",
    "# chr( )는 정수값->문자, ord( )는 문자->정수값 형태로 바꿔주는 서로 반대 방향으로 바꾸어 주는 기능을 한다.\n",
    "\n",
    "n = int(input())\n",
    "print(chr(n))"
   ]
  },
  {
   "cell_type": "markdown",
   "id": "9fb4beaf-5743-4f00-b8af-7d494fa83ad2",
   "metadata": {},
   "source": [
    "# 5. 기초 - 산술연산"
   ]
  },
  {
   "cell_type": "code",
   "execution_count": 9,
   "id": "db5d527d-32de-4355-b95b-21d578036aa5",
   "metadata": {},
   "outputs": [
    {
     "name": "stdin",
     "output_type": "stream",
     "text": [
      " 3\n"
     ]
    },
    {
     "name": "stdout",
     "output_type": "stream",
     "text": [
      "-3\n"
     ]
    }
   ],
   "source": [
    "# #032\n",
    "# 입력된 정수의 부호를 바꿔 출력해보자.\n",
    "\n",
    "\n",
    "# 예시 \n",
    "# ... \n",
    "# print(-n) \n",
    "\n",
    "# 참고 \n",
    "# 단항(unary) 연산자인 -(negative)를 변수 앞에 붙이면 부호가 반대인 값이 된다. \n",
    "n = int(input())\n",
    "print(-n)\n"
   ]
  },
  {
   "cell_type": "code",
   "execution_count": 19,
   "id": "47cca2bf-a4d4-40c9-8c8f-509ccb4c599c",
   "metadata": {},
   "outputs": [
    {
     "name": "stdin",
     "output_type": "stream",
     "text": [
      " h\n"
     ]
    },
    {
     "name": "stdout",
     "output_type": "stream",
     "text": [
      "i\n"
     ]
    }
   ],
   "source": [
    "# #033\n",
    "# 문자 1개를 입력받아 그 다음 문자를 출력해보자.\n",
    "# 영문자 'A'의 다음 문자는 'B'이고, 숫자 '0'의 다음 문자는 '1'이다.\n",
    "\n",
    "# 예시\n",
    "# ...\n",
    "# print(chr(n+1))\n",
    "\n",
    "# 참고\n",
    "# 숫자는 수를 표현하는 문자로서 '0' 은 문자 그 자체를 의미하고, 0은 값을 의미한다.\n",
    "\n",
    "# 힌트\n",
    "# 아스키문자표에서 'A'는 10진수 65로 저장되고 'B'는 10진수 66으로 저장된다.\n",
    "# 따라서, 문자도 값으로 덧셈을 할 수 있다. 어떤 문자의 값에 1을 더하면 그 다음 문자의 값이 된다.\n",
    "\n",
    "c = input()\n",
    "print(chr(ord(c)+1))"
   ]
  },
  {
   "cell_type": "code",
   "execution_count": 32,
   "id": "0e328f50-25af-4841-af48-9b08900e516f",
   "metadata": {},
   "outputs": [
    {
     "name": "stdin",
     "output_type": "stream",
     "text": [
      " 3 2\n"
     ]
    },
    {
     "name": "stdout",
     "output_type": "stream",
     "text": [
      "1\n"
     ]
    }
   ],
   "source": [
    "# <!-- #034\n",
    "# 정수 2개(a, b)를 입력받아 a에서 b를 뺀 차를 출력하는 프로그램을 작성해보자.\n",
    "\n",
    "# 예시\n",
    "# ...\n",
    "# c = a - b\n",
    "# print(c)\n",
    "\n",
    "# 참고\n",
    "# 수 - 수는 차(subtraction)가 계산된다.\n",
    " \n",
    "\n",
    "# 입력 -->\n",
    "\n",
    "a, b = map(int, input().split())\n",
    "c = a-b\n",
    "print(c)\n"
   ]
  },
  {
   "cell_type": "code",
   "execution_count": 33,
   "id": "50691696-c508-4ecd-ac90-0e31aa7ef879",
   "metadata": {},
   "outputs": [
    {
     "name": "stdin",
     "output_type": "stream",
     "text": [
      " 3.2 4.4\n"
     ]
    },
    {
     "name": "stdout",
     "output_type": "stream",
     "text": [
      "14.080000000000002\n"
     ]
    }
   ],
   "source": [
    "# #035\n",
    "# 실수 2개(f1, f2)를 입력받아 곱을 출력하는 프로그램을 작성해보자.\n",
    "\n",
    "# 예시\n",
    "# ...\n",
    "# m = f1 * f2\n",
    "# print(m)\n",
    "\n",
    "# 참고\n",
    "# 수 * 수는 곱(multiplication)이 계산된다.\n",
    "\n",
    "f1, f2 = map(float, input().split())\n",
    "m = f1 * f2\n",
    "print(m)"
   ]
  },
  {
   "cell_type": "code",
   "execution_count": 36,
   "id": "ead26099-aaeb-43db-9f32-66a8c9caa27b",
   "metadata": {},
   "outputs": [
    {
     "name": "stdin",
     "output_type": "stream",
     "text": [
      " love 3\n"
     ]
    },
    {
     "name": "stdout",
     "output_type": "stream",
     "text": [
      "lovelovelove\n"
     ]
    }
   ],
   "source": [
    "# #036\n",
    "# 단어와 반복 횟수를 입력받아 여러 번 출력해보자.\n",
    "\n",
    "# 예시\n",
    "# w, n = input().split()\n",
    "# print(w*int(n))\n",
    "\n",
    "# 참고\n",
    "# 문자열 * 정수 또는 정수 * 문자열은 그 문자열을 여러 번 반복한 문자열을 만들어 준다.\n",
    "\n",
    "word, num = input().split()\n",
    "print(word * int(num))"
   ]
  },
  {
   "cell_type": "code",
   "execution_count": 37,
   "id": "12903850-41c7-409e-a1ff-4feeebb18349",
   "metadata": {},
   "outputs": [
    {
     "name": "stdin",
     "output_type": "stream",
     "text": [
      " 3\n",
      " i love ct\n"
     ]
    },
    {
     "name": "stdout",
     "output_type": "stream",
     "text": [
      "i love cti love cti love ct\n"
     ]
    }
   ],
   "source": [
    "# #037\n",
    "# 반복 횟수와 문장을 입력받아 여러 번 출력해보자.\n",
    "\n",
    "# 예시\n",
    "# n = input()\n",
    "# s = input()\n",
    "# print(int(n)*s)\n",
    "\n",
    "# 참고\n",
    "# 문자열 * 정수 또는 정수 * 문자열은 그 문자열을 여러 번 반복한 문자열을 만들어 준다.\n",
    "\n",
    "n = input()\n",
    "s = input()\n",
    "print(int(n) * s)"
   ]
  },
  {
   "cell_type": "code",
   "execution_count": 40,
   "id": "b8c8ed44-4bab-45b0-813e-a860aed1d8b6",
   "metadata": {},
   "outputs": [
    {
     "name": "stdin",
     "output_type": "stream",
     "text": [
      " 3 4\n"
     ]
    },
    {
     "name": "stdout",
     "output_type": "stream",
     "text": [
      "81\n"
     ]
    }
   ],
   "source": [
    "#038\n",
    "# 정수 2개(a, b)를 입력받아\n",
    "# a를 b번 곱한 거듭제곱을 출력하는 프로그램을 작성해보자.\n",
    "\n",
    "# 예시\n",
    "# ...\n",
    "# c = a**b\n",
    "# print(c)\n",
    "\n",
    "# 참고\n",
    "# python 언어에서는 거듭제곱을 계산하는 연산자(**)를 제공한다.\n",
    "# 일반적으로 수학 식에서 거듭제곱을 표현하는 사용하는 서컴플렉스/케릿 기호(^)는 프로그래밍언어에서 다른 의미로 쓰인다.\n",
    "\n",
    "a, b = map(int, input().split())\n",
    "c = a ** b\n",
    "print(c)"
   ]
  },
  {
   "cell_type": "code",
   "execution_count": 41,
   "id": "fda13ed9-3ee9-47c3-99a0-d9600395ac3f",
   "metadata": {},
   "outputs": [
    {
     "name": "stdin",
     "output_type": "stream",
     "text": [
      " 4.0 2\n"
     ]
    },
    {
     "name": "stdout",
     "output_type": "stream",
     "text": [
      "16.0\n"
     ]
    }
   ],
   "source": [
    "# #039\n",
    "# 실수 2개(f1, f2)를 입력받아\n",
    "# f1을 f2번 거듭제곱한 값을 출력하는 프로그램을 작성해보자.\n",
    "\n",
    "# 참고\n",
    "# python 언어에서는 거듭제곱(exponentiation)을 계산하는 연산자(**)를 제공한다.\n",
    "# 일반적으로 수학 식에서 거듭제곱을 표현하는 사용하는 서컴플렉스/케릿 기호(^)는 프로그래밍언어에서 다른 의미로 쓰인다.\n",
    "\n",
    "f1, f2 = map(float, input().split())\n",
    "m = f1 ** f2\n",
    "print(m)"
   ]
  },
  {
   "cell_type": "code",
   "execution_count": 42,
   "id": "ff580b66-19b6-44e3-988b-97e8ef153e52",
   "metadata": {},
   "outputs": [
    {
     "name": "stdin",
     "output_type": "stream",
     "text": [
      " 10 3\n"
     ]
    },
    {
     "name": "stdout",
     "output_type": "stream",
     "text": [
      "3\n"
     ]
    }
   ],
   "source": [
    "# #040\n",
    "# 정수 2개(a, b) 를 입력받아 a를 b로 나눈 몫을 출력해보자.\n",
    "\n",
    "# 예시\n",
    "# ...\n",
    "# print(a//b)\n",
    "\n",
    "# 참고\n",
    "# python언어에서는 나눈 몫을 계산하는 연산자(//, floor division)를 제공한다.\n",
    "# a//b 와 같이 작성하면, a를 b로 나눈 몫(quotient)을 계산해준다.\n",
    "# 프로그래밍언어에 따라 이렇게 몫을 계산해주는 연산자가 없는 경우도 있다.\n",
    "\n",
    "# 실수로 나눈 몫이 어떻게 계산될지도 생각해보자.\n",
    "a, b = map(int, input().split())\n",
    "c = a//b\n",
    "print(c)"
   ]
  },
  {
   "cell_type": "code",
   "execution_count": 2,
   "id": "c4779e0c-4bc3-4fea-a2a6-b49a37f25a76",
   "metadata": {},
   "outputs": [
    {
     "name": "stdin",
     "output_type": "stream",
     "text": [
      " 3.141592\n"
     ]
    },
    {
     "name": "stdout",
     "output_type": "stream",
     "text": [
      "3.14\n"
     ]
    }
   ],
   "source": [
    "#042\n",
    "# 실수 1개를 입력받아\n",
    "# 소숫점 이하 두 번째 자리까지의 정확도로 반올림한 값을 출력해보자.\n",
    "\n",
    "\n",
    "# 예시\n",
    "\n",
    "# a=input()\n",
    "# a=float(a)\n",
    "# print( format(a, \".2f\") )\n",
    "\n",
    "\n",
    "# 참고\n",
    "# format(수, \".2f\") 를 사용하면 원하는 자리까지의 정확도로 반올림 된 실수 값을 만들어 준다. \n",
    "\n",
    "# 여기서 만들어진 값은 소수점 아래 3번째 자리에서 반올림한 값이다.\n",
    "\n",
    "# 컴퓨터 프로그래밍에서 실수 변환이나 실수를 사용하는 계산은\n",
    "# 정확하게 변환되거나 계산되는 것이 아니라, 거의 모두 근사값으로 계산되는 것이라고 할 수 있다. \n",
    "\n",
    "# 실수가 컴퓨터로 저장되기 위해서는 디지털방식으로 2진 정수화되어 저장되어야 하는데,\n",
    "# 그 과정에서 아주 작은 부분이 저장되지 않고 사라지는 잘림(truncation) 오차가 자주 발생하기 때문이다.\n",
    "\n",
    "a = input()\n",
    "a = float(a)\n",
    "print(format(a, \".2f\"))"
   ]
  },
  {
   "cell_type": "code",
   "execution_count": null,
   "id": "60b4ff70-f960-4cdc-b015-ba596b2011a6",
   "metadata": {},
   "outputs": [],
   "source": []
  }
 ],
 "metadata": {
  "kernelspec": {
   "display_name": "Python (base)",
   "language": "python",
   "name": "base"
  },
  "language_info": {
   "codemirror_mode": {
    "name": "ipython",
    "version": 3
   },
   "file_extension": ".py",
   "mimetype": "text/x-python",
   "name": "python",
   "nbconvert_exporter": "python",
   "pygments_lexer": "ipython3",
   "version": "3.9.12"
  }
 },
 "nbformat": 4,
 "nbformat_minor": 5
}
