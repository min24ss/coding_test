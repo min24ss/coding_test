{
 "cells": [
  {
   "cell_type": "markdown",
   "id": "187b8137-c409-4edb-b940-35b7656cedb6",
   "metadata": {
    "jp-MarkdownHeadingCollapsed": true
   },
   "source": [
    "## code up 100제 \n",
    "# 1.출력\n"
   ]
  },
  {
   "cell_type": "code",
   "execution_count": 1,
   "id": "9e19abfb-2224-4cec-8540-88363f7af0bb",
   "metadata": {},
   "outputs": [
    {
     "name": "stdout",
     "output_type": "stream",
     "text": [
      "Hello\n"
     ]
    }
   ],
   "source": [
    "# ## 001\n",
    "# python 언어에서 가장 기본적인 명령이 출력문이다.\n",
    "# print( )를 이용해 다음 단어를 출력하시오.\n",
    "\n",
    "# Hello\n",
    "\n",
    "# 참고\n",
    "# 아래와 같은 소스 코드를 작성하고 실행시키면,\n",
    "# 지정한 \"문장\"이 출력(print)된다.\n",
    "# print(\"문장\") \n",
    "\n",
    "print(\"Hello\")"
   ]
  },
  {
   "cell_type": "code",
   "execution_count": 3,
   "id": "d4183489-e80f-439f-a4cc-4ce7ee16ded0",
   "metadata": {},
   "outputs": [
    {
     "name": "stdout",
     "output_type": "stream",
     "text": [
      "Hello World\n"
     ]
    }
   ],
   "source": [
    "## 002\n",
    "# 이번에는 공백( )을 포함한 문장을 출력한다.\n",
    "# 다음 문장을 출력해보자.\n",
    "\n",
    "# Hello World\n",
    "# (대소문자에 주의한다.)\n",
    "\n",
    "# 참고\n",
    "# print(\"문장1 문장2\")\n",
    "# 을 실행시키면 \"문장1”, \"문장2\"가 공백( )을 사이에 두고 출력된다.\n",
    "# print(\"문장1\", \"문장2\")\n",
    "# 도 \"문장1\"과 \"문장2\" 사이에 공백( )을 출력한다.\n",
    "\n",
    "# ** 주의 : 본 화면에서 복사하여 붙여넣기하면 제대로 되지 않을 수 있으니 직접 소스코드를 작성해 넣어야 한다.\n",
    "\n",
    "print(\"Hello World\")"
   ]
  },
  {
   "cell_type": "code",
   "execution_count": 6,
   "id": "6b2a24e9-ac02-4e83-9d83-3111faa1568d",
   "metadata": {},
   "outputs": [
    {
     "name": "stdout",
     "output_type": "stream",
     "text": [
      "Hello\n",
      "World\n"
     ]
    }
   ],
   "source": [
    "## 003\n",
    "# Hello\n",
    "# World\n",
    "# (두 줄에 걸쳐 줄을 바꿔 출력)\n",
    "\n",
    "# 예시 \n",
    "# print(\"Hello\") \n",
    "# print(\"World\")\n",
    "\n",
    "# 참고\n",
    "# python의 기본 print( ) 를 이용해 출력하면 문장을 출력한 후 마지막에 줄을 바꾼다.(new line)\n",
    "# 출력 후 줄을 바꾸는 대신 스페이스( ) 공백을 붙이도록 설정하는 방법도 있다.\n",
    "\n",
    "# ** 주의 : 본 화면에서 복사하여 붙여넣기하면 제대로 되지 않을 수 있으니 직접 소스코드를 작성해 넣어야한다.\n",
    "\n",
    "print(\"Hello\\nWorld\")"
   ]
  },
  {
   "cell_type": "code",
   "execution_count": 9,
   "id": "6c7d84eb-36ce-4e26-b97c-333636a1c34f",
   "metadata": {},
   "outputs": [
    {
     "name": "stdout",
     "output_type": "stream",
     "text": [
      "'Hello'\n"
     ]
    }
   ],
   "source": [
    "## 004\n",
    "# 이번에는 작은 따옴표(')(single quotation mark)가 들어있는\n",
    "\n",
    "# 출력문 연습을 해보자.\n",
    "\n",
    "# 다음 문장을 출력하시오.\n",
    "# 'Hello'\n",
    "\n",
    "# 예시\n",
    "\n",
    "# print(\" ' \")\n",
    "\n",
    "\n",
    "# ** 주의 : 본 화면에서 복사하여 붙여넣기하면 제대로 되지 않을 수 있으니 직접 작성해야한다.\n",
    "\n",
    "print(\"'Hello'\")"
   ]
  },
  {
   "cell_type": "code",
   "execution_count": 11,
   "id": "75d7b922-4984-4e42-959f-797711133091",
   "metadata": {},
   "outputs": [
    {
     "name": "stdout",
     "output_type": "stream",
     "text": [
      "\"Hello World\"\n"
     ]
    }
   ],
   "source": [
    "## 005\n",
    "# 이번에는 큰따옴표(\")(double quotation mark)가 포함된 출력문을 연습해보자.\n",
    "\n",
    "# 다음 문장을 출력하시오.\n",
    "\n",
    "# \"Hello World\"\n",
    "# (단, 큰따옴표도 함께 출력한다.)\n",
    "\n",
    "# 예시\n",
    "# print(' \" ')\n",
    "\n",
    "# 참고\n",
    "# python 언어에서 print( ) 로 출력할 문장을 표현할 때 큰 따옴표 기호(\")로 묶어 표현한다. \n",
    "# 따라서, 큰따옴표 기호 그 자체를 출력하기 위해서는 다른 방법을 사용해야한다.\n",
    "# python 언어에서 문장(문자열)을 표현하는 기호로 \"와 '를 쌍으로 묶어 사용할 수 있다.\n",
    "# 따라서, 문장을 표현할 때 사용하는 큰따옴표(\"문장\") 기호 대신 작은따옴표('문장')를 사용하면 큰따옴표를 출력할 수 있다.\n",
    "# (물론, 큰따옴표를 출력하는 다른 방법도 있다.) \n",
    "\n",
    "# ** 주의 : 본 화면에서 복사하여 붙여넣기하면 제대로 되지 않을 수 있으니 직접 작성해야한다.\n",
    "print('\"Hello World\"')"
   ]
  },
  {
   "cell_type": "markdown",
   "id": "e976902a-dbe0-4511-b687-4786f6e8bb19",
   "metadata": {},
   "source": [
    "## 백슬래시 \n",
    "print('\\\"!@#$%^&*()\\'')\n"
   ]
  },
  {
   "cell_type": "code",
   "execution_count": 48,
   "id": "020d1e34-62fc-47cc-af00-26b78a49b78a",
   "metadata": {},
   "outputs": [
    {
     "name": "stdout",
     "output_type": "stream",
     "text": [
      "\"!@#$%^&*()'\n"
     ]
    }
   ],
   "source": [
    "# ## 006\n",
    "\n",
    "# 이번에는 특수문자 출력에 도전하자!!\n",
    "\n",
    "# 다음 문장을 출력하시오.\n",
    "\n",
    "# \"!@#$%^&*()'\n",
    "# (단, 큰따옴표와 작은따옴표도 함께 출력한다.)\n",
    "\n",
    " \n",
    "\n",
    "# 출력 형식에 필요한 따옴표와 출력할 문자인 따옴표를 구분하기 위하여\n",
    "\n",
    "# \\\" 또는 \\' 를 이용하여 출력할 수 있다.\n",
    "\n",
    "\n",
    "# ** 주의 : 본 화면에서 복사하여 붙여넣기하면 제대로 되지 않을 수 있으니 직접 작성해야한다.\n",
    "print('\\\"!@#$%^&*()\\'')\n"
   ]
  },
  {
   "cell_type": "code",
   "execution_count": 64,
   "id": "9391dc33-10bf-44ae-9aae-d0e210da59c0",
   "metadata": {},
   "outputs": [
    {
     "name": "stdout",
     "output_type": "stream",
     "text": [
      "\"C:\\Download\\'hello'.py\"\n"
     ]
    }
   ],
   "source": [
    "## 007\n",
    "# 윈도우 운영체제의 파일 경로를 출력하는 연습을 해보자.\n",
    " \n",
    "# 파일 경로에는 특수문자들이 포함된다.\n",
    "\n",
    "# 다음 경로를 출력하시오.\n",
    "\n",
    "# \"C:\\Download\\'hello'.py\"\n",
    "# (단, 따옴표도 함께 출력한다.)\n",
    "\n",
    " \n",
    "\n",
    "# \\도 안전하게 출력하려면 \\\\를 사용하는 것이 좋다.\n",
    "\n",
    "\n",
    "# ** 주의 : 본 화면에서 복사하여 붙여넣기하면 제대로 되지 않을 수 있으니 직접 작성해야한다.\n",
    "\n",
    "print('''\"C:\\\\Download\\\\'hello'.py\"''')"
   ]
  },
  {
   "cell_type": "code",
   "execution_count": 76,
   "id": "51c08656-089d-4738-96fd-5e591644103b",
   "metadata": {},
   "outputs": [
    {
     "name": "stdout",
     "output_type": "stream",
     "text": [
      "print(\"Hello\\nWorld\")\n"
     ]
    }
   ],
   "source": [
    "# ## 008\n",
    "# 출력문 연습의 마지막 문제이다.\n",
    "# (생각과 시도를 많이 해야하는 문제들은 한 두 문제씩 넘겼다가 나중에 풀어보면 된다.)\n",
    "\n",
    "# 이번에는 다음과 같은 python프로그램의 소스코드를 출력해보자.\n",
    "\n",
    "# print(\"Hello\\nWorld\")\n",
    "\n",
    "# 위 코드를 정확히 그대로 출력하시오.(공백문자 주의)\n",
    "\n",
    " \n",
    "\n",
    "# print 명령 안에 서식 문자로 \\n을 사용하면 줄 바꿈(new line) 문자로 사용된다.\n",
    "\n",
    "# 그렇다면 \\n을 화면에 그대로 출력하려면 어떻게 해야될까?\n",
    "\n",
    "# ** 주의 : 본 화면에서 복사하여 붙여넣기하면 제대로 되지 않을 수 있으니 직접 소스코드를 작성해 넣어야 한다.\n",
    "\n",
    "print('''print(\"Hello\\\\nWorld\")''')\n",
    "\n"
   ]
  },
  {
   "cell_type": "markdown",
   "id": "4405b553-3de9-4eb6-9939-1a92fa0f58b5",
   "metadata": {
    "jp-MarkdownHeadingCollapsed": true
   },
   "source": [
    "# 2. 입출력"
   ]
  },
  {
   "cell_type": "code",
   "execution_count": 79,
   "id": "e216dc2d-f3e3-4659-b48e-b4d62ea3672b",
   "metadata": {},
   "outputs": [
    {
     "name": "stdin",
     "output_type": "stream",
     "text": [
      " a\n"
     ]
    },
    {
     "name": "stdout",
     "output_type": "stream",
     "text": [
      "a\n"
     ]
    }
   ],
   "source": [
    "# ## 009\n",
    "# 문자(character)는\n",
    "# 0~9, a~z, A~Z, !, @, #, {, [, <, ... 과 같이 \n",
    "# 길이가 1인 기호라고 할 수 있다.\n",
    "\n",
    "# 변수에 문자 1개를 저장한 후\n",
    "# 변수에 저장되어 있는 문자를 그대로 출력해보자.\n",
    "\n",
    "# 예시\n",
    "# c = input()\n",
    "# print(c)\n",
    "\n",
    "# 와 같은 형태로 가능하다.\n",
    "\n",
    "c = input()\n",
    "print(c)\n"
   ]
  },
  {
   "cell_type": "code",
   "execution_count": 86,
   "id": "4503509c-d19a-425f-bc5d-dbd6816fffea",
   "metadata": {},
   "outputs": [
    {
     "ename": "KeyboardInterrupt",
     "evalue": "Interrupted by user",
     "output_type": "error",
     "traceback": [
      "\u001b[0;31m---------------------------------------------------------------------------\u001b[0m",
      "\u001b[0;31mKeyboardInterrupt\u001b[0m                         Traceback (most recent call last)",
      "Input \u001b[0;32mIn [86]\u001b[0m, in \u001b[0;36m<cell line: 16>\u001b[0;34m()\u001b[0m\n\u001b[1;32m      1\u001b[0m \u001b[38;5;66;03m# ## 010\u001b[39;00m\n\u001b[1;32m      2\u001b[0m \u001b[38;5;66;03m# 정수(integer)는\u001b[39;00m\n\u001b[1;32m      3\u001b[0m \u001b[38;5;66;03m# 양의 정수(1, 2, 3, 4, 5, ...), 음의 정수(-1, -2, -3, -4, -5, ...), 0 과 같이\u001b[39;00m\n\u001b[0;32m   (...)\u001b[0m\n\u001b[1;32m     14\u001b[0m \u001b[38;5;66;03m# 참고\u001b[39;00m\n\u001b[1;32m     15\u001b[0m \u001b[38;5;66;03m# input() 을 사용하면 키보드로 입력(input)한 값을 가져온다.\u001b[39;00m\n\u001b[0;32m---> 16\u001b[0m n \u001b[38;5;241m=\u001b[39m \u001b[38;5;28;43minput\u001b[39;49m\u001b[43m(\u001b[49m\u001b[43m)\u001b[49m\n\u001b[1;32m     17\u001b[0m n \u001b[38;5;241m=\u001b[39m \u001b[38;5;28mint\u001b[39m(n)\n\u001b[1;32m     18\u001b[0m \u001b[38;5;28mprint\u001b[39m(n)\n",
      "File \u001b[0;32m~/anaconda3/lib/python3.9/site-packages/ipykernel/kernelbase.py:1075\u001b[0m, in \u001b[0;36mKernel.raw_input\u001b[0;34m(self, prompt)\u001b[0m\n\u001b[1;32m   1071\u001b[0m \u001b[38;5;28;01mif\u001b[39;00m \u001b[38;5;129;01mnot\u001b[39;00m \u001b[38;5;28mself\u001b[39m\u001b[38;5;241m.\u001b[39m_allow_stdin:\n\u001b[1;32m   1072\u001b[0m     \u001b[38;5;28;01mraise\u001b[39;00m StdinNotImplementedError(\n\u001b[1;32m   1073\u001b[0m         \u001b[38;5;124m\"\u001b[39m\u001b[38;5;124mraw_input was called, but this frontend does not support input requests.\u001b[39m\u001b[38;5;124m\"\u001b[39m\n\u001b[1;32m   1074\u001b[0m     )\n\u001b[0;32m-> 1075\u001b[0m \u001b[38;5;28;01mreturn\u001b[39;00m \u001b[38;5;28;43mself\u001b[39;49m\u001b[38;5;241;43m.\u001b[39;49m\u001b[43m_input_request\u001b[49m\u001b[43m(\u001b[49m\n\u001b[1;32m   1076\u001b[0m \u001b[43m    \u001b[49m\u001b[38;5;28;43mstr\u001b[39;49m\u001b[43m(\u001b[49m\u001b[43mprompt\u001b[49m\u001b[43m)\u001b[49m\u001b[43m,\u001b[49m\n\u001b[1;32m   1077\u001b[0m \u001b[43m    \u001b[49m\u001b[38;5;28;43mself\u001b[39;49m\u001b[38;5;241;43m.\u001b[39;49m\u001b[43m_parent_ident\u001b[49m\u001b[43m[\u001b[49m\u001b[38;5;124;43m\"\u001b[39;49m\u001b[38;5;124;43mshell\u001b[39;49m\u001b[38;5;124;43m\"\u001b[39;49m\u001b[43m]\u001b[49m\u001b[43m,\u001b[49m\n\u001b[1;32m   1078\u001b[0m \u001b[43m    \u001b[49m\u001b[38;5;28;43mself\u001b[39;49m\u001b[38;5;241;43m.\u001b[39;49m\u001b[43mget_parent\u001b[49m\u001b[43m(\u001b[49m\u001b[38;5;124;43m\"\u001b[39;49m\u001b[38;5;124;43mshell\u001b[39;49m\u001b[38;5;124;43m\"\u001b[39;49m\u001b[43m)\u001b[49m\u001b[43m,\u001b[49m\n\u001b[1;32m   1079\u001b[0m \u001b[43m    \u001b[49m\u001b[43mpassword\u001b[49m\u001b[38;5;241;43m=\u001b[39;49m\u001b[38;5;28;43;01mFalse\u001b[39;49;00m\u001b[43m,\u001b[49m\n\u001b[1;32m   1080\u001b[0m \u001b[43m\u001b[49m\u001b[43m)\u001b[49m\n",
      "File \u001b[0;32m~/anaconda3/lib/python3.9/site-packages/ipykernel/kernelbase.py:1120\u001b[0m, in \u001b[0;36mKernel._input_request\u001b[0;34m(self, prompt, ident, parent, password)\u001b[0m\n\u001b[1;32m   1117\u001b[0m             \u001b[38;5;28;01mbreak\u001b[39;00m\n\u001b[1;32m   1118\u001b[0m \u001b[38;5;28;01mexcept\u001b[39;00m \u001b[38;5;167;01mKeyboardInterrupt\u001b[39;00m:\n\u001b[1;32m   1119\u001b[0m     \u001b[38;5;66;03m# re-raise KeyboardInterrupt, to truncate traceback\u001b[39;00m\n\u001b[0;32m-> 1120\u001b[0m     \u001b[38;5;28;01mraise\u001b[39;00m \u001b[38;5;167;01mKeyboardInterrupt\u001b[39;00m(\u001b[38;5;124m\"\u001b[39m\u001b[38;5;124mInterrupted by user\u001b[39m\u001b[38;5;124m\"\u001b[39m) \u001b[38;5;28;01mfrom\u001b[39;00m \u001b[38;5;28mNone\u001b[39m\n\u001b[1;32m   1121\u001b[0m \u001b[38;5;28;01mexcept\u001b[39;00m \u001b[38;5;167;01mException\u001b[39;00m:\n\u001b[1;32m   1122\u001b[0m     \u001b[38;5;28mself\u001b[39m\u001b[38;5;241m.\u001b[39mlog\u001b[38;5;241m.\u001b[39mwarning(\u001b[38;5;124m\"\u001b[39m\u001b[38;5;124mInvalid Message:\u001b[39m\u001b[38;5;124m\"\u001b[39m, exc_info\u001b[38;5;241m=\u001b[39m\u001b[38;5;28;01mTrue\u001b[39;00m)\n",
      "\u001b[0;31mKeyboardInterrupt\u001b[0m: Interrupted by user"
     ]
    }
   ],
   "source": [
    "# ## 010\n",
    "# 정수(integer)는\n",
    "# 양의 정수(1, 2, 3, 4, 5, ...), 음의 정수(-1, -2, -3, -4, -5, ...), 0 과 같이\n",
    "# 소숫점 아래에 수가 없는 수라고 할 수 있다.\n",
    "\n",
    "# 변수에 정수값을 저장한 후 정수로 변환하여 출력해보자.\n",
    "\n",
    "# 예시\n",
    "# n = input()\n",
    "# n = int(n)\n",
    "# print(n)\n",
    "# 와 같은 형태로 가능하다.\n",
    "\n",
    "# 참고\n",
    "# input() 을 사용하면 키보드로 입력(input)한 값을 가져온다.\n",
    "n = input()\n",
    "n = int(n)\n",
    "print(n)"
   ]
  },
  {
   "cell_type": "code",
   "execution_count": 87,
   "id": "65444441-5d99-4ab5-add7-aff0c71f312d",
   "metadata": {},
   "outputs": [
    {
     "name": "stdin",
     "output_type": "stream",
     "text": [
      " 3.8\n"
     ]
    },
    {
     "name": "stdout",
     "output_type": "stream",
     "text": [
      "3.8\n"
     ]
    }
   ],
   "source": [
    "# ## 011\n",
    "# 숫자(0~9)와 소수점(.)을 사용해 표현한 수를 실수(real number)라고 한다.\n",
    "\n",
    "# 변수에 실수값을 저장한 후\n",
    "# 변수에 저장되어 있는 값을 그대로 출력해보자.\n",
    "\n",
    "# 예시\n",
    "# f = input()\n",
    "# f = float(f)\n",
    "# print(f)\n",
    "# 와 같은 형태로 가능하다.\n",
    "\n",
    "f = input()\n",
    "f = float(f)\n",
    "print(f)\n"
   ]
  },
  {
   "cell_type": "code",
   "execution_count": 100,
   "id": "40f253fb-5e25-4518-be49-863e1a6e4e82",
   "metadata": {},
   "outputs": [
    {
     "name": "stdin",
     "output_type": "stream",
     "text": [
      " 3\n",
      " 5\n"
     ]
    },
    {
     "name": "stdout",
     "output_type": "stream",
     "text": [
      "3\n",
      "5\n"
     ]
    }
   ],
   "source": [
    "# ## 012\n",
    "# 줄을 바꿔 정수(integer) 2개를 입력받아 줄을 바꿔 출력해보자.\n",
    "\n",
    "# 예시\n",
    "# a = input() \n",
    "# b = input()\n",
    "# a=int(a)\n",
    "# b=int(b)\n",
    "# print(a)\n",
    "# print(b)\n",
    "# 과 같은 방법으로 가능하다.\n",
    "\n",
    "a = input() \n",
    "b = input()\n",
    "a=int(a)\n",
    "b=int(b)\n",
    "print(a)\n",
    "print(b)"
   ]
  },
  {
   "cell_type": "code",
   "execution_count": 109,
   "id": "c849fb70-5922-412f-b443-f2845d15a85d",
   "metadata": {},
   "outputs": [
    {
     "name": "stdin",
     "output_type": "stream",
     "text": [
      " 3\n",
      " 4\n"
     ]
    },
    {
     "name": "stdout",
     "output_type": "stream",
     "text": [
      "4\n",
      "3\n"
     ]
    }
   ],
   "source": [
    "# 013\n",
    "#줄을 바꿔 문자(character) 2개를 입력받고, 순서를 바꿔 한 줄씩 출력해보자.\n",
    "\n",
    "a = input()\n",
    "b = input()\n",
    "\n",
    "temp = a\n",
    "a= b\n",
    "b= temp\n",
    "\n",
    "print(a)\n",
    "print(b)\n"
   ]
  },
  {
   "cell_type": "code",
   "execution_count": 116,
   "id": "78a2b2c5-548d-486b-99e9-a92c558445b9",
   "metadata": {},
   "outputs": [
    {
     "name": "stdin",
     "output_type": "stream",
     "text": [
      " 3.2\n"
     ]
    },
    {
     "name": "stdout",
     "output_type": "stream",
     "text": [
      "3.2\n",
      "3.2\n",
      "3.2\n"
     ]
    }
   ],
   "source": [
    "# ## 014\n",
    "# 실수(real number) 1개를 입력받아 줄을 바꿔 3번 출력해보자.\n",
    "\n",
    "# 예시\n",
    "# ...\n",
    "# print(f)  #f에 저장되어있는 값을 출력하고 줄을 바꾼다.\n",
    "# print(f)\n",
    "# print(f)\n",
    "# 와 같은 방법으로 3번 줄을 바꿔 출력할 수 있다.\n",
    "f = float(input())\n",
    "print(f)\n",
    "print(f)\n",
    "print(f)"
   ]
  },
  {
   "cell_type": "code",
   "execution_count": 129,
   "id": "bd756d61-beeb-4c30-9e20-79377d4750bc",
   "metadata": {},
   "outputs": [
    {
     "name": "stdin",
     "output_type": "stream",
     "text": [
      " 3 4\n"
     ]
    },
    {
     "name": "stdout",
     "output_type": "stream",
     "text": [
      "3\n",
      "4\n"
     ]
    }
   ],
   "source": [
    "#015\n",
    "#공백을 두고 입력된정수(integer) 2개를 입력받아 줄을 바꿔 출력해보자.\n",
    "\n",
    "# 예시\n",
    "# a, b = input().split()\n",
    "# a=int(a)\n",
    "# b=int(b)\n",
    "# print(a)\n",
    "# print(b)\n",
    "# 과 같은 방법으로 두 정수를 입력받아 출력할 수 있다.\n",
    "\n",
    "a, b = map(int,input().split())\n",
    "print(a)\n",
    "print(b)"
   ]
  },
  {
   "cell_type": "code",
   "execution_count": 135,
   "id": "2596ece9-5d57-4645-ae0f-ded93ac0be25",
   "metadata": {},
   "outputs": [
    {
     "name": "stdin",
     "output_type": "stream",
     "text": [
      " a b\n"
     ]
    },
    {
     "name": "stdout",
     "output_type": "stream",
     "text": [
      "b a\n"
     ]
    }
   ],
   "source": [
    "# ## 016\n",
    "# 공백을 두고 문자(character) 2개를 입력받아 순서를 바꿔 출력해보자.\n",
    "\n",
    "# 참고\n",
    "# ...\n",
    "# print(c2, c1)\n",
    "# 와 같은 방법으로 출력하면, c1과 c2에 저장된 값이 공백을 두고 순서가 바뀌어 한 줄로 출력된다.\n",
    "# print( ) 안에서 쉼표(,)를 찍어 순서대로 나열하면, 그 순서대로 공백을 두고 출력된다.\n",
    "a, b = input().split()\n",
    "temp = a\n",
    "a= b\n",
    "b = temp\n",
    "print(a, b)"
   ]
  },
  {
   "cell_type": "code",
   "execution_count": 136,
   "id": "e6c0a388-4036-4677-bd92-185604a85fa2",
   "metadata": {},
   "outputs": [
    {
     "name": "stdin",
     "output_type": "stream",
     "text": [
      " computer science\n"
     ]
    },
    {
     "name": "stdout",
     "output_type": "stream",
     "text": [
      "computer science computer science computer science\n"
     ]
    }
   ],
   "source": [
    "# ## 017\n",
    "\n",
    "# 정수(integer), 실수, 문자(character), 문자열(string) 등 1개만 입력받아 한 줄로 3번 출력해보자.\n",
    "\n",
    "# 예시\n",
    "# s = input()\n",
    "# print(s, s, s)  #공백으로 구분해 한 줄로 출력한다.\n",
    "# 와 같은 방법으로 3번 출력할 수 있다.\n",
    "\n",
    "s = input()\n",
    "print(s, s, s)"
   ]
  },
  {
   "cell_type": "code",
   "execution_count": 138,
   "id": "6dd2a38f-c8f1-43b5-8006-73fc3ff09330",
   "metadata": {},
   "outputs": [
    {
     "name": "stdin",
     "output_type": "stream",
     "text": [
      " 3:4\n"
     ]
    },
    {
     "name": "stdout",
     "output_type": "stream",
     "text": [
      "3:4\n"
     ]
    }
   ],
   "source": [
    "# # 018\n",
    "# 24시간 시:분 형식으로 시간이 입력될 때, 그대로 출력하는 연습을 해보자.\n",
    "\n",
    "# 예시\n",
    "# a, b = input().split(':')\n",
    "# print(a, b, sep=':')\n",
    "# 와 같은 방법으로 가능하다.\n",
    "\n",
    "a, b = input().split(\":\")\n",
    "print(a, b, sep = \":\")"
   ]
  },
  {
   "cell_type": "code",
   "execution_count": 139,
   "id": "abe21414-6296-4cfb-946a-5d5dbdf55bf0",
   "metadata": {},
   "outputs": [
    {
     "name": "stdin",
     "output_type": "stream",
     "text": [
      " 2020.3.4\n"
     ]
    },
    {
     "name": "stdout",
     "output_type": "stream",
     "text": [
      "4-3-2020\n"
     ]
    }
   ],
   "source": [
    "#019\n",
    "# \"연도.월.일\"을 입력받아 \"일-월-연도\" 순서로 바꿔 출력해보자.\n",
    "\n",
    "# 참고\n",
    "# y, m, d = input().split('.')\n",
    "# 과 같이 변수들을 순서대로 나열하면 구분기호를 기준으로 잘라 순서대로 저장한다.\n",
    "\n",
    "y, m, d = input().split(\".\")\n",
    "print(d, m, y, sep = \"-\")\n"
   ]
  },
  {
   "cell_type": "code",
   "execution_count": 148,
   "id": "dbb5d2ce-ec24-41ca-b128-fec40fb9933c",
   "metadata": {},
   "outputs": [
    {
     "name": "stdin",
     "output_type": "stream",
     "text": [
      " 000907-1121112\n"
     ]
    },
    {
     "name": "stdout",
     "output_type": "stream",
     "text": [
      "0009071121112\n"
     ]
    }
   ],
   "source": [
    "# # 020\n",
    "# 주민번호는 다음과 같이 구성된다.\n",
    "# XXXXXX-XXXXXXX\n",
    "\n",
    "# 왼쪽 6자리는 생년월일(YYMMDD)이고, 오른쪽 7자리는 성별,출생지역,확인코드로 구성되어있다.\n",
    "# 주민번호를 입력받아 형태를 바꿔 출력해보자.\n",
    "\n",
    "num = input().split(\"-\")\n",
    "\n",
    "print(num[0] + num[1])"
   ]
  },
  {
   "cell_type": "code",
   "execution_count": 5,
   "id": "b192aef6-327c-4082-8b3e-8cd9cd783516",
   "metadata": {},
   "outputs": [
    {
     "name": "stdin",
     "output_type": "stream",
     "text": [
      " hello\n"
     ]
    },
    {
     "name": "stdout",
     "output_type": "stream",
     "text": [
      "h\n",
      "e\n",
      "l\n",
      "l\n",
      "o\n"
     ]
    }
   ],
   "source": [
    "# ## 021\n",
    "# 알파벳과 숫자로 이루어진 단어 1개가 입력된다.\n",
    "# 입력받은 단어의 각 문자를 한 줄에 한 문자씩 분리해 출력한다.\n",
    "\n",
    "# 예시\n",
    "# s = input()\n",
    "# print(s[0])\n",
    "# print(s[1])\n",
    "# ...\n",
    "\n",
    "# 참고\n",
    "# s[0] 은 첫 번째 문자를 의미한다.\n",
    "\n",
    "s = input()\n",
    "print(s[0])\n",
    "print(s[1])\n",
    "print(s[2])\n",
    "print(s[3])\n",
    "print(s[4])\n",
    "      "
   ]
  },
  {
   "cell_type": "code",
   "execution_count": 20,
   "id": "c1924fcf-cebf-414b-a3cd-445b3ffd11dc",
   "metadata": {},
   "outputs": [
    {
     "name": "stdin",
     "output_type": "stream",
     "text": [
      " 022534\n"
     ]
    },
    {
     "name": "stdout",
     "output_type": "stream",
     "text": [
      "02 25 34\n"
     ]
    }
   ],
   "source": [
    "# #022\n",
    "# 6자리의 연월일(YYMMDD)을 입력받아 나누어 출력해보자.\n",
    "\n",
    "# 참고\n",
    "# s = input()\n",
    "# print(s[0:2])\n",
    "\n",
    "# 를 실행하면 0번째 문자부터 1번째 문자까지 잘라 출력한다.\n",
    "# s[a:b] 라고 하면, s라는 단어에서 a번째 문자부터 b-1번째 문자까지 잘라낸 부분을 의미한다.\n",
    "# 다른 자르기 방법도 있다.\n",
    "s = input()      \n",
    "y = (s[0:2])\n",
    "m = (s[2:4])\n",
    "d = (s[4:6])\n",
    "print(y, m, d)"
   ]
  },
  {
   "cell_type": "code",
   "execution_count": 24,
   "id": "2e492d9d-d4e0-4822-bfd3-39c6450a0bcf",
   "metadata": {},
   "outputs": [
    {
     "name": "stdin",
     "output_type": "stream",
     "text": [
      " 17:23:57\n"
     ]
    },
    {
     "name": "stdout",
     "output_type": "stream",
     "text": [
      "23\n"
     ]
    }
   ],
   "source": [
    "# #023\n",
    "# 시:분:초 형식으로 시간이 입력될 때 분만 출력해보자.\n",
    "\n",
    "\n",
    "\n",
    "# 어떻게 분만 출력해야 할지 주의 깊게 생각해야한다.\n",
    "\n",
    "s= input().split(':')\n",
    "print(s[1])"
   ]
  },
  {
   "cell_type": "code",
   "execution_count": 26,
   "id": "0fc3ef11-286d-42fa-9c03-098f098083d2",
   "metadata": {},
   "outputs": [
    {
     "name": "stdin",
     "output_type": "stream",
     "text": [
      " hello world\n"
     ]
    },
    {
     "name": "stdout",
     "output_type": "stream",
     "text": [
      "helloworld\n"
     ]
    }
   ],
   "source": [
    "# 024\n",
    "# 알파벳 문자와 숫자로 이루어진 단어 2개를 입력받아\n",
    "# 순서대로 붙여 출력하는 프로그램을 작성해보자.\n",
    "\n",
    "# 예시\n",
    "# w1, w2 = input().split()\n",
    "# s = w1 + w2\n",
    "# print(s)\n",
    "\n",
    "# 참고\n",
    "# 단어는 문자(character)들로 만든다.\n",
    "# 문자들로 구성된 문장을 문자열(string)이라고 부른다.\n",
    "# 문자열에는 공백문자(' ')가 포함될 수 있는데, \n",
    "# 문자 1개는 길이가 1인 문자열이라고 할 수 있고, 공백문자(' ')가 없는 문자열은 단어(word)라고 할 수 있다.\n",
    "\n",
    "# 일반적인 문장들은 공백으로 구분된 단어들로 만들어지기 때문에,\n",
    "# 공백문자로 구분된 문장에서 단어를 잘라내기 위해서는 공백문자(' ')를 기준으로 자르면 된다.\n",
    "# 키보드로 입력되는 것들은 기본적으로 문자열로 인식되고, 문자열끼리 더하기(+)를 실행하면,\n",
    "# 두 문자열을 합쳐 연결한(concatenate) 결과를 만들어 낸다.\n",
    "\n",
    "s1, s2 = input().split()\n",
    "print(s1+s2)"
   ]
  },
  {
   "cell_type": "markdown",
   "id": "dedb3d98-f94f-47eb-839f-3ff93a888df3",
   "metadata": {
    "jp-MarkdownHeadingCollapsed": true
   },
   "source": [
    "# 3. 값변환"
   ]
  },
  {
   "cell_type": "code",
   "execution_count": 31,
   "id": "e99cedf5-3875-4eb3-a4ca-8dca503aad5b",
   "metadata": {},
   "outputs": [
    {
     "name": "stdin",
     "output_type": "stream",
     "text": [
      " 123 123\n"
     ]
    },
    {
     "name": "stdout",
     "output_type": "stream",
     "text": [
      "246\n"
     ]
    }
   ],
   "source": [
    "#025\n",
    "# 정수 2개를 입력받아\n",
    "# 합을 출력하는 프로그램을 작성해보자.\n",
    "\n",
    "# 예시\n",
    "# a, b = input().split()\n",
    "# c = int(a) + int(b)\n",
    "# print(c)\n",
    "\n",
    "# 참고\n",
    "# 입력되는 값은 기본적으로 문자열로 인식된다.\n",
    "\n",
    "# 문자열 + 문자열은 두 문자열을 합친 문자열을 만든다.\n",
    "# 숫자로 구성된 문자열이나 실수를 정수(integer) 값으로 바꾸기 위해서는 int( ) 를 사용할 수 있다.\n",
    "# 수 + 수의 결과는 합(addition)이 계산된다.\n",
    "s1, s2 = input().split()\n",
    "result = int(s1) + int(s2)\n",
    "print(result)"
   ]
  },
  {
   "cell_type": "code",
   "execution_count": 35,
   "id": "9251c8a0-b85b-44b0-8e17-78aa8cf54b6e",
   "metadata": {},
   "outputs": [
    {
     "name": "stdin",
     "output_type": "stream",
     "text": [
      " 3.4\n",
      " 2.5\n"
     ]
    },
    {
     "name": "stdout",
     "output_type": "stream",
     "text": [
      "5.9\n"
     ]
    }
   ],
   "source": [
    "# #026 \n",
    "# 실수 2개를 입력받아\n",
    "# 합을 출력하는 프로그램을 작성해보자.\n",
    "\n",
    "# 참고\n",
    "# 입력되는 값은 기본적으로 문자열로 인식된다.\n",
    "\n",
    "# 숫자로 구성된 문자열이나 정수를 실수(real number) 값으로 바꾸기 위해서는 float( ) 를 사용할 수 있다.\n",
    "# 소숫점(.)은 그 위치가 정해져있지 않고 이리저리 둥둥 떠다니므로, floating point라고 부른다.\n",
    "\n",
    "s1 = input()\n",
    "s2 = input()\n",
    "c = float(s1) + float(s2)\n",
    "print(c)"
   ]
  },
  {
   "cell_type": "markdown",
   "id": "7beff84a-4c33-4361-aa59-80facd4ec5d1",
   "metadata": {
    "jp-MarkdownHeadingCollapsed": true
   },
   "source": [
    "# 4. 출력변환"
   ]
  },
  {
   "cell_type": "code",
   "execution_count": 43,
   "id": "2b4673ec-3f68-46bd-9df7-ff00f2e70a70",
   "metadata": {},
   "outputs": [
    {
     "name": "stdin",
     "output_type": "stream",
     "text": [
      " 255\n"
     ]
    },
    {
     "name": "stdout",
     "output_type": "stream",
     "text": [
      "ff\n"
     ]
    }
   ],
   "source": [
    "#027 \n",
    "# 10진수를 입력받아 16진수(hexadecimal)로 출력해보자.\n",
    "\n",
    "# 예시\n",
    "# a = input()\n",
    "# n = int(a)            #입력된 a를 10진수 값으로 변환해 변수 n에 저장\n",
    "# print('%x'% n)  #n에 저장되어있는 값을 16진수(hexadecimal) 소문자 형태 문자열로 출력\n",
    "\n",
    "# 참고\n",
    "# 10진수 형태로 입력받고\n",
    "# %x로 출력하면 16진수(hexadecimal) 소문자로 출력된다.\n",
    "# (%o로 출력하면 8진수(octal) 문자열로 출력된다.)\n",
    "\n",
    "# 10진법은 한 자리에 10개(0 1 2 3 4 5 6 7 8 9)의 문자를 사용하고,\n",
    "# 16진법은 영문 소문자를 사용하는 경우에 한 자리에 16개(0 1 2 3 4 5 6 7 8 9 a b c d e f)의 문자를 사용한다.\n",
    "# 16진수 a는 10진수의 10, b는 11, c는 12 ... 와 같다.\n",
    "a = input()\n",
    "n = int(a)           \n",
    "print('%x'% n) \n",
    "\n"
   ]
  },
  {
   "cell_type": "code",
   "execution_count": 3,
   "id": "e3cda05b-1450-4694-b013-6e0b87c13a5f",
   "metadata": {},
   "outputs": [
    {
     "name": "stdin",
     "output_type": "stream",
     "text": [
      " 255\n"
     ]
    },
    {
     "name": "stdout",
     "output_type": "stream",
     "text": [
      "FF\n"
     ]
    }
   ],
   "source": [
    "#028\n",
    "\n",
    "# 10진수를 입력받아 16진수(hexadecimal)로 출력해보자.\n",
    "\n",
    "# 예시\n",
    "# print('%X' % n)  #n에 저장되어있는 값을 16진수 대문자 형태 문자열로 출력\n",
    "\n",
    "# 참고\n",
    "# 10진수 형태로 입력받고\n",
    "# %X로 출력하면 16진수(hexadecimal)대문자로 출력된다.\n",
    "\n",
    "# 16진법은 영문 소문자를 사용하는 경우에 한 자리에 16개(0 1 2 3 4 5 6 7 8 9 A B C D E F)의 문자를 사용한다.\n",
    "# 16진수 A는 10진수의 10, B는 11, C는 12 ... 와 같다.\n",
    "\n",
    "a = input()\n",
    "n = int(a)\n",
    "print('%X' % n) "
   ]
  },
  {
   "cell_type": "code",
   "execution_count": 4,
   "id": "f7e221bb-4b1a-447b-9da0-f377e1d1a7e3",
   "metadata": {},
   "outputs": [
    {
     "name": "stdin",
     "output_type": "stream",
     "text": [
      " f\n"
     ]
    },
    {
     "name": "stdout",
     "output_type": "stream",
     "text": [
      "17\n"
     ]
    }
   ],
   "source": [
    "# #029\n",
    "# 16진수를 입력받아 8진수(octal)로 출력해보자.\n",
    "\n",
    "# 예시\n",
    "# a = input()\n",
    "# n = int(a, 16)      #입력된 a를 16진수로 인식해 변수 n에 저장\n",
    "# print('%o' % n)  #n에 저장되어있는 값을 8진수(octal) 형태 문자열로 출력\n",
    "\n",
    "# 참고\n",
    "# 8진법은 한 자리에 8개(0 1 2 3 4 5 6 7)의 문자를 사용한다.\n",
    "# 8진수 10은 10진수의 8, 11은 9, 12는 10 ... 와 같다.\n",
    "\n",
    "a = input()\n",
    "n = int(a, 16)\n",
    "print('%o' % n)\n"
   ]
  },
  {
   "cell_type": "markdown",
   "id": "349bdabb-6fff-441b-83b8-ffc5c3aa05f9",
   "metadata": {},
   "source": [
    "- ord() : 어떤 문자의 순서 위치(ordinal position) 값\n",
    "- ord(c) : 문자 c를 10진수로 변환한 값\n"
   ]
  },
  {
   "cell_type": "code",
   "execution_count": 5,
   "id": "89686041-831d-48f2-b7fb-66729123a96a",
   "metadata": {},
   "outputs": [
    {
     "name": "stdin",
     "output_type": "stream",
     "text": [
      " A\n"
     ]
    },
    {
     "name": "stdout",
     "output_type": "stream",
     "text": [
      "65\n"
     ]
    }
   ],
   "source": [
    "# #30\n",
    "\n",
    "# 영문자 1개를 입력받아 10진수 유니코드(Unicode) 값으로 출력해보자.\n",
    "\n",
    "# 예시\n",
    "# n = ord(input())\n",
    "# print(n)\n",
    "\n",
    "# 참고\n",
    "# n = ord(input())  #입력받은 문자를 10진수 유니코드 값으로 변환한 후, n에 저장한다.\n",
    "\n",
    "# ord( ) 는 어떤 문자의 순서 위치(ordinal position) 값을 의미한다.  \n",
    "# 실제로 각각의 문자들에는 연속된 정수 값이 순서에 따라 부여 되어 있다. A:65, B:66, C:67 .... \n",
    "# ord(c) : 문자 c 를 10진수로 변환한 값 \n",
    "\n",
    "# 컴퓨터로 저장되고 처리되는 모든 데이터들은 2진수 형태로 정수화 되어야 하는데,\n",
    "# 컴퓨터에 문자를 저장하는 방법으로 아스키코드(ASCII Code)나 유니코드(Unicode)가 자주 사용된다.\n",
    "\n",
    "# 예를 들어, 영문 대문자 'A'는 10진수 값 65 로 표현하고, \n",
    "# 2진수(binary digit) 값 1000001 로 바꾸어 컴퓨터 내부에 저장한다. \n",
    "\n",
    "# 유니코드(unicode)는 세계 여러 나라의 문자를 공통된 코드 값으로 저장할 때 사용하는 표준 코드이다.\n",
    "n = input()\n",
    "print(ord(n))"
   ]
  },
  {
   "cell_type": "code",
   "execution_count": 8,
   "id": "7c56778e-2cec-4f32-913e-f7c155113658",
   "metadata": {},
   "outputs": [
    {
     "name": "stdin",
     "output_type": "stream",
     "text": [
      " 65\n"
     ]
    },
    {
     "name": "stdout",
     "output_type": "stream",
     "text": [
      "A\n"
     ]
    }
   ],
   "source": [
    "# #31\n",
    "# 10진 정수 1개를 입력받아\n",
    "# 유니코드 문자로 출력해보자.\n",
    "\n",
    "\n",
    "# 예시\n",
    "# c = int(input())\n",
    "# print(chr(c))  #c에 저장되어 있는 정수 값을 유니코드 문자(chracter)로 바꿔 출력한다. \n",
    "\n",
    "\n",
    "# 참고\n",
    "# 입력은 기본적으로 모두 문자열로 입력되는 것이라고 할 수 있다. \n",
    "# 따라서, 입력 값이 문자/문자열/정수/실수인지에 따라서 먼저 정확하게 변환시킨 다음에 사용하거나 계산하는 것이 좋다.\n",
    "\n",
    "# 예를 들어 123 이 입력 되었다고 한다면, 이건 정수일까? 문자열일까?\n",
    "# 조금 생각해보면, 입력된 것만 보고는 그 값이 어떤 데이터인지 알 수 없다는 것을 쉽게 이해할 수 있다.\n",
    "# 따라서, 그 입력 값을 어떻게 해석하고 변환할 지에 대해서 명확하게 작성해 주어야 하는 것이다. \n",
    "\n",
    "# chr( )는 정수값->문자, ord( )는 문자->정수값 형태로 바꿔주는 서로 반대 방향으로 바꾸어 주는 기능을 한다.\n",
    "\n",
    "n = int(input())\n",
    "print(chr(n))"
   ]
  },
  {
   "cell_type": "markdown",
   "id": "9fb4beaf-5743-4f00-b8af-7d494fa83ad2",
   "metadata": {
    "jp-MarkdownHeadingCollapsed": true
   },
   "source": [
    "# 5. 산술연산"
   ]
  },
  {
   "cell_type": "code",
   "execution_count": 9,
   "id": "db5d527d-32de-4355-b95b-21d578036aa5",
   "metadata": {},
   "outputs": [
    {
     "name": "stdin",
     "output_type": "stream",
     "text": [
      " 3\n"
     ]
    },
    {
     "name": "stdout",
     "output_type": "stream",
     "text": [
      "-3\n"
     ]
    }
   ],
   "source": [
    "# #032\n",
    "# 입력된 정수의 부호를 바꿔 출력해보자.\n",
    "\n",
    "\n",
    "# 예시 \n",
    "# ... \n",
    "# print(-n) \n",
    "\n",
    "# 참고 \n",
    "# 단항(unary) 연산자인 -(negative)를 변수 앞에 붙이면 부호가 반대인 값이 된다. \n",
    "n = int(input())\n",
    "print(-n)\n"
   ]
  },
  {
   "cell_type": "code",
   "execution_count": 19,
   "id": "47cca2bf-a4d4-40c9-8c8f-509ccb4c599c",
   "metadata": {},
   "outputs": [
    {
     "name": "stdin",
     "output_type": "stream",
     "text": [
      " h\n"
     ]
    },
    {
     "name": "stdout",
     "output_type": "stream",
     "text": [
      "i\n"
     ]
    }
   ],
   "source": [
    "# #033\n",
    "# 문자 1개를 입력받아 그 다음 문자를 출력해보자.\n",
    "# 영문자 'A'의 다음 문자는 'B'이고, 숫자 '0'의 다음 문자는 '1'이다.\n",
    "\n",
    "# 예시\n",
    "# ...\n",
    "# print(chr(n+1))\n",
    "\n",
    "# 참고\n",
    "# 숫자는 수를 표현하는 문자로서 '0' 은 문자 그 자체를 의미하고, 0은 값을 의미한다.\n",
    "\n",
    "# 힌트\n",
    "# 아스키문자표에서 'A'는 10진수 65로 저장되고 'B'는 10진수 66으로 저장된다.\n",
    "# 따라서, 문자도 값으로 덧셈을 할 수 있다. 어떤 문자의 값에 1을 더하면 그 다음 문자의 값이 된다.\n",
    "\n",
    "c = input()\n",
    "print(chr(ord(c)+1))"
   ]
  },
  {
   "cell_type": "code",
   "execution_count": 32,
   "id": "0e328f50-25af-4841-af48-9b08900e516f",
   "metadata": {},
   "outputs": [
    {
     "name": "stdin",
     "output_type": "stream",
     "text": [
      " 3 2\n"
     ]
    },
    {
     "name": "stdout",
     "output_type": "stream",
     "text": [
      "1\n"
     ]
    }
   ],
   "source": [
    "# <!-- #034\n",
    "# 정수 2개(a, b)를 입력받아 a에서 b를 뺀 차를 출력하는 프로그램을 작성해보자.\n",
    "\n",
    "# 예시\n",
    "# ...\n",
    "# c = a - b\n",
    "# print(c)\n",
    "\n",
    "# 참고\n",
    "# 수 - 수는 차(subtraction)가 계산된다.\n",
    " \n",
    "\n",
    "# 입력 -->\n",
    "\n",
    "a, b = map(int, input().split())\n",
    "c = a-b\n",
    "print(c)\n"
   ]
  },
  {
   "cell_type": "code",
   "execution_count": 33,
   "id": "50691696-c508-4ecd-ac90-0e31aa7ef879",
   "metadata": {},
   "outputs": [
    {
     "name": "stdin",
     "output_type": "stream",
     "text": [
      " 3.2 4.4\n"
     ]
    },
    {
     "name": "stdout",
     "output_type": "stream",
     "text": [
      "14.080000000000002\n"
     ]
    }
   ],
   "source": [
    "# #035\n",
    "# 실수 2개(f1, f2)를 입력받아 곱을 출력하는 프로그램을 작성해보자.\n",
    "\n",
    "# 예시\n",
    "# ...\n",
    "# m = f1 * f2\n",
    "# print(m)\n",
    "\n",
    "# 참고\n",
    "# 수 * 수는 곱(multiplication)이 계산된다.\n",
    "\n",
    "f1, f2 = map(float, input().split())\n",
    "m = f1 * f2\n",
    "print(m)"
   ]
  },
  {
   "cell_type": "code",
   "execution_count": 36,
   "id": "ead26099-aaeb-43db-9f32-66a8c9caa27b",
   "metadata": {},
   "outputs": [
    {
     "name": "stdin",
     "output_type": "stream",
     "text": [
      " love 3\n"
     ]
    },
    {
     "name": "stdout",
     "output_type": "stream",
     "text": [
      "lovelovelove\n"
     ]
    }
   ],
   "source": [
    "# #036\n",
    "# 단어와 반복 횟수를 입력받아 여러 번 출력해보자.\n",
    "\n",
    "# 예시\n",
    "# w, n = input().split()\n",
    "# print(w*int(n))\n",
    "\n",
    "# 참고\n",
    "# 문자열 * 정수 또는 정수 * 문자열은 그 문자열을 여러 번 반복한 문자열을 만들어 준다.\n",
    "\n",
    "word, num = input().split()\n",
    "print(word * int(num))"
   ]
  },
  {
   "cell_type": "code",
   "execution_count": 37,
   "id": "12903850-41c7-409e-a1ff-4feeebb18349",
   "metadata": {},
   "outputs": [
    {
     "name": "stdin",
     "output_type": "stream",
     "text": [
      " 3\n",
      " i love ct\n"
     ]
    },
    {
     "name": "stdout",
     "output_type": "stream",
     "text": [
      "i love cti love cti love ct\n"
     ]
    }
   ],
   "source": [
    "# #037\n",
    "# 반복 횟수와 문장을 입력받아 여러 번 출력해보자.\n",
    "\n",
    "# 예시\n",
    "# n = input()\n",
    "# s = input()\n",
    "# print(int(n)*s)\n",
    "\n",
    "# 참고\n",
    "# 문자열 * 정수 또는 정수 * 문자열은 그 문자열을 여러 번 반복한 문자열을 만들어 준다.\n",
    "\n",
    "n = input()\n",
    "s = input()\n",
    "print(int(n) * s)"
   ]
  },
  {
   "cell_type": "code",
   "execution_count": 40,
   "id": "b8c8ed44-4bab-45b0-813e-a860aed1d8b6",
   "metadata": {},
   "outputs": [
    {
     "name": "stdin",
     "output_type": "stream",
     "text": [
      " 3 4\n"
     ]
    },
    {
     "name": "stdout",
     "output_type": "stream",
     "text": [
      "81\n"
     ]
    }
   ],
   "source": [
    "#038\n",
    "# 정수 2개(a, b)를 입력받아\n",
    "# a를 b번 곱한 거듭제곱을 출력하는 프로그램을 작성해보자.\n",
    "\n",
    "# 예시\n",
    "# ...\n",
    "# c = a**b\n",
    "# print(c)\n",
    "\n",
    "# 참고\n",
    "# python 언어에서는 거듭제곱을 계산하는 연산자(**)를 제공한다.\n",
    "# 일반적으로 수학 식에서 거듭제곱을 표현하는 사용하는 서컴플렉스/케릿 기호(^)는 프로그래밍언어에서 다른 의미로 쓰인다.\n",
    "\n",
    "a, b = map(int, input().split())\n",
    "c = a ** b\n",
    "print(c)"
   ]
  },
  {
   "cell_type": "code",
   "execution_count": 41,
   "id": "fda13ed9-3ee9-47c3-99a0-d9600395ac3f",
   "metadata": {},
   "outputs": [
    {
     "name": "stdin",
     "output_type": "stream",
     "text": [
      " 4.0 2\n"
     ]
    },
    {
     "name": "stdout",
     "output_type": "stream",
     "text": [
      "16.0\n"
     ]
    }
   ],
   "source": [
    "# #039\n",
    "# 실수 2개(f1, f2)를 입력받아\n",
    "# f1을 f2번 거듭제곱한 값을 출력하는 프로그램을 작성해보자.\n",
    "\n",
    "# 참고\n",
    "# python 언어에서는 거듭제곱(exponentiation)을 계산하는 연산자(**)를 제공한다.\n",
    "# 일반적으로 수학 식에서 거듭제곱을 표현하는 사용하는 서컴플렉스/케릿 기호(^)는 프로그래밍언어에서 다른 의미로 쓰인다.\n",
    "\n",
    "f1, f2 = map(float, input().split())\n",
    "m = f1 ** f2\n",
    "print(m)"
   ]
  },
  {
   "cell_type": "code",
   "execution_count": 42,
   "id": "ff580b66-19b6-44e3-988b-97e8ef153e52",
   "metadata": {},
   "outputs": [
    {
     "name": "stdin",
     "output_type": "stream",
     "text": [
      " 10 3\n"
     ]
    },
    {
     "name": "stdout",
     "output_type": "stream",
     "text": [
      "3\n"
     ]
    }
   ],
   "source": [
    "# #040\n",
    "# 정수 2개(a, b) 를 입력받아 a를 b로 나눈 몫을 출력해보자.\n",
    "\n",
    "# 예시\n",
    "# ...\n",
    "# print(a//b)\n",
    "\n",
    "# 참고\n",
    "# python언어에서는 나눈 몫을 계산하는 연산자(//, floor division)를 제공한다.\n",
    "# a//b 와 같이 작성하면, a를 b로 나눈 몫(quotient)을 계산해준다.\n",
    "# 프로그래밍언어에 따라 이렇게 몫을 계산해주는 연산자가 없는 경우도 있다.\n",
    "\n",
    "# 실수로 나눈 몫이 어떻게 계산될지도 생각해보자.\n",
    "a, b = map(int, input().split())\n",
    "c = a//b\n",
    "print(c)"
   ]
  },
  {
   "cell_type": "code",
   "execution_count": 4,
   "id": "85a50e2e-8a5f-4089-859f-8ea02341240f",
   "metadata": {},
   "outputs": [
    {
     "name": "stdin",
     "output_type": "stream",
     "text": [
      " 10 3\n"
     ]
    },
    {
     "name": "stdout",
     "output_type": "stream",
     "text": [
      "1\n"
     ]
    }
   ],
   "source": [
    "#041\n",
    "# 정수 2개(a, b) 를 입력받아 a를 b로 나눈 나머지를 출력해보자.\n",
    "\n",
    "# 예시\n",
    "# ...\n",
    "# print(a%b)\n",
    "\n",
    "# 참고\n",
    "# python 언어에서는 나눈 나머지를 계산하는 연산자(%, remainder)를 제공한다.\n",
    "# a%b 와 같이 작성하면, a를 b로 나눈 나머지(remainder)를 계산해준다.\n",
    "# 나머지 연산(modulus, mod 연산)은 수학자 가우스가 생각해 낸 연산으로,\n",
    "# 어떤 수를 다른 수로 나누고 난 후 남는 나머지를 계산하는 연산이다.\n",
    "\n",
    "# 실로 나눈 나머지가 어떻게 계산될지도 생각해보자.\\\n",
    "\n",
    "a, b = map(int, input().split())\n",
    "c = a%b\n",
    "print(c)"
   ]
  },
  {
   "cell_type": "code",
   "execution_count": 2,
   "id": "c4779e0c-4bc3-4fea-a2a6-b49a37f25a76",
   "metadata": {},
   "outputs": [
    {
     "name": "stdin",
     "output_type": "stream",
     "text": [
      " 3.141592\n"
     ]
    },
    {
     "name": "stdout",
     "output_type": "stream",
     "text": [
      "3.14\n"
     ]
    }
   ],
   "source": [
    "#042\n",
    "# 실수 1개를 입력받아\n",
    "# 소숫점 이하 두 번째 자리까지의 정확도로 반올림한 값을 출력해보자.\n",
    "\n",
    "\n",
    "# 예시\n",
    "\n",
    "# a=input()\n",
    "# a=float(a)\n",
    "# print( format(a, \".2f\") )\n",
    "\n",
    "\n",
    "# 참고\n",
    "# format(수, \".2f\") 를 사용하면 원하는 자리까지의 정확도로 반올림 된 실수 값을 만들어 준다. \n",
    "\n",
    "# 여기서 만들어진 값은 소수점 아래 3번째 자리에서 반올림한 값이다.\n",
    "\n",
    "# 컴퓨터 프로그래밍에서 실수 변환이나 실수를 사용하는 계산은\n",
    "# 정확하게 변환되거나 계산되는 것이 아니라, 거의 모두 근사값으로 계산되는 것이라고 할 수 있다. \n",
    "\n",
    "# 실수가 컴퓨터로 저장되기 위해서는 디지털방식으로 2진 정수화되어 저장되어야 하는데,\n",
    "# 그 과정에서 아주 작은 부분이 저장되지 않고 사라지는 잘림(truncation) 오차가 자주 발생하기 때문이다.\n",
    "\n",
    "a = input()\n",
    "a = float(a)\n",
    "print(format(a, \".2f\"))"
   ]
  },
  {
   "cell_type": "code",
   "execution_count": 12,
   "id": "60b4ff70-f960-4cdc-b015-ba596b2011a6",
   "metadata": {},
   "outputs": [
    {
     "name": "stdin",
     "output_type": "stream",
     "text": [
      " 10.0 3.0\n"
     ]
    },
    {
     "name": "stdout",
     "output_type": "stream",
     "text": [
      "3.333\n"
     ]
    }
   ],
   "source": [
    "# #043\n",
    "# 실수 2개(f1, f2)를 입력받아\n",
    "# f1 을 f2 로 나눈 값을 출력해보자. 이 때 소숫점 넷째자리에서 반올림하여 무조건 소숫점 셋째 자리까지 출력한다.\n",
    "\n",
    "\n",
    "# 참고\n",
    "# python 언어에는 나눗셈(division)을 계산하는 연산자(/)가 있다.\n",
    "\n",
    "# 컴퓨터 프로그래밍에서 실수 변환이나 실수를 사용하는 계산은 \n",
    "# 정확하게 변환되거나 계산되는 것이 아니라, 거의 모두 근사값으로 계산되는 것이라고 할 수 있다.  \n",
    "\n",
    "# 실수가 컴퓨터로 저장되기 위해서는 디지털방식으로 2진 정수화되어 저장되어야 하는데, \n",
    "# 그 과정에서 아주 작은 부분이 저장되지 않고 사라지는 잘림(truncation) 오차가 자주 발생하기 때문이다.\n",
    "\n",
    "# 계산 결과값 중에서 믿을 수 있는 숫자의 개수를 의미하는, 유효숫자에 대해 찾아보자. \n",
    "# 과학실험에서 온도나 부피를 측정할 때에도 유효숫자는 중요하다. \n",
    "\n",
    "f1, f2 = map(float, input().split())\n",
    "k = f1 / f2\n",
    "print(format(k, \".3f\"))"
   ]
  },
  {
   "cell_type": "code",
   "execution_count": 18,
   "id": "a1e59117-a7f3-462b-858f-a43c3c2ee0f7",
   "metadata": {},
   "outputs": [
    {
     "name": "stdin",
     "output_type": "stream",
     "text": [
      " 10 3\n"
     ]
    },
    {
     "name": "stdout",
     "output_type": "stream",
     "text": [
      "13\n",
      "7\n",
      "30\n",
      "3\n",
      "1\n",
      "3.33\n"
     ]
    }
   ],
   "source": [
    "# #044\n",
    "\n",
    "# 정수 2개(a, b)를 입력받아 합, 차, 곱, 몫, 나머지, 나눈 값을 자동으로 계산해보자.\n",
    "# 단, b는 0이 아니다.\n",
    "\n",
    "a, b = map(int, input().split())\n",
    "plus = a + b\n",
    "minus = a- b\n",
    "mult = a * b\n",
    "k = a//b\n",
    "i = a%b\n",
    "j = a/b\n",
    "print(plus)\n",
    "print(minus)\n",
    "print(mult)\n",
    "print(k)\n",
    "print(i)\n",
    "print(format(j, \".2f\"))"
   ]
  },
  {
   "cell_type": "code",
   "execution_count": 20,
   "id": "0d1d2544-2af5-424a-9856-32cdc11fe956",
   "metadata": {},
   "outputs": [
    {
     "name": "stdin",
     "output_type": "stream",
     "text": [
      " 1 2 3\n"
     ]
    },
    {
     "name": "stdout",
     "output_type": "stream",
     "text": [
      "6 2.00\n"
     ]
    }
   ],
   "source": [
    "#045\n",
    "\n",
    "# 정수 3개를 입력받아 합과 평균을 출력해보자.\n",
    "\n",
    "# 참고\n",
    "# 공백으로 구분된 한 줄로 값들을 입력받기 위해서는\n",
    "# a, b, c = input().split()\n",
    "# 과 같은 방법이 가능하고,\n",
    "\n",
    "# 공백으로 구분해 두 값을 출력하기 위해서는\n",
    "# print(d, e)\n",
    "# 와 같은 방법이 가능하다.\n",
    "\n",
    "# 잘라낸 값들은 그 값의 특성(정수, 실수, 문자, 문자열 ...)에 따라 명확하게 변환시킨 후 사용하는 것이 좋다.\n",
    "\n",
    "# python 프로그래밍을 처음 배울 때 좋은 습관(단계)\n",
    "# 1. 입력된 문자열을 정확하게 잘라낸다.(공백, 줄바꿈, 구분문자 등에 따라 정확하게 잘라낸다.)\n",
    "# 2. 잘라낸 데이터들을 데이터형에 맞게 변환해 변수에 저장한다. (정수, 실수, 문자, 문자열 등에 따라 정확하게 변환한다.)\n",
    "# 3. 값을 저장했다가 다시 사용하기 위해, 변수를 이용해 값을 저장하고, 변수를 이용해 계산을 한다.\n",
    "# 4. 원하는 결과 값을 필요한 형태로 만들어 출력한다.(공백, 줄바꿈, 구분자, 등에 따라 원하는 형태로 만들어 출력한다.)\n",
    "a, b, c = map(int, input().split())\n",
    "hap = a + b +  c\n",
    "m = (a + b + c) /3\n",
    "print(hap, format(m, \".2f\"))"
   ]
  },
  {
   "cell_type": "markdown",
   "id": "56061228-4682-4b35-b20e-45705a53dcae",
   "metadata": {
    "jp-MarkdownHeadingCollapsed": true
   },
   "source": [
    "# 6. 비트시프트 연산"
   ]
  },
  {
   "cell_type": "code",
   "execution_count": 21,
   "id": "cecf6995-8b48-4aa2-87d1-9cc5d6835bee",
   "metadata": {},
   "outputs": [
    {
     "name": "stdin",
     "output_type": "stream",
     "text": [
      " 1024\n"
     ]
    },
    {
     "name": "stdout",
     "output_type": "stream",
     "text": [
      "2048\n"
     ]
    }
   ],
   "source": [
    "#046\n",
    "\n",
    "# 정수 1개를 입력받아 2배 곱해 출력해보자.\n",
    "\n",
    "# 참고\n",
    "# *2 를 계산한 값을 출력해도 되지만,\n",
    "# 정수를 2배로 곱하거나 나누어 계산해 주는 비트단위시프트연산자 <<, >>를 이용할 수 있다.\n",
    "# 컴퓨터 내부에는 2진수 형태로 값들이 저장되기 때문에,\n",
    "# 2진수 형태로 저장되어 있는 값들을 왼쪽(<<)이나 오른쪽(>>)으로\n",
    "# 지정한 비트 수만큼 밀어주면 2배씩 늘어나거나 1/2로 줄어드는데,\n",
    "\n",
    "# 왼쪽 비트시프트(<<)가 될 때에는 오른쪽에 0이 주어진 개수만큼 추가되고,\n",
    "# 오른쪽 비트시프트(>>)가 될 때에는 왼쪽에 0(0 또는 양의 정수인 경우)이나 1(음의 정수인 경우)이 개수만큼 추가되고,\n",
    "# 가장 오른쪽에 있는 1비트는 사라진다.\n",
    "\n",
    "# 예시\n",
    "# n = 10\n",
    "# print(n<<1)  #10을 2배 한 값인 20 이 출력된다.\n",
    "# print(n>>1)  #10을 반으로 나눈 값인 5 가 출력된다.\n",
    "# print(n<<2)  #10을 4배 한 값인 40 이 출력된다.\n",
    "# print(n>>2)  #10을 반으로 나눈 후 다시 반으로 나눈 값인 2 가 출력된다.\n",
    "\n",
    "# 정수 10의 2진수 표현은 ... 1010 이다.\n",
    "# 10 << 1 을 계산하면 ... 10100 이 된다 이 값은 10진수로 20이다.\n",
    "# 10 >> 1 을 계산하면 ... 101 이 된다. 이 값은 10진수로 5이다.\n",
    "\n",
    "# n = 10 과 같이 키보드로 입력받지 않고 직접 작성해 넣은 코드에서, 숫자로 시작하는 단어(식별자, identifier)는 자동으로 수로 인식된다.  \n",
    "\n",
    "# n = 10 에서 10 은 10진수 정수 값으로 인식된다.\n",
    "# 변수 n 에 문자열을 저장하고 싶다면, n = \"10\" 또는 n = '10'으로 작성해 넣으면 되고,\n",
    "\n",
    "# n = 10.0 으로 작성해 넣으면 자동으로 실수 값으로 저장된다.\n",
    "# n = 0o10 으로 작성해 넣으면 8진수(octal) 10으로 인식되어 10진수 8값이 저장되고,\n",
    "# n = 0xf 나 n = 0XF 으로 작성해 넣으면 16진수(hexadecimal) F로 인식되어 10진수 15값으로 저장된다.\n",
    "\n",
    "# ** python에서 실수 값에 대한 비트시프트 연산은 허용되지 않고 오류가 발생한다.\n",
    "# (실수 값도 컴퓨터 내부적으로는 2진수 형태로 저장되고 비트시프트 처리가 될 수 있지만, python 에서는 허용하지 않는다.)\n",
    "\n",
    "a = int(input())\n",
    "print(a*2)"
   ]
  },
  {
   "cell_type": "code",
   "execution_count": 23,
   "id": "80f59196-da0b-48d7-b48c-3efd9e577bfe",
   "metadata": {},
   "outputs": [
    {
     "name": "stdin",
     "output_type": "stream",
     "text": [
      " 1 3\n"
     ]
    },
    {
     "name": "stdout",
     "output_type": "stream",
     "text": [
      "8\n"
     ]
    }
   ],
   "source": [
    "# #047\n",
    "# 정수 2개(a, b)를 입력받아 a를 2b배 곱한 값으로 출력해보자.\n",
    "# 0 <= a <= 10, 0 <= b <= 10\n",
    "\n",
    "# 예시\n",
    "# a = 2\n",
    "# b = 10\n",
    "# print(a << b)  #210 = 1024 가 출력된다.\n",
    "\n",
    "# 참고\n",
    "# 예를 들어 1 3 이 입력되면 1을 23(8)배 하여 출력한다.\n",
    "a, b = map(int, input().split())\n",
    "c = a * (2**b)\n",
    "print(c)"
   ]
  },
  {
   "cell_type": "markdown",
   "id": "aecb87a7-432b-485a-b6b5-18d37ec1f9ff",
   "metadata": {
    "jp-MarkdownHeadingCollapsed": true
   },
   "source": [
    "# 7. 비교연산"
   ]
  },
  {
   "cell_type": "code",
   "execution_count": 26,
   "id": "622e64d7-c71e-4c29-930b-340799c34a50",
   "metadata": {},
   "outputs": [
    {
     "name": "stdin",
     "output_type": "stream",
     "text": [
      " 1 9\n"
     ]
    },
    {
     "name": "stdout",
     "output_type": "stream",
     "text": [
      "True\n"
     ]
    }
   ],
   "source": [
    "#048\n",
    "\n",
    "# 두 정수(a, b)를 입력받아\n",
    "# a가 b보다 작으면 True 를, a가 b보다 크거나 같으면 False 를 출력하는 프로그램을 작성해보자.\n",
    "\n",
    "# 예시\n",
    "# print(123<456)  #비교 연산자 < 의 계산 결과인 True(참)가 출력된다.\n",
    "# (123, 456 은 숫자로 작성된 단어이기 때문에 10진수로 인식된다.)\n",
    "\n",
    "# 참고\n",
    "# 어떤 값을 비교하기 위해 비교/관계(comparison/relational) 연산자(operator)를 사용할 수 있다.\n",
    "\n",
    "# 비교/관계연산자 < (less than sign) 는\n",
    "# 왼쪽의 값이 오른쪽 값 보다 작은 경우 True(참)로 계산하고,\n",
    "# 그 외의 경우에는 False(거짓)로 계산한다.\n",
    "\n",
    "# 비교/관계연산자도 일반적인 사칙연산자처럼 주어진 두 수를 이용해 계산을 수행하고,\n",
    "# 그 결과를 True(참), 또는 False(거짓)로 계산해 주는 연산자이다.\n",
    "\n",
    "# 비교/관계연산자는 <, >, <=, >=, ==(같다), !=(다르다) 6개가 있다.\n",
    "\n",
    "# True(참) 또는 False(거짓) 값으로만 표현하고 저장하는 값을 불(bool)/불리언(boolean) 값이라고 한다.\n",
    "# 정수, 실수, 문자, 문자열과 마찬가지로 또 다른 형태의 데이터형(data type)이다.\n",
    "a, b = map(int, input().split())\n",
    "if a < b:\n",
    "    print(True)\n",
    "else:\n",
    "    print(False)\n",
    "    "
   ]
  },
  {
   "cell_type": "code",
   "execution_count": 27,
   "id": "146d7a3d-cff2-473d-a5ca-d110da56241a",
   "metadata": {},
   "outputs": [
    {
     "name": "stdin",
     "output_type": "stream",
     "text": [
      " 0 0\n"
     ]
    },
    {
     "name": "stdout",
     "output_type": "stream",
     "text": [
      "True\n"
     ]
    }
   ],
   "source": [
    "# #049\n",
    "# 두 정수(a, b)를 입력받아\n",
    "# a와 b의 값이 같으면 True 를, 같지 않으면 False 를 출력하는 프로그램을 작성해보자.\n",
    "\n",
    "# 참고\n",
    "# 어떤 값을 비교하기 위해 비교/관계(comparison/relational) 연산자(operator)를 사용할 수 있다.\n",
    "\n",
    "# 비교/관계연산자 == (equal sign 2개) 는\n",
    "# 왼쪽의 계산 결과값과 오른쪽의 계산 결과값이 같은 경우 True(참)로 계산하고,\n",
    "# 그 외의 경우에는 False(거짓)로 계산한다.\n",
    "\n",
    "# 비교/관계연산자도 일반적인 사칙연산자처럼 주어진 두 수를 이용해 계산을 수행하고,\n",
    "# 그 결과를 True(참), 또는 False(거짓)로 계산해 주는 연산자이다.\n",
    "\n",
    "# 비교/관계연산자는 <, >, <=, >=, ==(같다), !=(다르다) 6개가 있다.\n",
    "\n",
    "# ** 수학에서 왼쪽과 오른쪽의 계산 결과가 같음(동치)을 나타내는 기호 =(equal sign) 1개는\n",
    "# 프로그래밍언어에서는 전혀 다른 의미로 사용된다.\n",
    "\n",
    "# a = 1 와 같은 표현은 a와 1의 값이 같다는 의미가 아니라\n",
    "# 오른쪽의 계산 결과값인 1을 왼쪽의 변수 a에 저장하라는 의미이다.\n",
    "a, b = map(int, input().split())\n",
    "if a == b:\n",
    "    print(True)\n",
    "else:\n",
    "    print(False)"
   ]
  },
  {
   "cell_type": "code",
   "execution_count": 28,
   "id": "21130120-92f3-404a-9d06-f29b17b2c1ff",
   "metadata": {},
   "outputs": [
    {
     "name": "stdin",
     "output_type": "stream",
     "text": [
      " 0 -1\n"
     ]
    },
    {
     "name": "stdout",
     "output_type": "stream",
     "text": [
      "False\n"
     ]
    }
   ],
   "source": [
    "# #050\n",
    "# 두 정수(a, b)를 입력받아\n",
    "# b의 값이 a의 값 보다 크거나 같으면 True 를, 같지 않으면 False 를 출력하는 프로그램을 작성해보자.\n",
    "\n",
    "# 참고\n",
    "# 어떤 값을 비교하기 위해 비교/관계(comparison/relational) 연산자(operator)를 사용할 수 있다.\n",
    "\n",
    "# 비교/관계연산자 <= 는\n",
    "# 오른쪽의 계산 결과값이 왼쪽의 계산 결과값보다 크거나 같은 경우 True(참)로 계산하고,\n",
    "# 그 외의 경우에는 False(거짓)로 계산한다.\n",
    "\n",
    "# <=, >= 연산자는 같음(==)을 포함한다. 따라서 “작다/크다” 거나 \"같다”는 의미를 가진다.\n",
    "# 작다(<)/크다(>)/다르다(!) 기호는 등호(=)와 함께 왼쪽에 붙여써야 한다.\n",
    "\n",
    "# 비교/관계연산자도 일반적인 사칙연산자처럼 주어진 두 수를 이용해 계산을 수행하고,\n",
    "# 그 결과를 True(참), 또는 False(거짓)로 계산해주는 연산자이다.\n",
    "# 비교/관계연산자는 <, >, <=, >=, ==(같다), !=(다르다) 6개가 있다.\n",
    "\n",
    "a, b = map(int, input().split())\n",
    "if a <=b:\n",
    "    print(True)\n",
    "else:\n",
    "    print(False)\n",
    "    "
   ]
  },
  {
   "cell_type": "code",
   "execution_count": 29,
   "id": "baaad82f-c50d-4e0e-b71c-fb54f5e8af08",
   "metadata": {},
   "outputs": [
    {
     "name": "stdin",
     "output_type": "stream",
     "text": [
      " 0 -1\n"
     ]
    },
    {
     "name": "stdout",
     "output_type": "stream",
     "text": [
      "True\n"
     ]
    }
   ],
   "source": [
    "# #051\n",
    "# 두 정수(a, b)를 입력받아\n",
    "# a의 값이 b의 값과 서로 다르면 True 를, 같으면 False 를 출력하는 프로그램을 작성해보자.\n",
    "\n",
    "# 참고\n",
    "# 어떤 값을 비교하기 위해 비교/관계(comparison/relational) 연산자(operator)를 사용할 수 있다.\n",
    "\n",
    "# 비교/관계연산자 != 는\n",
    "# 왼쪽의 계산 결과값이 오른쪽의 계산 결과값이 서로 다른 경우 True(참)로 계산하고,\n",
    "# 그 외의 경우에는 False(거짓)로 계산한다.\n",
    "\n",
    "# 비교/관계연산자도 일반적인 사칙연산자처럼 주어진 두 수를 이용해 계산을 수행하고,\n",
    "# 그 결과를 True(참), 또는 False(거짓)로 계산해주는 연산자이다.\n",
    "# 비교/관계연산자는 <, >, <=, >=, ==(같다), !=(다르다) 6개가 있다.\n",
    "\n",
    "a, b = map(int, input().split())\n",
    "if a != b:\n",
    "    print(True)\n",
    "else:\n",
    "    print(False)"
   ]
  },
  {
   "cell_type": "code",
   "execution_count": 31,
   "id": "f51fc065-de89-4640-a5df-e19b616ca8ff",
   "metadata": {},
   "outputs": [
    {
     "name": "stdin",
     "output_type": "stream",
     "text": [
      " 0\n"
     ]
    },
    {
     "name": "stdout",
     "output_type": "stream",
     "text": [
      "False\n"
     ]
    }
   ],
   "source": [
    "# #052\n",
    "# 정수가 입력되었을 때, True/False 로 평가해주는 프로그램을 작성해보자.\n",
    "\n",
    "# 예시\n",
    "# n = int(input())\n",
    "# print(bool(n))\n",
    "\n",
    "# 참고\n",
    "# bool( ) 을 이용하면 입력된 식이나 값을 평가해 불 형의 값(True 또는 False)을 출력해준다.\n",
    "# 식이나 값을 계산해서 결과값이 만들어지는 것을 평가(evaluate)라고 한다. \n",
    "\n",
    "# python 언어에서 정수값 0은 False(거짓)로 평가되고, 그 외의 값들은 모두 True(참)로 평가된다.\n",
    "# ** 불 대수(boolean algebra)는 수학자 불이 만들어낸 것으로 True(참)/False(거짓) 값만 가지는 논리값과 그 값들 사이의 연산을 다룬다.\n",
    "n = int(input())\n",
    "if n == 0:\n",
    "    print(False)\n",
    "else:\n",
    "    print(True)\n"
   ]
  },
  {
   "cell_type": "markdown",
   "id": "aee008c3-aa91-4c8a-b792-c6135fc172f1",
   "metadata": {
    "jp-MarkdownHeadingCollapsed": true
   },
   "source": [
    "# 8. 논리연산"
   ]
  },
  {
   "cell_type": "code",
   "execution_count": 32,
   "id": "aa90e010-5d02-44e0-8766-371199849705",
   "metadata": {},
   "outputs": [
    {
     "name": "stdin",
     "output_type": "stream",
     "text": [
      " 1\n"
     ]
    },
    {
     "name": "stdout",
     "output_type": "stream",
     "text": [
      "False\n"
     ]
    }
   ],
   "source": [
    "# #053\n",
    "# 정수값이 입력될 때,\n",
    "# 그 불 값을 반대로 출력하는 프로그램을 작성해보자.\n",
    "\n",
    "# 예시\n",
    "# a = bool(int(input()))\n",
    "# print(not a)\n",
    "\n",
    "# 참고\n",
    "# a = bool(int(input()))\n",
    "# 와 같은 형태로 겹쳐 작성하면, 한 번에 한 단계씩 계산/처리/평가된다.\n",
    "# 위와 같은 명령문의 경우 input( ), int( ), bool( ) 순서로 한 번에 한 단계씩 계산/처리/평가된다.\n",
    "\n",
    "# 어떤 불 값이나 변수에 not True, not False, not a 와 같은 계산이 가능하다.\n",
    "\n",
    "# 참 또는 거짓의 논리값을 역(반대)으로 바꾸기 위해서 not 예약어(reserved word, keyword)를 사용할 수 있다.\n",
    "\n",
    "# 이러한 논리연산을 NOT 연산(boolean NOT)이라고도 부르고,\n",
    "# 프라임 '(문자 오른쪽 위에 작은 따옴표), 바(기호 위에 가로 막대), 문자 오른쪽 위에 c(여집합, complement) 등으로 표시한다.\n",
    "# 모두 같은 의미이다.\n",
    "\n",
    "# 참, 거짓의 논리값 인 불(boolean) 값을 다루어주는 예약어는 not, and, or 이 있고,\n",
    "# 불 값들 사이의 논리(not, and, or) 연산 결과도 마찬가지로 True 또는 False 의 불 값으로 계산 된다.\n",
    "\n",
    "# 정수값 0은 False 이고, 나머지 정수 값들은 True 로 평가된다.\n",
    "# 빈 문자열 \"\" 나 ''는 False 이고, 나머지 문자열들은 True 로 평가된다.\n",
    "\n",
    "# ** 불 대수(boolean algebra)는 수학자 불이 만들어낸 것으로 True(참)/False(거짓) 값만 가지는 논리값과 그 값들 사이의 연산을 다룬다.\n",
    "\n",
    "\n",
    "a = bool(int(input()))\n",
    "print(not a)\n"
   ]
  },
  {
   "cell_type": "code",
   "execution_count": 34,
   "id": "2b2d59a6-699f-4301-b2a7-eb2098d0ef59",
   "metadata": {},
   "outputs": [
    {
     "name": "stdin",
     "output_type": "stream",
     "text": [
      " 1 0\n"
     ]
    },
    {
     "name": "stdout",
     "output_type": "stream",
     "text": [
      "False\n"
     ]
    }
   ],
   "source": [
    "#054\n",
    "\n",
    "# 2개의 정수값이 입력될 때,\n",
    "# 그 불 값이 모두 True 일 때에만 True 를 출력하는 프로그램을 작성해보자.\n",
    "\n",
    "# 예시\n",
    "# a, b = input().split()\n",
    "# print(bool(int(a)) and bool(int(b)))\n",
    "\n",
    "# 참고\n",
    "# and 예약어는 주어진 두 불 값이 모두 True 일 때에만 True 로 계산하고, 나머지 경우는 False 로 계산한다.\n",
    "# 이러한 논리연산을 AND 연산(boolean AND)이라고도 부르고, · 으로 표시하거나 생략하며, 집합 기호 ∩(교집합, intersection)로 표시하기도 한다. \n",
    "# 모두 같은 의미이다.\n",
    "\n",
    "# 참, 거짓의 논리값 인 불(boolean) 값을 다루어주는 예약어는 not, and, or 이 있고,\n",
    "# 불 값들 사이의 논리(not, and, or) 연산 결과도 마찬가지로 True 또는 False 의 불 값으로 계산된다.\n",
    "\n",
    "# ** 불 대수(boolean algebra)는 수학자 불이 만들어낸 것으로 True(참)/False(거짓) 값만 가지는 논리값과 그 값들 사이의 연산을 다룬다.\n",
    "\n",
    "a, b = map(int, input().split())\n",
    "if bool(a) and bool(b) == True:\n",
    "    print(True)\n",
    "else:\n",
    "    print(False)"
   ]
  },
  {
   "cell_type": "code",
   "execution_count": 36,
   "id": "eb3edcb1-58c2-4b44-b793-915710fd7635",
   "metadata": {},
   "outputs": [
    {
     "name": "stdin",
     "output_type": "stream",
     "text": [
      " 1 1\n"
     ]
    },
    {
     "name": "stdout",
     "output_type": "stream",
     "text": [
      "True\n"
     ]
    }
   ],
   "source": [
    "# #055\n",
    "# 2개의 정수값이 입력될 때,\n",
    "# 그 불 값이 하나라도 True 일 때에만 True 를 출력하는 프로그램을 작성해보자.\n",
    "\n",
    "# 참고\n",
    "# or 예약어는 주어진 두 불 값 중에서 하나라도 True 이면 True 로 계산하고, 나머지 경우는 False 로 계산한다.\n",
    "# 이러한 논리연산을 OR 연산(boolean OR)이라고도 부르고, + 로 표시하거나, 집합 기호 ∪(합집합, union)로 표시하기도 한다.\n",
    "# 모두 같은 의미이다.\n",
    "\n",
    "# 참, 거짓의 논리값 인 불(boolean) 값을 다루어주는 예약어는 not, and, or 이 있고,\n",
    "# 불 값들 사이의 논리(not, and, or) 연산 결과도 마찬가지로 True 또는 False 의 불 값으로 계산된다.\n",
    "\n",
    "# ** 불 대수(boolean algebra)는 수학자 불이 만들어낸 것으로 True(참)/False(거짓) 값만 가지는 논리값과 그 값들 사이의 연산을 다룬다.\n",
    "\n",
    "a, b = map(int, input().split())\n",
    "if bool(a) or bool(b) == True:\n",
    "    print(True)\n",
    "else:\n",
    "    print(False)"
   ]
  },
  {
   "cell_type": "code",
   "execution_count": 37,
   "id": "a0bc6339-a388-47cf-921a-0d4b9b5ec6ec",
   "metadata": {},
   "outputs": [
    {
     "name": "stdin",
     "output_type": "stream",
     "text": [
      " 1 1\n"
     ]
    },
    {
     "name": "stdout",
     "output_type": "stream",
     "text": [
      "False\n"
     ]
    }
   ],
   "source": [
    "# #056\n",
    "# 2개의 정수값이 입력될 때,\n",
    "# 그 불 값(True/False) 이 서로 다를 때에만 True 를 출력하는 프로그램을 작성해보자.\n",
    "\n",
    "# 예시\n",
    "# ...\n",
    "# c = bool(int(a))\n",
    "# d = bool(int(b))\n",
    "# print((c and (not d)) or ((not c) and d))\n",
    "\n",
    "# 참고\n",
    "# 참 거짓이 서로 다를 때에만 True 로 계산하는 논리연산을 XOR(exclusive or, 배타적 논리합) 연산이라고도 부른다.\n",
    "\n",
    "# 논리연산자는 사칙(+, -, *, /) 연산자와 마찬가지로 여러 번 중복해서 사용할 수 있는데, \n",
    "# 사칙 연산자와 마찬가지로 계산 순서를 표시하기 위해 괄호 ( )를 사용할 수 있다.\n",
    "# 괄호를 사용하면 계산 순서를 명확하게 표현할 수 있다.\n",
    "\n",
    "# 수학 식에서는 소괄호 (), 중괄호 {}, 대괄호 []를 사용하기도 하지만, 프로그래밍언어에서는 소괄호 ( ) 만 사용한다.\n",
    "\n",
    "# ** 불 대수(boolean algebra)는 수학자 불이 만들어낸 것으로 True(참)/False(거짓) 값만 가지는 논리값과 그 값들 사이의 연산을 다룬다.\n",
    "\n",
    "a, b = map(int,input().split())\n",
    "if bool(a) != bool(b):\n",
    "    print(True)\n",
    "else:\n",
    "    print(False)"
   ]
  },
  {
   "cell_type": "code",
   "execution_count": 38,
   "id": "92194dfa-9278-4790-9f99-6a8dd377e0ba",
   "metadata": {},
   "outputs": [
    {
     "name": "stdin",
     "output_type": "stream",
     "text": [
      " 0 0\n"
     ]
    },
    {
     "name": "stdout",
     "output_type": "stream",
     "text": [
      "True\n"
     ]
    }
   ],
   "source": [
    "# #057\n",
    "# 2개의 정수값이 입력될 때,\n",
    "# 그 불 값(True/False) 이 서로 같을 때에만 True 를 출력하는 프로그램을 작성해보자.\n",
    "\n",
    "a, b = map(int, input().split())\n",
    "if bool(a) == bool(b):\n",
    "    print(True)\n",
    "else:\n",
    "    print(False)\n",
    "    "
   ]
  },
  {
   "cell_type": "code",
   "execution_count": 42,
   "id": "f003954c-207d-45ff-9eb8-4880f099f696",
   "metadata": {},
   "outputs": [
    {
     "name": "stdin",
     "output_type": "stream",
     "text": [
      " 0 0 \n"
     ]
    },
    {
     "name": "stdout",
     "output_type": "stream",
     "text": [
      "True\n"
     ]
    }
   ],
   "source": [
    "# #058\n",
    "# 2개의 정수값이 입력될 때,\n",
    "# 그 불 값(True/False) 이 모두 False 일 때에만 True 를 출력하는 프로그램을 작성해보자.\n",
    "\n",
    "a, b = map(int, input().split())\n",
    "if bool(a) == False and bool(b) == False:\n",
    "    print(True)\n",
    "else:\n",
    "    print(False)\n",
    "    "
   ]
  },
  {
   "cell_type": "markdown",
   "id": "716cfa0d-3e97-400c-81fb-17da9d3ffb62",
   "metadata": {
    "jp-MarkdownHeadingCollapsed": true
   },
   "source": [
    "# 9. 비트단위논리연산"
   ]
  },
  {
   "cell_type": "code",
   "execution_count": 44,
   "id": "291734e8-21e5-437d-a1db-6938be1eaba7",
   "metadata": {},
   "outputs": [
    {
     "name": "stdin",
     "output_type": "stream",
     "text": [
      " 2\n"
     ]
    },
    {
     "name": "stdout",
     "output_type": "stream",
     "text": [
      "-3\n"
     ]
    }
   ],
   "source": [
    "# #059\n",
    "# 입력 된 정수를 비트단위로 참/거짓을 바꾼 후 정수로 출력해보자.\n",
    "# 비트단위(bitwise)연산자 ~ 를 붙이면 된다.(~ : tilde, 틸드라고 읽는다.)\n",
    "\n",
    "# ** 비트단위(bitwise) 연산자는,\n",
    "# ~(bitwise not), &(bitwise and), |(bitwise or), ^(bitwise xor),\n",
    "# <<(bitwise left shift), >>(bitwise right shift)\n",
    "# 가 있다.\n",
    "\n",
    "# 예를 들어 1이 입력되었을 때 저장되는 1을 32비트 2진수로 표현하면\n",
    "#         00000000 00000000 00000000 00000001 이고,\n",
    "# ~1은 11111111 11111111 11111111 11111110 가 되는데 이는 -2를 의미한다.\n",
    "\n",
    "# 예시\n",
    "# a = 1\n",
    "# print(~a) #-2가 출력된다.\n",
    "\n",
    "# 참고\n",
    "# 컴퓨터에 저장되는 모든 데이터들은 2진수 형태로 바뀌어 저장된다.\n",
    "# 0과 1로만 구성되는 비트단위들로 변환되어 저장되는데,\n",
    "# 양의 정수는 2진수 형태로 바뀌어 저장되고, 음의 정수는 \"2의 보수 표현\"방법으로 저장된다.\n",
    "\n",
    "# 양의 정수 5를 32비트로 저장하면, \n",
    "\n",
    "# 5의 2진수 형태인 101이 32비트로 만들어져\n",
    "# 00000000 00000000 00000000 00000101\n",
    "# 로 저장된다.(공백은 보기 편하도록 임의로 분리)\n",
    "\n",
    "# 32비트 형의 정수 0은\n",
    "# 00000000 00000000 00000000 00000000\n",
    "\n",
    "# 그리고 -1은 0에서 1을 더 빼고 32비트만 표시하는 형태로\n",
    "# 11111111 11111111 11111111 11111111 로 저장된다.\n",
    "\n",
    "# -2는 -1에서 1을 더 빼면 된다.\n",
    "# 11111111 11111111 11111111 11111110 로 저장된다.\n",
    "\n",
    "# 이러한 내용을 간단히 표현하면, 정수 n이라고 할 때,\n",
    "\n",
    "# ~n = -n - 1\n",
    "# -n = ~n + 1 과 같은 관계로 표현할 수 있다.\n",
    "\n",
    "# 이 관계를 그림으로 그려보면 마치 원형으로 수들이 상대적으로 배치된 것과 같다.\n",
    "\n",
    "a = int(input())\n",
    "print(~a)"
   ]
  },
  {
   "cell_type": "code",
   "execution_count": 45,
   "id": "5b7be989-e12d-4386-ada4-14585999a9ab",
   "metadata": {},
   "outputs": [
    {
     "name": "stdin",
     "output_type": "stream",
     "text": [
      " 3 5\n"
     ]
    },
    {
     "name": "stdout",
     "output_type": "stream",
     "text": [
      "1\n"
     ]
    }
   ],
   "source": [
    "# # #060\n",
    "\n",
    "# 입력된 정수 두 개를 비트단위로 and 연산한 후 그 결과를 정수로 출력해보자.\n",
    "# 비트단위(bitwise)연산자 &를 사용하면 된다.(and, ampersand, 앰퍼센드라고 읽는다.)\n",
    "\n",
    "# ** 비트단위(bitwise)연산자는,\n",
    "# ~(bitwise not), &(bitwise and), |(bitwise or), ^(bitwise xor),\n",
    "# <<(bitwise left shift), >>(bitwise right shift)\n",
    "# 가 있다.\n",
    "\n",
    "# 예를 들어 3과 5가 입력되었을 때를 살펴보면\n",
    "# 3       : 00000000 00000000 00000000 00000011\n",
    "# 5       : 00000000 00000000 00000000 00000101\n",
    "# 3 & 5 : 00000000 00000000 00000000 00000001\n",
    "# 이 된다.\n",
    "\n",
    "# 비트단위 and 연산은 두 비트열이 주어졌을 때,\n",
    "# 둘 다 1인 부분의 자리만 1로 만들어주는 것과 같다.\n",
    "\n",
    "# 이 연산을 이용하면 어떤 비트열의 특정 부분만 모두 0으로도 만들 수 있는데\n",
    "# 192.168.0.31   : 11000000.10101000.00000000.00011111\n",
    "# 255.255.255.0 : 11111111.11111111.11111111.00000000\n",
    "\n",
    "# 두 개의 ip 주소를 & 연산하면\n",
    "# 192.168.0.0 :     110000000.10101000.0000000.00000000 을 계산할 수 있다.\n",
    "\n",
    "# 실제로 이 계산은 네트워크에 연결되어 있는 두 개의 컴퓨터가 데이터를 주고받기 위해\n",
    "# 같은 네트워크에 있는지 아닌지를 판단하는데 사용된다.\n",
    "\n",
    "# 이러한 비트단위 연산은 빠른 계산이 필요한 그래픽처리에서\n",
    "# 마스크연산(특정 부분을 가리고 출력하는)을 수행하는 데에도 효과적으로 사용된다.\n",
    "a, b = map(int, input().split())\n",
    "print(a & b)"
   ]
  },
  {
   "cell_type": "code",
   "execution_count": 2,
   "id": "49051d9b-3def-4620-9b61-62f4a25500f5",
   "metadata": {},
   "outputs": [
    {
     "name": "stdin",
     "output_type": "stream",
     "text": [
      " 3 5\n"
     ]
    },
    {
     "name": "stdout",
     "output_type": "stream",
     "text": [
      "7\n"
     ]
    }
   ],
   "source": [
    "# 061#\n",
    "\n",
    "# 입력된 정수 두 개를 비트단위로 or 연산한 후 그 결과를 정수로 출력해보자.\n",
    "# 비트단위(bitwise) 연산자 |(or, vertical bar, 버티컬바)를 사용하면 된다.\n",
    "\n",
    "# ** | 은 파이프(pipe)연산자라고도 불리는 경우가 있다.\n",
    "\n",
    "# ** 비트단위(bitwise) 연산자는,\n",
    "# ~(bitwise not), &(bitwise and), |(bitwise or), ^(bitwise xor),\n",
    "# <<(bitwise left shift), >>(bitwise right shift)\n",
    "# 가 있다.\n",
    "\n",
    "# 예를 들어 3과 5가 입력되었을 때를 살펴보면\n",
    "# 3      : 00000000 00000000 00000000 00000011\n",
    "# 5      : 00000000 00000000 00000000 00000101\n",
    "# 3 | 5 : 00000000 00000000 00000000 00000111\n",
    "# 이 된다.\n",
    "\n",
    "# 비트단위 or 연산은 둘 중 하나라도 1인 자리를 1로 만들어주는 것과 같다.\n",
    "\n",
    "# 이러한 비트단위 연산은 빠른 계산이 필요한 그래픽처리에서도 효과적으로 사용된다.\n",
    "a, b = map(int, input().split())\n",
    "print(a |b )"
   ]
  },
  {
   "cell_type": "code",
   "execution_count": 3,
   "id": "b082acb9-a0e1-4596-a41d-bcac2bbc73c2",
   "metadata": {},
   "outputs": [
    {
     "name": "stdin",
     "output_type": "stream",
     "text": [
      " 3 5\n"
     ]
    },
    {
     "name": "stdout",
     "output_type": "stream",
     "text": [
      "6\n"
     ]
    }
   ],
   "source": [
    "# #062\n",
    "\n",
    "# 입력된 정수 두 개를 비트단위로 xor 연산한 후 그 결과를 정수로 출력해보자.\n",
    "# 비트단위(bitwise) 연산자 ^(xor, circumflex/caret, 서컴플렉스/카릿)를 사용하면 된다.\n",
    "\n",
    "# ** 주의 ^은 수학식에서 거듭제곱(power)을 나타내는 기호와 모양은 같지만,\n",
    "# C언어에서는 전혀 다른 배타적 논리합(xor, 서로 다를 때 1)의 의미를 가진다.\n",
    "\n",
    "# ** 비트단위(bitwise) 연산자는,\n",
    "# ~(bitwise not), &(bitwise and), |(bitwise or), ^(bitwise xor),\n",
    "# <<(bitwise left shift), >>(bitwise right shift)\n",
    "# 가 있다.\n",
    "\n",
    "# 예를 들어 3과 5가 입력되었을 때를 살펴보면\n",
    "# 3       : 00000000 00000000 00000000 00000011\n",
    "# 5       : 00000000 00000000 00000000 00000101\n",
    "# 3 ^ 5 : 00000000 00000000 00000000 00000110\n",
    "# 이 된다.\n",
    "# 이러한 비트단위 연산은 빠른 계산이 필요한 그래픽처리에서도 효과적으로 사용된다.\n",
    "\n",
    "# 구체적으로 설명하자면,\n",
    "# 두 장의 이미지가 겹쳐졌을 때 색이 서로 다른 부분만 처리할 수 있다.\n",
    "# 배경이 되는 그림과 배경 위에서 움직이는 그림이 있을 때,\n",
    "# 두 그림에서 차이만 골라내 배경 위에서 움직이는 그림의 색으로 바꿔주면\n",
    "# 전체 그림을 구성하는 모든 점들의 색을 다시 계산해 입히지 않고\n",
    "# 보다 효과적으로 그림을 처리할 수 있게 되는 것이다.\n",
    "# 비행기 슈팅게임 등을 상상해보면 된다.\n",
    "\n",
    "a, b = map(int, input().split())\n",
    "print(a ^ b)"
   ]
  },
  {
   "cell_type": "markdown",
   "id": "40d763ca-048d-48bc-aba9-64937edf8403",
   "metadata": {
    "jp-MarkdownHeadingCollapsed": true
   },
   "source": [
    "# 10. 3항연산"
   ]
  },
  {
   "cell_type": "code",
   "execution_count": 4,
   "id": "2fc8c11b-2b26-4d8a-9d14-d783b2cea6c5",
   "metadata": {},
   "outputs": [
    {
     "name": "stdin",
     "output_type": "stream",
     "text": [
      " 123 456\n"
     ]
    },
    {
     "name": "stdout",
     "output_type": "stream",
     "text": [
      "456\n"
     ]
    }
   ],
   "source": [
    "# #063\n",
    "\n",
    "# 입력된 두 정수(a, b) 중 큰 값을 출력하는 프로그램을 작성해보자.\n",
    "# 단, 3항 연산을 사용한다.\n",
    "\n",
    "# 예시\n",
    "# a, b = input().split()\n",
    "# a = int(a)  #변수 a에 저장되어있는 값을 정수로 바꾸어 다시 변수 a에 저장\n",
    "# b = int(b)\n",
    "# c = (a if (a>=b) else b)\n",
    "# print(int(c))\n",
    "\n",
    "# 참고\n",
    "# 3개의 요소로 이루어지는 3항 연산은\n",
    "# \"x if C else y\" 의 형태로 작성이 된다.\n",
    "# - C : True 또는 False 를 평가할 조건식(conditional expression) 또는 값\n",
    "# - x : C의 평가 결과가 True 일 때 사용할 값\n",
    "# - y : C의 평가 결과가 True 가 아닐 때 사용할 값\n",
    "\n",
    "# 조건식 또는 값이 True 이면 x 값이 사용되고, True가 아니면 y 값이 사용되도록 하는 코드이다.\n",
    "\n",
    "# 예를 들어\n",
    "# 0 if 123>456 else 1\n",
    "# 과 같은 표현식의 평가값은 123 > 456 의 비교연산 결과가 False 이므로 1이 된다.\n",
    "\n",
    "# 예시 코드에서\n",
    "# a>=b 의 결과가 True(참) 이면 (a if (a>=b) else b)의 결과는 a가 되고,\n",
    "# a>=b 의 결과가 False(거짓)이면 (a if (a>=b) else b)의 결과는 b가 된다.\n",
    "a, b = map(int, input().split())\n",
    "if a > b :\n",
    "    print(a)\n",
    "else:\n",
    "    print(b)"
   ]
  },
  {
   "cell_type": "code",
   "execution_count": 6,
   "id": "87e4c918-e22b-469f-ab1b-7e6cf85f0802",
   "metadata": {},
   "outputs": [
    {
     "name": "stdin",
     "output_type": "stream",
     "text": [
      " 1 2 3\n"
     ]
    },
    {
     "name": "stdout",
     "output_type": "stream",
     "text": [
      "1\n"
     ]
    }
   ],
   "source": [
    "#064\n",
    "\n",
    "# 입력된 세 정수 a, b, c 중 가장 작은 값을 출력하는 프로그램을 작성해보자.\n",
    "# 단, 3항 연산을 사용한다.\n",
    "\n",
    "# 참고\n",
    "# 프로그래밍언어 소스코드 작성시 모든 요소들은\n",
    "# \"순서에 따라 한 단계씩 실행\"\n",
    "# \"미리 정해진 순서에 따라 하나씩 연산 수행\"\n",
    "# \"그 때까지 연산된 결과를 이용해 다시 순서에 따라 하나씩 연산\"\n",
    "# ...\n",
    "# 등의 원리가 적용된다.\n",
    "\n",
    "# 따라서 3항 연산을 중첩해(괄호로 묶는 등..) 이용하면 여러 값들을 순서대로 비교해 가장 큰/작은 값을 계산할 수 있다.\n",
    "\n",
    "# 예를 들어\n",
    "# (a if a>b else b) if ((a if a>b else b)>c) else c\n",
    "# 와 같은 계산식은 a, b, c 의 값 중 가장 큰 값으로 계산된다.\n",
    "\n",
    "# 잘 이해가 되지 않는다면 어떤 순서에 따라 계산될 지 생각해보고\n",
    "# 여러 가지 연산자가 동시에 사용된 식이 있을 때, 어떤 우선순위에 따라 순서대로 계산이 되는지 찾아보도록 한다.\n",
    "# “연산자 우선순위”를 검색하면 우선순위와 결합방향이 나온다.\n",
    "# 예를 들어 변수에 어떤 값을 대입하는 대입(assign) 연산자 = 의 우선순위는 가장 낮고, 오른쪽에서 왼쪽의 결합방향을 가진다.\n",
    "\n",
    "# ** 3항 연산은 자주 사용되지는 않지만,\n",
    "# 복잡한 계산식이나 조건 처리, 비교 구조를 간단히 표현할 수 있게 해준다.\n",
    "\n",
    "a, b, c = map(int, input().split())\n",
    "print(min(a,b,c))"
   ]
  },
  {
   "cell_type": "markdown",
   "id": "0f72f8ed-b378-4765-ad73-66c4351ae233",
   "metadata": {
    "jp-MarkdownHeadingCollapsed": true
   },
   "source": [
    "# 11. 조건/선택실행구조"
   ]
  },
  {
   "cell_type": "code",
   "execution_count": 9,
   "id": "5b9d3140-e2d5-477a-932f-9135a69d90ca",
   "metadata": {},
   "outputs": [
    {
     "name": "stdin",
     "output_type": "stream",
     "text": [
      " 1 2 4\n"
     ]
    },
    {
     "name": "stdout",
     "output_type": "stream",
     "text": [
      "2\n",
      "4\n"
     ]
    }
   ],
   "source": [
    "#065 \n",
    "a, b, c= map(int, input().split())\n",
    "if a%2 == 0:\n",
    "    print(a)\n",
    "if b%2 ==0:\n",
    "    print(b)\n",
    "if (c % 2) ==0 :\n",
    "    print(c)\n",
    "\n",
    "# 3개의 정수(a, b, c)가 입력되었을 때, 짝수만 출력해보자.\n",
    "\n",
    "# 예시\n",
    "# a, b, c = input().split()\n",
    "\n",
    "# a = int(a)\n",
    "# b = int(b)\n",
    "# c = int(c)\n",
    "\n",
    "# if a%2==0 :  #논리적으로 한 단위로 처리해야하는 경우 콜론(:)을 찍고, 들여쓰기로 작성 한다.\n",
    "#   print(a)\n",
    "\n",
    "# if b%2==0 :\n",
    "#   print(b) \n",
    "\n",
    "# if c%2==0 :\n",
    "#   print(c) \n",
    "\n",
    "# 참고 \n",
    "# if 조건식 :\n",
    "#   실행1  #조건식의 평가값이 True 인 경우 실행시킬 명령을 들여쓰기를 이용해 순서대로 작성한다.\n",
    "#   실행2\n",
    "# 실행3  #들여쓰기를 하지 않은 부분은 조건식에 상관이 없음 \n",
    "\n",
    "# python 에서는 논리적 실행단위인 코드블록(code block)을 표현하기 위해 들여쓰기를 사용한다.\n",
    "# 들여쓰기 방법은 탭(tab), 공백(space) 4개 등 여러 가지 방법을 사용할 수 있지만\n",
    "# 한 소스코드 내에서 들여쓰기 길이와 방법은 똑같아야 한다.\n",
    "\n",
    "# a%2==0 은 (a%2)가 먼저 계산된 후 그 결과를 정수 0과 비교한 결과값이다.\n",
    "# a를 2로 나눈 나머지가 0, 즉 짝수이면 True 가 되고, 아니면 False 로 계산된다.\n",
    "# 따라서,\n",
    "# if a%2==0 : #a가 짝수라면 ... \n",
    "# 와 같은 의미가 된다. 짝수가 아니라면 들여쓰기로 작성된 부분들은 실행되지 않는다."
   ]
  },
  {
   "cell_type": "code",
   "execution_count": 11,
   "id": "013ea1a5-6a7f-4fc6-9e9b-82795f910670",
   "metadata": {},
   "outputs": [
    {
     "name": "stdin",
     "output_type": "stream",
     "text": [
      " 1 2 8\n"
     ]
    },
    {
     "name": "stdout",
     "output_type": "stream",
     "text": [
      "odd\n",
      "even\n",
      "even\n"
     ]
    }
   ],
   "source": [
    "# #066\n",
    "# 3개의 정수(a, b, c)가 입력되었을 때, 짝(even)/홀(odd)을 출력해보자.\n",
    "\n",
    "# 예시\n",
    "# ...\n",
    "# if a%2==0 :\n",
    "#   print(\"even\")\n",
    "# else :\n",
    "#   print(\"odd\") \n",
    "# ...\n",
    "\n",
    "# 참고 \n",
    "# if 조건식 :  #조건식을 평가해서...\n",
    "#   실행1      #True 인 경우 실행시킬 명령들...\n",
    "#   실행2\n",
    "# else :        \n",
    "#   실행3      #False 인 경우 실행시킬 명령들...\n",
    "#   실행4\n",
    "# 실행5       #조건식과 상관없는 다음 명령\n",
    "# ...\n",
    "\n",
    "# else 는 if 없이 혼자 사용되지 않는다.\n",
    "# 또한, else 다음에는 조건식이 없는 이유는? True(참)가 아니면 False(거짓)이기 때문에... \n",
    "# 조건식의 평가 결과는 True 아니면 False 로 계산되기 때문이다.\n",
    "\n",
    "# python 에서는 들여쓰기를 기준으로 코드블록을 구분하므로, 들여쓰기를 정확하게 해주어야 한다.\n",
    "\n",
    "a, b, c= map(int, input(). split())\n",
    "li = [a,b,c]\n",
    "for i in li:\n",
    "    if i%2==0:\n",
    "        print(\"even\")\n",
    "    else:\n",
    "        print(\"odd\")\n",
    "        "
   ]
  },
  {
   "cell_type": "code",
   "execution_count": 19,
   "id": "1d6fc6ce-0cba-4a3e-a6a8-d8576b4042b2",
   "metadata": {},
   "outputs": [
    {
     "name": "stdin",
     "output_type": "stream",
     "text": [
      " -2147483648\n"
     ]
    },
    {
     "name": "stdout",
     "output_type": "stream",
     "text": [
      "A\n"
     ]
    }
   ],
   "source": [
    "# #067\n",
    "# 0이 아닌 정수 1개가 입력되었을 때, 음(-)/양(+)과 짝(even)/홀(odd)을 구분해 분류해보자.\n",
    "# 음수이면서 짝수이면, A\n",
    "# 음수이면서 홀수이면, B\n",
    "# 양수이면서 짝수이면, C\n",
    "# 양수이면서 홀수이면, D\n",
    "# 를 출력한다.\n",
    "\n",
    "# 예시\n",
    "# ...\n",
    "# if n<0 :\n",
    "#   if n%2==0 :\n",
    "#     print('A')      #주의 : 변수 A와 문자열 'A' / \"A\" 는 의미가 완전히 다르다. \n",
    "#   else :\n",
    "#     print('B')\n",
    "# else :\n",
    "#   if n%2==0 :\n",
    "#     print('C')\n",
    "#   else :\n",
    "#     print('D')\n",
    "# ...\n",
    "\n",
    "# 참고\n",
    "# 조건/선택 실행구조 안에 다시 조건/선택 실행구조를 \"중첩\"할 수가 있다.\n",
    "\n",
    "# 또한, 중첩된 조건은\n",
    "# ...\n",
    "# if (n<0) and (n%2==0) :\n",
    "#     print('A')\n",
    "# ...\n",
    "# 와 같이 논리연산자(not, and, or)를 이용해 합쳐 표현할 수도 있다.\n",
    "# 비교연산(<, >, <=, >=, ==, !=) 의 계산 결과는 True 또는 False 의 불(boolean) 값이고,\n",
    "# 불 값들 사이의 논리연산(not, and, or)의 결과도 True 또는 False 의 불 값이다.\n",
    "\n",
    "a= int(input())\n",
    "if a > 0:\n",
    "    if a%2==0:\n",
    "        print(\"C\")\n",
    "    else:\n",
    "        print(\"D\")\n",
    "else:\n",
    "    if a%2==1:\n",
    "        print(\"B\")\n",
    "    else:\n",
    "        print(\"A\")\n",
    "            "
   ]
  },
  {
   "cell_type": "code",
   "execution_count": 21,
   "id": "540a03c7-6221-46f0-bd85-8c96bba135da",
   "metadata": {},
   "outputs": [
    {
     "name": "stdin",
     "output_type": "stream",
     "text": [
      " 73\n"
     ]
    },
    {
     "name": "stdout",
     "output_type": "stream",
     "text": [
      "B\n"
     ]
    }
   ],
   "source": [
    "# #068\n",
    "# 점수(정수, 0 ~ 100)를 입력받아 평가를 출력해보자.\n",
    "\n",
    "# 평가 기준\n",
    "# 점수 범위 : 평가\n",
    "#  90 ~ 100 : A\n",
    "#  70 ~   89 : B\n",
    "#  40 ~   69 : C\n",
    "#    0 ~   39 : D\n",
    "# 로 평가되어야 한다.\n",
    "\n",
    "# 예시\n",
    "# ...\n",
    "# if n>=90 :\n",
    "#   print('A')\n",
    "# else :\n",
    "#   if n>=70 :\n",
    "#     print('B')\n",
    "#   else :\n",
    "#     if n>=40 :\n",
    "#       print('C')\n",
    "#     else :\n",
    "#       print('D') \n",
    "# ...\n",
    "\n",
    "# 참고\n",
    "# 여러 조건들을 순서대로 비교하면서 처리하기 위해서 조건문을 여러 번 중첩할 수 있다.\n",
    "\n",
    "# if 조건식1 :\n",
    "#   ...\n",
    "# else :\n",
    "#   if 조건식2 :\n",
    "#     ...\n",
    "#   else :\n",
    "#     if 조건식3 :\n",
    "#       ...\n",
    "#     else :\n",
    "#       ...\n",
    "# ...\n",
    "# 와 같이 조건/선택 실행 구조를 겹쳐 작성하면 순서대로 조건을 검사할 수 있다.\n",
    "# 어떤 조건이 참이면 그 부분의 내용을 실행하고 전체 조건/선택 구조를 빠져나가게 된다.\n",
    "\n",
    "# if 조건식1 : \n",
    "#   ... \n",
    "# elif 조건식2 : \n",
    "#   ... \n",
    "# elif 조건식3 : \n",
    "#   ... \n",
    "# else : \n",
    "#   ...\n",
    "# 도 똑같은 기능을 한다. elif는 else if 의 짧은 약어라고 생각해도 된다.\n",
    "# elif 를 사용하면 if ... else ... 구조를 겹쳐 사용할 때처럼, 여러 번 안 쪽으로 들여쓰기 하지 않아도 된다.\n",
    "n = int(input())\n",
    "if n>= 90:\n",
    "    print(\"A\")\n",
    "elif n>=70:\n",
    "    print(\"B\")\n",
    "elif n >= 40:\n",
    "    print(\"C\")\n",
    "else:\n",
    "    print(\"D\")"
   ]
  },
  {
   "cell_type": "code",
   "execution_count": null,
   "id": "18d7af0f-8507-4fa9-a3a7-140d9d3707d3",
   "metadata": {},
   "outputs": [],
   "source": [
    "# #069\n",
    "# 평가를 문자(A, B, C, D, ...)로 입력받아 내용을 다르게 출력해보자.\n",
    "\n",
    "# 평가 내용\n",
    "# 평가 : 내용\n",
    "# A : best!!!\n",
    "# B : good!!\n",
    "# C : run!\n",
    "# D : slowly~\n",
    "# 나머지 문자들 : what?\n",
    "\n",
    "n = str(input())\n",
    "if n == \"A\":\n",
    "    print(\"best!!!\")\n",
    "elif n == \"B\":\n",
    "    print(\"good!!\")\n",
    "elif n == \"C\":\n",
    "    print(\"run!\")\n",
    "elif n == \"D\":\n",
    "    print(\"slowly~\")\n",
    "else:\n",
    "    print(\"what?\")"
   ]
  },
  {
   "cell_type": "code",
   "execution_count": 28,
   "id": "08ae2400-53da-44ce-9342-11ae1efde8be",
   "metadata": {},
   "outputs": [
    {
     "name": "stdin",
     "output_type": "stream",
     "text": [
      " 8\n"
     ]
    },
    {
     "name": "stdout",
     "output_type": "stream",
     "text": [
      "winter\n"
     ]
    }
   ],
   "source": [
    "# #070\n",
    "# 월이 입력될 때 계절 이름이 출력되도록 해보자.\n",
    "\n",
    "# 월 : 계절 이름\n",
    "# 12, 1, 2 : winter\n",
    "#   3, 4, 5 : spring\n",
    "#   6, 7, 8 : summer\n",
    "#   9, 10, 11 : fall\n",
    "\n",
    "# 예시\n",
    "# ...\n",
    "# if n//3==1 :\n",
    "#   print(\"spring\")\n",
    "# ...\n",
    "\n",
    "# 참고\n",
    "# 때때로 수들의 특징을 관찰하고 이용하면 매우 간단히 해결할 수도 있다.\n",
    "\n",
    "n = int(input())\n",
    "if n in (12, 1,2):\n",
    "    print(\"winter\")\n",
    "elif n in (3,4,5):\n",
    "    print(\"spring\")\n",
    "elif n in (6,7,8):\n",
    "    print(\"summer\")\n",
    "else:\n",
    "    print(\"fall\")\n",
    "    "
   ]
  },
  {
   "cell_type": "markdown",
   "id": "bfc3a47e-8a07-4f70-b7e9-bdca2e9fb730",
   "metadata": {
    "jp-MarkdownHeadingCollapsed": true
   },
   "source": [
    "# 12. 반복실행구조 "
   ]
  },
  {
   "cell_type": "code",
   "execution_count": 29,
   "id": "b87da6ad-86d6-4f7e-ae90-154d0da2cc8a",
   "metadata": {},
   "outputs": [
    {
     "name": "stdin",
     "output_type": "stream",
     "text": [
      " 7\n"
     ]
    },
    {
     "name": "stdout",
     "output_type": "stream",
     "text": [
      "7\n"
     ]
    },
    {
     "name": "stdin",
     "output_type": "stream",
     "text": [
      " 4\n"
     ]
    },
    {
     "name": "stdout",
     "output_type": "stream",
     "text": [
      "4\n"
     ]
    },
    {
     "name": "stdin",
     "output_type": "stream",
     "text": [
      " 2\n"
     ]
    },
    {
     "name": "stdout",
     "output_type": "stream",
     "text": [
      "2\n"
     ]
    },
    {
     "name": "stdin",
     "output_type": "stream",
     "text": [
      " 3\n"
     ]
    },
    {
     "name": "stdout",
     "output_type": "stream",
     "text": [
      "3\n"
     ]
    },
    {
     "name": "stdin",
     "output_type": "stream",
     "text": [
      " 0\n"
     ]
    }
   ],
   "source": [
    "# #071\n",
    "\n",
    "# 임의의 정수가 줄을 바꿔 계속 입력된다.\n",
    "# -2147483648 ~ +2147483647, 단 개수는 알 수 없다.\n",
    "\n",
    "# 0이 아니면 입력된 정수를 출력하고, 0이 입력되면 출력을 중단해보자.\n",
    "\n",
    "# 예시\n",
    "# ...\n",
    "# n = 1      #처음 조건 검사를 통과하기 위해 0 아닌 값을 임의로 저장\n",
    "# while n!=0 :\n",
    "#   n = int(input())\n",
    "#   if n!=0 :\n",
    "#     print(n)\n",
    "# ...\n",
    "\n",
    "# 참고\n",
    "# if 조건식 :\n",
    "#   ...\n",
    "#   ...\n",
    "\n",
    "\n",
    "# 구조를 사용하면,\n",
    "# 주어진 조건식의 평가 결과가 True 인 경우에만, 들여쓰기로 구분된 코드블록이 실행된다.\n",
    "\n",
    "# if 를 while 로 바꾸면?\n",
    "\n",
    "# while 조건식 :\n",
    "#   ...\n",
    "#   ...\n",
    "\n",
    "# 와 같은 방법으로 반복해서 실행시킬 수 있다.\n",
    "\n",
    "# 실행되는 과정은\n",
    "# 1. 조건식을 평가한다.\n",
    "# 2. True 인 경우 코드블록을 실행한다.\n",
    "# 3. 다시 조건식을 평가한다.\n",
    "# 4. True 인 경우 코드블록을 실행한다.\n",
    "# ...\n",
    "# ... 조건식의 평가 값이 False 인 경우 반복을 중단하고, 그 다음 명령을 실행한다.\n",
    "\n",
    "# 조건식의 평가 결과가 True 동안만 반복 실행된다. \n",
    "\n",
    "# 반복실행구조 안에 다른 조건/선택실행구조를 넣을 수도 있고...\n",
    "# 조건/선택실행구조 안에 다른 반복실행구조를 넣을 수도 있다.\n",
    "n= 1\n",
    "while n!= 0:\n",
    "    n = int(input())\n",
    "    if n !=0:\n",
    "        print(n)"
   ]
  },
  {
   "cell_type": "code",
   "execution_count": 30,
   "id": "07d401e6-a684-4b4e-aa0f-4b463d13c43d",
   "metadata": {},
   "outputs": [
    {
     "name": "stdin",
     "output_type": "stream",
     "text": [
      " 5\n"
     ]
    },
    {
     "name": "stdout",
     "output_type": "stream",
     "text": [
      "5\n",
      "4\n",
      "3\n",
      "2\n",
      "1\n"
     ]
    }
   ],
   "source": [
    "# #072\n",
    "\n",
    "# 정수(1 ~ 100) 1개가 입력되었을 때 카운트다운을 출력해보자.\n",
    "\n",
    "# while 조건식 :\n",
    "#   ...\n",
    "#   ...\n",
    "# 반복 실행구조를 사용해 보자.\n",
    "\n",
    "# 예시\n",
    "# ...\n",
    "# while n!=0 :\n",
    "#   print(n)\n",
    "#   n = n-1\n",
    "# ...\n",
    "\n",
    "# 참고\n",
    "# n = n-1  #n에 저장되어있던 값에서 1만큼 뺀 후, 그 값을 다시 n에 저장시킨다.\n",
    "# n -= 1 과 같이 짧게 작성할 수도 있다. n -= 1 은 n = n-1 과 같은 의미이다.\n",
    "# 이렇게 산술연산자(+, -, *, / ... )와 대입 연산자(=)를 함께 쓰는 것을 복합대입연산자라고도 부른다.\n",
    "# 같은 방법으로 +=, *=, /=, //=, %=, &=, |=, ^=, >>=, <<=, **= 등과 같이 짧게 작성할 수 있다.\n",
    "\n",
    "# 처음에 조건식을 검사하고, 그 다음에 실행하고, 그 다음에 값을 바꾸고...\n",
    "# 다시 조건식을 검사하고, 실행하고, 값을 바꾸고...\n",
    "\n",
    "n = int(input())\n",
    "while n!=0:\n",
    "    print(n)\n",
    "    n=n-1"
   ]
  },
  {
   "cell_type": "code",
   "execution_count": 32,
   "id": "4e3541f2-f0cf-4f88-9385-be3eda5dd30f",
   "metadata": {},
   "outputs": [
    {
     "name": "stdin",
     "output_type": "stream",
     "text": [
      " 5\n"
     ]
    },
    {
     "name": "stdout",
     "output_type": "stream",
     "text": [
      "4\n",
      "3\n",
      "2\n",
      "1\n",
      "0\n"
     ]
    }
   ],
   "source": [
    "# #073\n",
    "\n",
    "# 정수(1 ~ 100) 1개가 입력되었을 때 카운트다운을 출력해보자.\n",
    "\n",
    "# while 조건식 :\n",
    "#   ...\n",
    "#   ...\n",
    "\n",
    "# 반복 실행구조를 사용해 보자.\n",
    "\n",
    "# 참고\n",
    "# 조건검사, 출력, 감소의 순서와 타이밍을 잘 생각해보자.\n",
    "n = int(input())\n",
    "while n!=0:\n",
    "    print(n-1)\n",
    "    n = n-1"
   ]
  },
  {
   "cell_type": "code",
   "execution_count": 34,
   "id": "e59c254a-f7f4-4173-9bec-e02a4cf0a62f",
   "metadata": {},
   "outputs": [
    {
     "name": "stdin",
     "output_type": "stream",
     "text": [
      " t\n"
     ]
    },
    {
     "name": "stdout",
     "output_type": "stream",
     "text": [
      "a b c d e f g h i j k l m n o p q r s t "
     ]
    }
   ],
   "source": [
    "# #074\n",
    "\n",
    "# 영문 소문자(a ~ z) 1개가 입력되었을 때,\n",
    "# a부터 그 문자까지의 알파벳을 순서대로 출력해보자.\n",
    "\n",
    "# 예시\n",
    "# c = ord(input())\n",
    "# t = ord('a')\n",
    "# while t<=c :\n",
    "#   print(chr(t), end=' ')\n",
    "#   t += 1\n",
    "\n",
    "# 참고\n",
    "# 알파벳 문자 a의 정수값은 ord('a')로 알아낼 수 있다.\n",
    "# chr(정수값)을 이용하면 유니코드 문자로 출력할 수 있다.\n",
    "# print(..., end=' ') 와 같이 작성하면 값 출력 후 공백문자 ' '를 출력한다. 즉, 마지막에 줄을 바꾸지 않고 빈칸만 띄운다.\n",
    "# (end='\\n'로 작성하거나 생략하면, 값을 출력한 후 마지막(end)에 줄바꿈(newline)이 된다.)\n",
    "c  = ord(input())\n",
    "t = ord(\"a\")\n",
    "while t <= c:\n",
    "    print(chr(t), end = ' ')\n",
    "    t+=1"
   ]
  },
  {
   "cell_type": "code",
   "execution_count": 37,
   "id": "f68e76e9-a43a-4f0f-a659-d7733745f104",
   "metadata": {},
   "outputs": [
    {
     "name": "stdin",
     "output_type": "stream",
     "text": [
      " 4\n"
     ]
    },
    {
     "name": "stdout",
     "output_type": "stream",
     "text": [
      "0\n",
      "1\n",
      "2\n",
      "3\n",
      "4\n"
     ]
    }
   ],
   "source": [
    "#075\n",
    "#정수(0 ~ 100) 1개를 입력받아 0부터 그 수까지 순서대로 출력해보자.\n",
    "\n",
    "n = int(input())\n",
    "for i in range(0, n+1, 1):\n",
    "    print(i)"
   ]
  },
  {
   "cell_type": "code",
   "execution_count": null,
   "id": "5920fcdf-3450-4e02-933e-2499953517c3",
   "metadata": {},
   "outputs": [],
   "source": [
    "# #076\n",
    "\n",
    "# 정수(0 ~ 100) 1개를 입력받아 0부터 그 수까지 순서대로 출력해보자.\n",
    "\n",
    "# 예시\n",
    "# n = int(input())\n",
    "# for i in range(n+1) :\n",
    "#   print(i)\n",
    "\n",
    "# 참고\n",
    "# range(n) 은 0, 1, 2, ... , n-2, n-1 까지의 수열을 의미한다.\n",
    "# 예를 들어 range(3) 은 0, 1, 2 인 수열을 의미한다.\n",
    "\n",
    "# for i in range(n) :    #range(n)에 들어있는(in) 각각의 수에 대해서(for) 순서대로 i에 저장해 가면서...\n",
    "# 이때의 for는 각각의 값에 대하여... 라는 for each 의 의미를 가진다고 생각할 수 있다.\n",
    "\n",
    "# range(끝)\n",
    "# range(시작, 끝)\n",
    "# range(시작, 끝, 증감)\n",
    "# 형태로 수열을 표현할 수 있다. 시작 수는 포함이고, 끝 수는 포함되지 않는다. [시작, 끝)\n",
    "# 증감할 수를 작성하지 않으면 +1이 된다.\n",
    "\n",
    "# 반복 실행구조에 반복 횟수를 기록/저장하는 변수로 i를 자주 사용하는데,\n",
    "# i 는 반복자(iterator)를 나타내는 i라고 생각할 수 있다. i, j, k ... 알파벳 순으로 사용하기도 한다.\n",
    "\n",
    "n = int(input())\n",
    "for i in range(0, n+1, 1):\n",
    "    print(i)"
   ]
  },
  {
   "cell_type": "markdown",
   "id": "16809ae0-99d2-4520-a418-e5c9515254d7",
   "metadata": {
    "jp-MarkdownHeadingCollapsed": true
   },
   "source": [
    "# 13. 종합"
   ]
  },
  {
   "cell_type": "code",
   "execution_count": 44,
   "id": "95779f5b-9306-48e5-b98a-2f940096f5b9",
   "metadata": {},
   "outputs": [
    {
     "name": "stdin",
     "output_type": "stream",
     "text": [
      " 5\n"
     ]
    },
    {
     "name": "stdout",
     "output_type": "stream",
     "text": [
      "6\n"
     ]
    }
   ],
   "source": [
    "#077\n",
    "# 정수(1 ~ 100) 1개를 입력받아 1부터 그 수까지 짝수의 합을 구해보자.\n",
    "\n",
    "# 예시\n",
    "# #다음 코드는 홀 수만 더해 출력한다.\n",
    "# n = int(input())\n",
    "# s = 0\n",
    "# for i in range(1, n+1) :\n",
    "#   if i%2==1 :\n",
    "#     s += i\n",
    "\n",
    "\n",
    "# print(s)\n",
    "\n",
    "# 참고\n",
    "# while 이나 for 반복실행구조를 이용할 수 있다.\n",
    "# 다른 방법이나 while 반복실행구조를 이용해서도 성공시켜 보자.\n",
    "n = int(input())\n",
    "hap = 0\n",
    "for i in range(1, n+1):\n",
    "    if i%2==0:\n",
    "        hap += i\n",
    "print(hap)"
   ]
  },
  {
   "cell_type": "code",
   "execution_count": 55,
   "id": "f9284ba7-8efc-4ffe-9293-f29284e606c8",
   "metadata": {},
   "outputs": [
    {
     "name": "stdin",
     "output_type": "stream",
     "text": [
      " r\n"
     ]
    },
    {
     "name": "stdout",
     "output_type": "stream",
     "text": [
      "r\n"
     ]
    },
    {
     "name": "stdin",
     "output_type": "stream",
     "text": [
      " d\n"
     ]
    },
    {
     "name": "stdout",
     "output_type": "stream",
     "text": [
      "d\n"
     ]
    },
    {
     "name": "stdin",
     "output_type": "stream",
     "text": [
      " q\n"
     ]
    },
    {
     "name": "stdout",
     "output_type": "stream",
     "text": [
      "q\n"
     ]
    }
   ],
   "source": [
    "# #078\n",
    "# 영문 소문자 'q'가 입력될 때까지\n",
    "# 입력한 문자를 계속 출력하는 프로그램을 작성해보자.\n",
    "s = \"\"\n",
    "while s != 'q':\n",
    "    s = input()\n",
    "    print(s)\n",
    "    if s == \"q\":\n",
    "        break\n",
    "    \n",
    "\n",
    "    "
   ]
  },
  {
   "cell_type": "code",
   "execution_count": 61,
   "id": "3b1fa1b5-34c3-4386-8f70-47fa8d4cc7fb",
   "metadata": {},
   "outputs": [
    {
     "name": "stdin",
     "output_type": "stream",
     "text": [
      " 55\n"
     ]
    },
    {
     "name": "stdout",
     "output_type": "stream",
     "text": [
      "10\n"
     ]
    }
   ],
   "source": [
    "# #079\n",
    "# 1, 2, 3 ... 을 계속 더해 나갈 때,\n",
    "# 그 합이 입력한 정수(0 ~ 1000)보다 같거나 작을 때까지만\n",
    "# 계속 더하는 프로그램을 작성해보자.\n",
    "\n",
    "# 즉, 1부터 n까지 정수를 계속 더해 나간다고 할 때,\n",
    "# 어디까지 더해야 입력한 수보다 같거나 커지는 지를 알아보고자하는 문제이다.\n",
    "n = int(input())\n",
    "hap = 0 \n",
    "for i in range(1, n+1):\n",
    "    hap +=i \n",
    "    if hap >=n:\n",
    "        print(i)\n",
    "        break\n",
    "        "
   ]
  },
  {
   "cell_type": "code",
   "execution_count": 62,
   "id": "e8d9b75b-d05a-448e-aae3-07ee0ddc3131",
   "metadata": {},
   "outputs": [
    {
     "name": "stdin",
     "output_type": "stream",
     "text": [
      " 2 3\n"
     ]
    },
    {
     "name": "stdout",
     "output_type": "stream",
     "text": [
      "1 1\n",
      "1 2\n",
      "1 3\n",
      "2 1\n",
      "2 2\n",
      "2 3\n"
     ]
    }
   ],
   "source": [
    "# #080\n",
    "# 1부터 n까지, 1부터 m까지 숫자가 적힌 서로 다른 주사위 2개를 던졌을 때,\n",
    "# 나올 수 있는 모든 경우를 출력해보자.\n",
    "\n",
    "# 예시\n",
    "# ...\n",
    "# for i in range(1, n+1) :\n",
    "#   for j in range(1, m+1) :\n",
    "#     print(i, j)\n",
    "# ...\n",
    "\n",
    "# 참고\n",
    "# 위 코드는\n",
    "# 바깥쪽의 i 값이 1부터 n까지 순서대로 바뀌는 각각의 동안에\n",
    "# 안쪽의 j 값이 다시 1부터 m까지 변하며 출력되는 코드이다.\n",
    "\n",
    "# 조건선택 실행구조 안에 다른 조건선택 실행구조를 넣어 처리할 수 있는 것과 마찬가지로\n",
    "# 반복 실행구조 안에 다른 반복 실행구조를 넣어 처리할 수 있다.\n",
    "\n",
    "# 원하는 형태로 실행 구조를 결합하거나 중첩시킬 수 있다.\n",
    "\n",
    "n, m = map(int, input().split())\n",
    "for i in range(1, n+1):\n",
    "    for j in range(1, m+1):\n",
    "        print(i, j)"
   ]
  },
  {
   "cell_type": "code",
   "execution_count": 8,
   "id": "6de07d7d-179f-4fe2-8265-ebca06cc6b7f",
   "metadata": {
    "scrolled": true
   },
   "outputs": [
    {
     "name": "stdin",
     "output_type": "stream",
     "text": [
      " b\n"
     ]
    },
    {
     "name": "stdout",
     "output_type": "stream",
     "text": [
      "B*1=B\n",
      "B*2=16\n",
      "B*3=21\n",
      "B*4=2C\n",
      "B*5=37\n",
      "B*6=42\n",
      "B*7=4D\n",
      "B*8=58\n",
      "B*9=63\n",
      "B*A=6E\n",
      "B*B=79\n",
      "B*C=84\n",
      "B*D=8F\n",
      "B*E=9A\n",
      "B*F=A5\n"
     ]
    }
   ],
   "source": [
    "# #081\n",
    "# 16진수(0, 1, 2, 3, 4, 5, 6, 7, 8, 9, A, B, C, D, E, F)를 배운\n",
    "# 영일이는 16진수끼리 곱하는 16진수 구구단?에 대해서 궁금해졌다.\n",
    "\n",
    "# A, B, C, D, E, F 중 하나가 입력될 때,\n",
    "# 1부터 F까지 곱한 16진수 구구단의 내용을 출력해보자.\n",
    "# (단, A ~ F 까지만 입력된다.)\n",
    "\n",
    "# 예시\n",
    "# ...\n",
    "#   print('%X'%n, '*%X'%i, '=%X'%(n*i), sep='')\n",
    "# ...\n",
    "\n",
    "# 참고\n",
    "# print('%X'%n)    #n에 저장되어있는 값을 16진수(hexadecimal) 형태로 출력\n",
    "# 작은 따옴표 2개를 사용해서 print(..., sep='') 으로 출력하면, 공백없이 모두 붙여 출력된다.\n",
    "# 작은 따옴표 2개 '' 또는 큰 따옴표 2개 \"\" 는 아무 문자도 없는 빈문자열(empty string)을 의미한다.\n",
    "n = input()  \n",
    "n = int(n, 16)  \n",
    "for i in range(1, 16):\n",
    "    print(\"%X*%X=%X\" %(n, i, n*i))\n",
    "\n"
   ]
  },
  {
   "cell_type": "code",
   "execution_count": 28,
   "id": "511a0377-107a-4edc-b942-0c0c70f4a581",
   "metadata": {},
   "outputs": [
    {
     "name": "stdin",
     "output_type": "stream",
     "text": [
      " 15\n"
     ]
    },
    {
     "name": "stdout",
     "output_type": "stream",
     "text": [
      "1 2 X 4 5 X 7 8 X 10 11 12 X 14 15 "
     ]
    }
   ],
   "source": [
    "#082\n",
    "\n",
    "# 친구들과 함께 3 6 9 게임을 하던 영일이는 잦은 실수 때문에 계속해서 벌칙을 받게 되었다.\n",
    "# 3 6 9 게임의 왕이 되기 위한 369 마스터 프로그램을 작성해 보자.\n",
    "\n",
    "# ** 3 6 9 게임은?\n",
    "# 여러 사람이 순서를 정한 후, 순서대로 수를 부르는 게임이다.\n",
    "# 만약 3, 6, 9 가 들어간 수를 자신이 불러야 하는 상황이라면, 수를 부르는 대신 \"박수(X)\" 를 쳐야 한다.\n",
    "# 33과 같이 3,6,9가 두 번 들어간 수 일때, \"짝짝\"과 같이 박수를 두 번 치는 형태도 있다. \n",
    "\n",
    "# 참고 \n",
    "# ...\n",
    "# for i in range(1, n+1) :\n",
    "#   if i%10==3 :\n",
    "#     print(\"X\", end=' ')    #출력 후 공백문자(빈칸, ' ')로 끝냄\n",
    "# ...\n",
    "n = int(input())\n",
    "for i in range(1, n+1):\n",
    "    s = str(i)\n",
    "    if '3' in s or '6' in s or '9' in s:\n",
    "        print(\"X\", end=' ')\n",
    "    else:\n",
    "        print(i, end=' ')"
   ]
  },
  {
   "cell_type": "code",
   "execution_count": 37,
   "id": "94d4c3aa-06b8-4b5b-b006-e2d16bd92639",
   "metadata": {},
   "outputs": [
    {
     "name": "stdin",
     "output_type": "stream",
     "text": [
      " 2 2 2\n"
     ]
    },
    {
     "name": "stdout",
     "output_type": "stream",
     "text": [
      "0 0 0\n",
      "0 0 1\n",
      "0 1 0\n",
      "0 1 1\n",
      "1 0 0\n",
      "1 0 1\n",
      "1 1 0\n",
      "1 1 1\n",
      "8\n"
     ]
    }
   ],
   "source": [
    "#083\n",
    "# 빨강(red), 초록(green), 파랑(blue) 빛을 섞어 여러 가지 다른 색 빛을 만들어 내려고 한다.\n",
    "\n",
    "# 빨강(r), 초록(g), 파랑(b) 각 빛의 가짓수가 주어질 때,\n",
    "# 주어진 rgb 빛들을 섞어 만들 수 있는 모든 경우의 조합(r g b)과 만들 수 있는 색의 가짓 수를 계산해보자.  \n",
    "\n",
    "# **모니터, 스마트폰과 같은 디스플레이에서 각 픽셀의 색을 만들어내기 위해서 r, g, b 색을 조합할 수 있다.\n",
    "# **픽셀(pixel)은 그림(picture)을 구성하는 셀(cell)에서 이름이 만들어졌다.\n",
    "r, g, b = map(int, input().split())\n",
    "count = 0\n",
    "for i in range(0, r):\n",
    "    for j in range(0, g):\n",
    "        for k in range(0, b):\n",
    "            print(i, j, k)\n",
    "            count += 1\n",
    "print(count)"
   ]
  },
  {
   "cell_type": "code",
   "execution_count": 3,
   "id": "69c9ec2d-c9ad-45c2-967c-983b679813fe",
   "metadata": {},
   "outputs": [
    {
     "name": "stdin",
     "output_type": "stream",
     "text": [
      " 44100 16 2 10\n"
     ]
    },
    {
     "name": "stdout",
     "output_type": "stream",
     "text": [
      "1.7 MB\n"
     ]
    }
   ],
   "source": [
    "# 084\n",
    "# 소리가 컴퓨터에 저장될 때에는 디지털 데이터화 되어 저장된다.\n",
    "\n",
    "# 마이크를 통해 1초에 적게는 수십 번, 많게는 수만 번 소리의 강약을 체크하고,\n",
    "# 한 번씩 체크할 때 마다 그 값을 정수값으로 바꾸어 저장하는 방식으로 소리를 파일로 저장할 수 있다.\n",
    "\n",
    "# 값을 저장할 때에는 비트를 사용하는 정도에 따라 세세한 녹음 정도를 결정할 수 있고,\n",
    "# 좌우(스테레오) 채널로 저장하면 2배… 5.1채널이면 6배의 저장공간이 필요하고,\n",
    "# 녹음 시간이 길면 그 만큼 더 많은 저장공간이 필요하다.\n",
    "\n",
    "# 1초 동안 마이크로 소리강약을 체크하는 횟수를 h\n",
    "# (헤르쯔, Hz 는 1초에 몇 번? 체크하는가를 의미한다.)\n",
    "\n",
    "# 한 번 체크한 값을 저장할 때 사용하는 비트수를 b\n",
    "# (2비트를 사용하면 0 또는 1 두 가지, 16비트를 사용하면 65536가지..)\n",
    "\n",
    "# 좌우 등 소리를 저장할 트랙 개수인 채널 개수를 c\n",
    "# (모노는 1개, 스테레오는 2개의 트랙으로 저장함을 의미한다.)\n",
    "\n",
    "# 녹음할 시간(초) s가 주어질 때,\n",
    "\n",
    "# 필요한 저장 용량을 계산하는 프로그램을 작성해보자.\n",
    "\n",
    "# 실제로, 일반적인 CD 음질(44.1KHz, 16bit, 스테레오)로 1초 동안 저장하려면\n",
    "# 44100 * 16 * 2 * 1 bit의 저장공간이 필요한데,\n",
    "# 44100*16*2*1/8/1024/1024 로 계산하면 약 0.168 MB 정도가 필요하다.\n",
    "\n",
    "# 이렇게 녹음하는 방식을 PCM(Pulse Code Modulation) 방법이라고 하는데,\n",
    "# 압축하지 않은 순수한(raw) 소리 데이터 파일은 대표적으로 *.wav 가 있다.\n",
    "\n",
    "# **\n",
    "#       8 bit(비트)           = 1byte(바이트)       # 8bit=1Byte\n",
    "# 1024 Byte(210 byte) = 1KB(킬로 바이트)  # 1024Byte=1KB\n",
    "# 1024 KB(210 KB)      = 1MB(메가 바이트)\n",
    "# 1024 MB(210 MB)     = 1GB(기가 바이트)\n",
    "# 1024 GB(210 GB)      = 1TB(테라 바이트)\n",
    "\n",
    "h, b, c, s = map(int, input().split())\n",
    "\n",
    "total_bits = h * b * c * s         \n",
    "total_MB = total_bits / 8 / 1024 / 1024\n",
    "\n",
    "print(f\"{total_MB:.1f} MB\")"
   ]
  },
  {
   "cell_type": "code",
   "execution_count": 10,
   "id": "264111ee-6db9-4308-948a-7432723f5b56",
   "metadata": {},
   "outputs": [
    {
     "name": "stdin",
     "output_type": "stream",
     "text": [
      " 1024 768 24\n"
     ]
    },
    {
     "name": "stdout",
     "output_type": "stream",
     "text": [
      "1.68 MB\n"
     ]
    }
   ],
   "source": [
    "#085\n",
    "\n",
    "# 이미지가 컴퓨터에 저장될 때에도 디지털 데이터화 되어 저장된다.\n",
    "\n",
    "# 가장 기본적인 방법으로는 그림을 구성하는 한 점(pixel, 픽셀)의 색상을\n",
    "# 빨강(r), 초록(g), 파랑(b)의 3가지의 빛의 세기 값으로 따로 변환하여 저장하는 것인데,\n",
    "\n",
    "# 예를 들어 r, g, b 각 색에 대해서 8비트(0~255, 256가지 가능)씩을 사용한다고 하면,\n",
    "\n",
    "# 한 점의 색상은 3가지 r, g, b의 8비트+8비트+8비트로 총 24비트로 표현해서\n",
    "# 총 2^24 가지의 서로 다른 빛의 색깔을 사용할 수 있는 것이다.\n",
    "\n",
    "# 그렇게 저장하는 점을 모아 하나의 큰 이미지를 저장할 수 있게 되는데,\n",
    "# 1024 * 768 사이즈에 각 점에 대해 24비트로 저장하면 그 이미지를 저장하기 위한\n",
    "# 저장 용량을 계산할 수 있다.\n",
    "\n",
    "# 이렇게 이미지의 원래(raw) 데이터를 압축하지 않고 그대로 저장하는 대표적인 이미지 파일이\n",
    "# *.bmp 파일이며, 비트로 그림을 구성한다고 하여 비트맵 방식 또는 래스터 방식이라고 한다.\n",
    "\n",
    "# 이미지의 가로 해상도 w, 세로 해상도 h, 한 픽셀을 저장하기 위한 비트 b 가 주어질 때,\n",
    "# 압축하지 않고 저장하기 위해 필요한 저장 용량을 계산하는 프로그램을 작성해 보자.\n",
    "\n",
    "# 예를 들어\n",
    "# 일반적인 1024 * 768 사이즈(해상도)의 각점에 대해\n",
    "# 24비트(rgb 각각 8비트씩 3개)로 저장하려면\n",
    "# 1024 * 768 * 24 bit의 저장공간이 필요한데,\n",
    "# 1024*768*24/8/1024/1024 로 계산하면 약 2.25 MB 정도가 필요하다.\n",
    "\n",
    "# 실제 그런지 확인하고 싶다면, 간단한 그림 편집/수정 프로그램을 통해 확인할 수 있다.\n",
    "\n",
    "# **\n",
    "#       8 bit(비트)           = 1byte(바이트)     #       8bit=1Byte\n",
    "# 1024 Byte(210 byte) = 1KB(킬로 바이트)  # 1024Byte=1KB\n",
    "# 1024 KB(210 KB)      = 1MB(메가 바이트)\n",
    "# 1024 MB(210 MB)     = 1GB(기가 바이트)\n",
    "# 1024 GB(210 GB)      = 1TB(테라 바이트)\n",
    "\n",
    "#w: 가로 해상도, h: 세로 행상도, b: 한 픽셀을 저장하기 위한 비트\n",
    "\n",
    "w, h, b = map(int, input().split())\n",
    "\n",
    "total_bits = w * h * b              \n",
    "total_bytes = total_bits / 8        \n",
    "total_mb = total_bytes / 1024 / 1024\n",
    "\n",
    "print(f\"{total_mb:.2f} MB\")\")\n"
   ]
  },
  {
   "cell_type": "code",
   "execution_count": 26,
   "id": "84d31662-de48-42bc-a21f-821382dc01cb",
   "metadata": {},
   "outputs": [
    {
     "name": "stdin",
     "output_type": "stream",
     "text": [
      " 1\n"
     ]
    },
    {
     "name": "stdout",
     "output_type": "stream",
     "text": [
      "1\n"
     ]
    }
   ],
   "source": [
    "#086\n",
    "\n",
    "# 1, 2, 3 ... 을 순서대로 계속 더해 합을 만드는데,\n",
    "# 그 합이 입력한 정수보다 작을 동안만 계속 더하는 프로그램을 작성해보자.\n",
    "\n",
    "# 즉, 1부터 n까지 정수를 하나씩 더해 합을 만드는데,\n",
    "# 어디까지 더해야 입력한 수보다 같거나 커지는지 알아보고자 하는 문제이다.\n",
    "\n",
    "# 하지만, 이번에는 그 때 까지의 합을 출력해야 한다.\n",
    "\n",
    "# 예를 들어, 57을 입력하면\n",
    "# 1+2+3+...+8+9+10=55에서 그 다음 수인 11을 더해 66이 될 때,\n",
    "# 그 값 66이 출력되어야 한다.\n",
    "\n",
    "# 예시\n",
    "# ...\n",
    "# while True :\n",
    "#   s += c\n",
    "#   c += 1\n",
    "#   if s>=n :\n",
    "#     break\n",
    "\n",
    "# print(s)\n",
    "\n",
    "# 참고\n",
    "# 조건문이나 반복문의 코드블록 안에서 break 가 실행되면,\n",
    "# 반복실행을 중단(break)하고, 가장 가까운 반복 블록의 밖으로 빠져나간다.\n",
    "\n",
    "n = int(input())\n",
    "hap = 0\n",
    "for i in range(1, n+1):\n",
    "    hap += i\n",
    "    if hap >=n:\n",
    "        print(hap)\n",
    "        break\n",
    "    "
   ]
  },
  {
   "cell_type": "code",
   "execution_count": 29,
   "id": "5e609a80-afb8-4094-a683-8dacd59498f9",
   "metadata": {},
   "outputs": [
    {
     "name": "stdin",
     "output_type": "stream",
     "text": [
      " 10\n"
     ]
    },
    {
     "name": "stdout",
     "output_type": "stream",
     "text": [
      "1 2 4 5 7 8 10 "
     ]
    }
   ],
   "source": [
    "#087\n",
    "\n",
    "# 1부터 입력한 정수까지 1씩 증가시켜 출력하는 프로그램을 작성하되,\n",
    "# 3의 배수인 경우는 출력하지 않도록 만들어보자.\n",
    "\n",
    "# 예를 들면,\n",
    "# 1 2 4 5 7 8 10 11 13 14 ...\n",
    "# 와 같이 출력하는 것이다.\n",
    "\n",
    "# 예시\n",
    "# ...\n",
    "# for i in range(1, n+1) :\n",
    "#   if i%2==0 :\n",
    "#     continue            #다음 반복 단계로 넘어간다.\n",
    "#   print(i, end=' ')    #i가 짝수가 아닐 때만 실행된다.\n",
    "# ...\n",
    "# 위 코드는 홀 수만 출력하는 예시이다.\n",
    "\n",
    "# 참고\n",
    "# 조건문이나 반복문의 코드블록 안에서 continue 가 실행되면,\n",
    "# 반복 블록 안에 있는 나머지 부분을 실행하지 않고, 다음 반복 단계로 넘어간다.\n",
    "# 즉, 반복 블록의 나머지 부분은 실행되지 않고, 다음 단계의 반복을 계속(continue)하는 것이다.\n",
    "\n",
    "n = int(input())\n",
    "hap = 0\n",
    "for i in range(1, n+1):\n",
    "    if i%3 == 0:\n",
    "        continue\n",
    "    print(i, end=' ')"
   ]
  },
  {
   "cell_type": "code",
   "execution_count": 37,
   "id": "9c19912b-d500-4406-a55d-4ba1d66b5f3c",
   "metadata": {},
   "outputs": [
    {
     "name": "stdin",
     "output_type": "stream",
     "text": [
      " 1 3 5\n"
     ]
    },
    {
     "name": "stdout",
     "output_type": "stream",
     "text": [
      "13\n"
     ]
    }
   ],
   "source": [
    "#088\n",
    "\n",
    "# 어떤 규칙에 따라 수를 순서대로 나열한 것을 수열(sequences)이라고 한다.\n",
    "\n",
    "# 예를 들어\n",
    "# 1 4 7 10 13 16 19 22 25 ... 은\n",
    "# 1부터 시작해 이전에 만든 수에 3을 더해 다음 수를 만든 수열이다.\n",
    "# 이러한 것을 수학에서는 앞뒤 수들의 차이가 같다고 하여\n",
    "\n",
    "# 등차(차이가 같다의 한문 말) 수열이라고 한다. (등차수열 : arithmetic progression/sequence)\n",
    "# 수열을 알게 된 영일이는 갑자기 궁금해졌다.\n",
    "\n",
    "# \"그럼.... 123번째 나오는 수는 뭘까?\"\n",
    "\n",
    "# 영일이는 프로그램을 만들어 더 큰 수도 자동으로 계산하고 싶어졌다.\n",
    "\n",
    "# 시작 값(a), 등차(d), 몇 번째인지를 나타내는 정수(n)가 입력될 때\n",
    "# n번째 수를 출력하는 프로그램을 만들어보자.\n",
    "a, d, n = map(int, input().split())\n",
    "an = a + (n-1)*d\n",
    "print(an)"
   ]
  },
  {
   "cell_type": "code",
   "execution_count": 46,
   "id": "2ae75cc1-553a-46f5-999e-d4f2d4830104",
   "metadata": {},
   "outputs": [
    {
     "name": "stdin",
     "output_type": "stream",
     "text": [
      " 2 3 7\n"
     ]
    },
    {
     "name": "stdout",
     "output_type": "stream",
     "text": [
      "1458\n"
     ]
    }
   ],
   "source": [
    "#089\n",
    "# 어떤 규칙에 따라 수를 순서대로 나열한 것을 수열(sequences)이라고 한다.\n",
    "\n",
    "# 예를 들어\n",
    "# 2 6 18 54 162 486 ... 은\n",
    "# 2부터 시작해 이전에 만든 수에 3을 곱해 다음 수를 만든 수열이다.\n",
    "\n",
    "# 이러한 것을 수학에서는 앞뒤 수들의 비율이 같다고 하여\n",
    "# 등비(비율이 같다의 한문 말) 수열이라고 한다. (등비수열 : geometric progression/sequence)\n",
    "\n",
    "# 등비 수열을 알게된 영일이는 갑자기 궁금해졌다.\n",
    "# \"그럼.... 13번째 나오는 수는 뭘까?\"\n",
    "# 영일이는 프로그램을 만들어 더 큰 수도 자동으로 계산하고 싶어졌다.\n",
    "\n",
    "# 시작 값(a), 등비(r), 몇 번째인지를 나타내는 정수(n)가 입력될 때\n",
    "# n번째 수를 출력하는 프로그램을 만들어보자.\n",
    "\n",
    "a, r, n = map(int, input().split())\n",
    "an = a * (r ** (n-1))\n",
    "print(an)\n",
    "          \n"
   ]
  },
  {
   "cell_type": "code",
   "execution_count": 3,
   "id": "7757eaf9-1562-4b9d-9eb6-f41657c3dc1c",
   "metadata": {},
   "outputs": [
    {
     "name": "stdin",
     "output_type": "stream",
     "text": [
      " 1 -2 1 8\n"
     ]
    },
    {
     "name": "stdout",
     "output_type": "stream",
     "text": [
      "-85\n"
     ]
    }
   ],
   "source": [
    "# #090\n",
    "# 어떤 규칙에 따라 수를 순서대로 나열한 것을 수열(sequences)이라고 한다.\n",
    "\n",
    "# 예를 들어\n",
    "# 1 -1 3 -5 11 -21 43 ... 은\n",
    "# 1부터 시작해 이전에 만든 수에 -2를 곱한 다음 1을 더해 다음 수를 만든 수열이다.\n",
    "\n",
    "# 이런 이상한 수열을 알게 된 영일이는 또 궁금해졌다.\n",
    "# \"그럼.... 13번째 나오는 수는 뭘까?\"\n",
    "\n",
    "# 영일이는 물론 수학을 아주 잘하지만 이런 문제는 본 적이 거의 없었다...\n",
    "# 그래서 프로그램을 만들어 더 큰 수도 자동으로 계산하고 싶어졌다.\n",
    "\n",
    "# 시작 값(a), 곱할 값(m), 더할 값(d), 몇 번째인지를 나타내는 정수(n)가 입력될 때,\n",
    "# n번째 수를 출력하는 프로그램을 만들어보자.\n",
    "a, m, d, n = map(int, input().split())\n",
    "\n",
    "\n",
    "for i in range(n - 1):\n",
    "    a = a * m + d\n",
    "\n",
    "print(a)"
   ]
  },
  {
   "cell_type": "code",
   "execution_count": 5,
   "id": "1f7e988d-4719-468f-b122-945af6f8b3bd",
   "metadata": {},
   "outputs": [
    {
     "name": "stdin",
     "output_type": "stream",
     "text": [
      " 3 7 9\n"
     ]
    },
    {
     "name": "stdout",
     "output_type": "stream",
     "text": [
      "63\n"
     ]
    }
   ],
   "source": [
    "# #091\n",
    "\n",
    "# 온라인 채점시스템에는 초등학생, 중고등학생, 대학생, 대학원생,\n",
    "# 일반인, 군인, 프로그래머, 탑코더 등 아주 많은 사람들이 들어와 문제를 풀고 있는데,\n",
    "\n",
    "# 실시간 채점 정보는 메뉴의 채점기록(Judge Status)을 통해 살펴볼 수 있다.\n",
    "\n",
    "# 자! 여기서...잠깐..\n",
    "# 같은 날 동시에 가입한 3명의 사람들이 온라인 채점시스템에 들어와 문제를 푸는 날짜가\n",
    "# 매우 규칙적이라고 할 때, 다시 모두 함께 문제를 풀게 되는 그날은 언제일까?\n",
    "\n",
    "# 예를 들어 3명이 같은 날 가입/등업하고, 각각 3일마다, 7일마다, 9일마다\n",
    "# 한 번씩 들어온다면, 처음 가입하고 63일 만에 다시 3명이 함께 문제를 풀게 된다.\n",
    "\n",
    "# 갑자기 힌트?\n",
    "# 왠지 어려워 보이지 않는가?\n",
    "# 수학에서 배운 최소공배수를 생각한 사람들도 있을 것이다. 하지만, 정보에서 배우고 경험하는\n",
    "# 정보과학의 세상은 때때로 컴퓨터의 힘을 빌려 간단한 방법으로 해결할 수 있게 한다.\n",
    "\n",
    "# 아래의 코드를 읽고 이해한 후 도전해 보자.\n",
    "# day는 날 수, a/b/c는 방문 주기이다.\n",
    "# ...\n",
    "# d = 1\n",
    "# while d%a!=0 or d%b!=0 or d%c!=0 :\n",
    "#   d += 1\n",
    "# print(d)\n",
    "# ...\n",
    "\n",
    "# 물론, 아주 많은 다양한 방법이 있을 수 있다.\n",
    "\n",
    "# 정보과학의 문제해결에 있어서 정답은?\n",
    "# 하나가 아니라 주어진 시간/기억공간으로 정확한 결과를 얻을 수 있는 모든 방법이다.\n",
    "\n",
    "# 따라서, 모든 문제들에는 정답이 하나뿐만이 아니다.\n",
    "# 새로운, 더 빠른, 더 간단한 방법을 다양하게 생각해보고 여러가지 방법으로 도전해 볼 수 있다.\n",
    "d=1\n",
    "a, b, c = map(int, input().split())\n",
    "while d%a!=0 or d%b!=0 or d%c!=0 :\n",
    "  d += 1\n",
    "print(d)"
   ]
  },
  {
   "cell_type": "markdown",
   "id": "5b6753b1-8f21-40c3-9967-0ba8ee33bc02",
   "metadata": {},
   "source": [
    "# 14. 리스트\n"
   ]
  },
  {
   "cell_type": "code",
   "execution_count": 1,
   "id": "3eb2b45e-33a2-4fdc-95ff-c9af165c88da",
   "metadata": {},
   "outputs": [
    {
     "name": "stdin",
     "output_type": "stream",
     "text": [
      " 10\n",
      " 1 3 2 2 5 6 7 4 8 9\n"
     ]
    },
    {
     "name": "stdout",
     "output_type": "stream",
     "text": [
      "1 2 1 1 1 1 1 1 1 0 0 0 0 0 0 0 0 0 0 0 0 0 0 "
     ]
    }
   ],
   "source": [
    "#092\n",
    "\n",
    "# 정보 선생님은 수업을 시작하기 전에 이상한 출석을 부른다.\n",
    "\n",
    "# 선생님은 출석부를 보고 번호를 부르는데,\n",
    "# 학생들의 얼굴과 이름을 빨리 익히기 위해 번호를 무작위(랜덤)으로 부른다.\n",
    "\n",
    "# 그리고 얼굴과 이름이 잘 기억되지 않는 학생들은 번호를 여러 번 불러\n",
    "# 이름과 얼굴을 빨리 익히려고 하는 것이다.\n",
    "\n",
    "# 출석 번호를 n번 무작위로 불렀을 때, 각 번호(1 ~ 23)가 불린 횟수를 각각 출력해보자.\n",
    "\n",
    "# 예시\n",
    "# n = int(input())      #개수를 입력받아 n에 정수로 저장\n",
    "# a = input().split()  #공백을 기준으로 잘라 a에 순서대로 저장\n",
    "\n",
    "# for i in range(n) :  #0부터 n-1까지...\n",
    "#   a[i] = int(a[i])       #a에 순서대로 저장되어있는 각 값을 정수로 변환해 다시 저장\n",
    "\n",
    "# d = []                     #d라는 이름의 빈 리스트 [ ] 변수를 만듦. 대괄호 기호 [  ] 를 사용한다.\n",
    "# for i in range(24) :  #[0, 0, 0, ... , 0, 0, 0] 과 같이 24개의 정수 값 0을 추가해 넣음\n",
    "#   d.append(0)        #각 값은 d[0], d[1], d[2], ... , d[22], d[23] 으로 값을 읽고 저장할 수 있음.\n",
    "\n",
    "# for i in range(n) :    #번호를 부를 때마다, 그 번호에 대한 카운트 1씩 증가\n",
    "#   d[a[i]] += 1\n",
    "\n",
    "# for i in range(1, 24) :  #카운트한 값을 공백을 두고 출력\n",
    "#   print(d[i], end=' ')\n",
    "\n",
    "# 참고\n",
    "# - d = []              #어떤 데이터 목록(list) 을 순서대로 저장하기 위해 아무것도 없는 리스트 변수 만들기\n",
    "# - d.append(값)  #d 리스트의 마지막에 원하는 값을 추가(append)해 넣음 \n",
    "# - d[a[i]] += 1     #2중 리스트 참조 : 만약 a[i]의 값이 1이었다면? d[1] += 1 이 실행되는 것이다. 1번 카운트 1개 증가..\n",
    "\n",
    "# 어떤 값을 기록했다가 다시 사용할 필요가 있을 때, 필요한 변수(variable)를 만들어 사용하는 것처럼,\n",
    "# 여러 개의 값을 하나로 묶어 목록으로 기록했다가 다시 사용할 필요가 있을 때, 리스트(list)를 만들어 사용할 수 있다.\n",
    "# 리스트는 변수들을 모아 놓은 변수라고 생각할 수도 있고, 참조번호를 이용해 간단하고 편리하게 사용할 수 있다.\n",
    "\n",
    "n = int(input())      #개수를 입력받아 n에 정수로 저장\n",
    "a = input().split()  #공백을 기준으로 잘라 a에 순서대로 저장\n",
    "\n",
    "for i in range(n) :  #0부터 n-1까지...\n",
    "  a[i] = int(a[i])       #a에 순서대로 저장되어있는 각 값을 정수로 변환해 다시 저장\n",
    "\n",
    "d = []                     #d라는 이름의 빈 리스트 [ ] 변수를 만듦. 대괄호 기호 [  ] 를 사용한다.\n",
    "for i in range(24) :  #[0, 0, 0, ... , 0, 0, 0] 과 같이 24개의 정수 값 0을 추가해 넣음\n",
    "  d.append(0)        #각 값은 d[0], d[1], d[2], ... , d[22], d[23] 으로 값을 읽고 저장할 수 있음.\n",
    "\n",
    "for i in range(n) :    #번호를 부를 때마다, 그 번호에 대한 카운트 1씩 증가\n",
    "  d[a[i]] += 1\n",
    "\n",
    "for i in range(1, 24) :  #카운트한 값을 공백을 두고 출력\n",
    "  print(d[i], end=' ')"
   ]
  },
  {
   "cell_type": "code",
   "execution_count": 3,
   "id": "834598c7-fcd9-46ea-ae45-2817485ad383",
   "metadata": {},
   "outputs": [
    {
     "name": "stdin",
     "output_type": "stream",
     "text": [
      " 10\n",
      " 10 4 2 3 6 6 7 9 8 5\n"
     ]
    }
   ],
   "source": [
    "#093\n",
    "# 정보 선생님은 수업을 시작하기 전에 이상한 출석을 부른다.\n",
    "\n",
    "# 학생들의 얼굴과 이름을 빨리 익히기 위해 번호를 무작위(랜덤)으로 부르는데,\n",
    "# 영일이는 선생님이 부른 번호들을 기억하고 있다가 거꾸로 불러보는 것을 해보고 싶어졌다.\n",
    "\n",
    "# 출석 번호를 n번 무작위로 불렀을 때, 부른 번호를 거꾸로 출력해 보자.\n",
    "\n",
    "# 예시\n",
    "# ...\n",
    "# for i in range(n-1, -1, -1) :\n",
    "#   print(a[i], end=' ')\n",
    "# ...\n",
    "\n",
    "# 참고\n",
    "# 번호를 부른 순서를 리스트에 순서대로 기록해 두었다가, 기록한 값들을 거꾸로 출력하면 된다.\n",
    "# range(시작, 끝, 증감) #시작 수는 포함, 끝 수는 포함하지 않음. [시작, 끝)\n",
    "# range(n-1, -1, -1) #n-1, n-2, ..., 3, 2, 1, 0\n",
    "\n",
    "n = int(input())      #개수를 입력받아 n에 정수로 저장\n",
    "a = input().split()  #공백을 기준으로 잘라 a에 순서대로 저장\n",
    "\n",
    "for i in range(n) :  #0부터 n-1까지...\n",
    "  a[i] = int(a[i])       #a에 순서대로 저장되어있는 각 값을 정수로 변환해 다시 저장\n",
    "\n",
    "d = []                     #d라는 이름의 빈 리스트 [ ] 변수를 만듦. 대괄호 기호 [  ] 를 사용한다.\n",
    "for i in range(24) :  #[0, 0, 0, ... , 0, 0, 0] 과 같이 24개의 정수 값 0을 추가해 넣음\n",
    "  d.append(0)        #각 값은 d[0], d[1], d[2], ... , d[22], d[23] 으로 값을 읽고 저장할 수 있음.\n",
    "\n",
    "for i in range(n) :    #번호를 부를 때마다, 그 번호에 대한 카운트 1씩 증가\n",
    "  d[a[i]] += 1\n",
    "\n",
    "for i in range(1, 24, -1) :  #카운트한 값을 공백을 두고 출력\n",
    "  print(d[i], end=' ')"
   ]
  },
  {
   "cell_type": "code",
   "execution_count": null,
   "id": "dd171253-6f79-4b36-b1f3-991b68e84163",
   "metadata": {},
   "outputs": [],
   "source": []
  }
 ],
 "metadata": {
  "kernelspec": {
   "display_name": "Python (base)",
   "language": "python",
   "name": "base"
  },
  "language_info": {
   "codemirror_mode": {
    "name": "ipython",
    "version": 3
   },
   "file_extension": ".py",
   "mimetype": "text/x-python",
   "name": "python",
   "nbconvert_exporter": "python",
   "pygments_lexer": "ipython3",
   "version": "3.9.12"
  }
 },
 "nbformat": 4,
 "nbformat_minor": 5
}
