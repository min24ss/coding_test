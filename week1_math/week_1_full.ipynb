{
 "cells": [
  {
   "cell_type": "markdown",
   "id": "34b18f12-9456-4d22-95dd-6093162b4ac1",
   "metadata": {},
   "source": [
    "## 0803"
   ]
  },
  {
   "cell_type": "code",
   "execution_count": 11,
   "id": "f8ec0e59-9fe0-4661-a4d9-2307724de209",
   "metadata": {},
   "outputs": [
    {
     "name": "stdout",
     "output_type": "stream",
     "text": [
      "0\n",
      "1\n",
      "3\n",
      "6\n"
     ]
    }
   ],
   "source": [
    "#n이 주어졌을 때, 1부터 n까지 합을 구하는 프로그램을 작성하시오.\n",
    "#ex. 3일 때 결과 6 \n",
    "\n",
    "answer = 0 \n",
    "n=3\n",
    "for i in range(n+1):\n",
    "    answer += i\n",
    "    print(answer)"
   ]
  },
  {
   "cell_type": "code",
   "execution_count": null,
   "id": "8ff368f8-f2c5-47c0-8df8-e9be5f1ba26a",
   "metadata": {},
   "outputs": [],
   "source": [
    "n = int(input())\n",
    "answer = 0\n",
    "\n",
    "for i in range(1, n+1):\n",
    "    answer += i\n",
    "\n",
    "print(answer)"
   ]
  },
  {
   "cell_type": "code",
   "execution_count": 10,
   "id": "5a5d566e-d736-49e7-b21e-dc9b50d5ff63",
   "metadata": {},
   "outputs": [
    {
     "name": "stdout",
     "output_type": "stream",
     "text": [
      "[3]\n",
      "[3, 4]\n",
      "[3, 4, 5]\n",
      "[3, 4, 5, 6]\n",
      "[3, 4, 5, 6, 7]\n",
      "[3, 4, 5, 6, 7, 8]\n",
      "[3, 4, 5, 6, 7, 8, 9]\n",
      "[3, 4, 5, 6, 7, 8, 9, 10]\n",
      "[3, 4, 5, 6, 7, 8, 9, 10, 11]\n",
      "[3, 4, 5, 6, 7, 8, 9, 10, 11, 12]\n",
      "[3, 4, 5, 6, 7, 8, 9, 10, 11, 12, 13]\n",
      "[3, 4, 5, 6, 7, 8, 9, 10, 11, 12, 13, 14]\n",
      "[3, 4, 5, 6, 7, 8, 9, 10, 11, 12, 13, 14, 15]\n",
      "[3, 4, 5, 6, 7, 8, 9, 10, 11, 12, 13, 14, 15, 16]\n"
     ]
    }
   ],
   "source": [
    "#M이상 N이하의 소수를 모두 출력하는 프로그램을 작성하시오.\n",
    "#첫째 줄에 자연수 M과 N이 빈 칸을 사이에 두고 주어진다. (1 ≤ M ≤ N ≤ 1,000,000) M이상 N이하의 소수가 하나 이상 있는 입력만 주어진다.\n",
    "# 소수 의 특징: 2로나누어서 떨어지지 않음, \n",
    "m, n = 3, 16\n",
    "li = []\n",
    "for i in range(m, n+1):\n",
    "    if i ** 0.5:\n",
    "        li.append(i)\n",
    "        print(li)"
   ]
  },
  {
   "cell_type": "code",
   "execution_count": 26,
   "id": "7d2e78e6-814b-4b9d-be5f-7fe0fb79d509",
   "metadata": {},
   "outputs": [
    {
     "name": "stdout",
     "output_type": "stream",
     "text": [
      "3\n",
      "5\n",
      "7\n",
      "11\n",
      "13\n"
     ]
    }
   ],
   "source": [
    "# 소수 정의: 1과 자기 자신만 약수로 가지는 1보다 큰 자연수\n",
    "m, n  = 3, 16\n",
    "for i in range(m, n+1):\n",
    "    if i < 2: # 1은 소수 아님\n",
    "        continue\n",
    "    for k in range(2, int(i ** 0.5)+ 1): # 2부터제곱근 사이 값 확인 \n",
    "        if i % k ==0 :#나누어 떨어지면 종료 -> \n",
    "            break\n",
    "    else:\n",
    "        print(i)"
   ]
  },
  {
   "cell_type": "code",
   "execution_count": 17,
   "id": "93831140-46c4-4644-a754-6dde69efa4ac",
   "metadata": {},
   "outputs": [
    {
     "name": "stdin",
     "output_type": "stream",
     "text": [
      " 3 16\n"
     ]
    },
    {
     "name": "stdout",
     "output_type": "stream",
     "text": [
      "3\n",
      "5\n",
      "7\n",
      "11\n",
      "13\n"
     ]
    }
   ],
   "source": [
    "m, n = map(int, input().split())\n",
    "\n",
    "for i in range(m, n+1):\n",
    "    if i < 2:\n",
    "        continue\n",
    "    for k in range(2, int(i**0.5)+1):\n",
    "        if i % k == 0:\n",
    "            break\n",
    "    else:\n",
    "        print(i)"
   ]
  },
  {
   "cell_type": "markdown",
   "id": "d883b830-216f-4d29-aa1d-d8e96a9e365f",
   "metadata": {},
   "source": [
    "## 0804"
   ]
  },
  {
   "cell_type": "code",
   "execution_count": 24,
   "id": "cda73a10-4498-403b-82a2-84dc5ed11389",
   "metadata": {},
   "outputs": [
    {
     "name": "stdout",
     "output_type": "stream",
     "text": [
      "3\n"
     ]
    }
   ],
   "source": [
    "#소수 찾기\n",
    "# 100 이하의 숫자 N \n",
    "li = [1, 3, 5, 7]\n",
    "num = []\n",
    "for i in li:\n",
    "    if i < 2:\n",
    "        continue\n",
    "    for k in range(2, int(i **0.5) + 1):\n",
    "        if i % k == 0:\n",
    "            break\n",
    "    else:\n",
    "        num.append(i)\n",
    "print(len(num))"
   ]
  },
  {
   "cell_type": "code",
   "execution_count": 28,
   "id": "4ebc60d0-3a36-4fb1-a1ed-2e8f2803de1a",
   "metadata": {},
   "outputs": [
    {
     "name": "stdin",
     "output_type": "stream",
     "text": [
      " 4\n",
      " 1 3 5 7\n"
     ]
    },
    {
     "name": "stdout",
     "output_type": "stream",
     "text": [
      "3\n"
     ]
    }
   ],
   "source": [
    "### 소수 찾기\n",
    "# 100 이하의 숫자 N \n",
    "\n",
    "m = int(input())\n",
    "li = list(map(int, input().split()))\n",
    "num = []\n",
    "for i in li:\n",
    "    if i < 2:\n",
    "        continue\n",
    "    for k in range(2, int(i **0.5) + 1):\n",
    "        if i % k == 0:\n",
    "            break\n",
    "    else:\n",
    "        num.append(i)\n",
    "print(len(num))"
   ]
  },
  {
   "cell_type": "code",
   "execution_count": null,
   "id": "21406980-19a1-4762-9961-4597f40d0b04",
   "metadata": {},
   "outputs": [],
   "source": []
  }
 ],
 "metadata": {
  "kernelspec": {
   "display_name": "=Python3 (paed)",
   "language": "python",
   "name": "paed"
  },
  "language_info": {
   "codemirror_mode": {
    "name": "ipython",
    "version": 3
   },
   "file_extension": ".py",
   "mimetype": "text/x-python",
   "name": "python",
   "nbconvert_exporter": "python",
   "pygments_lexer": "ipython3",
   "version": "3.10.12"
  }
 },
 "nbformat": 4,
 "nbformat_minor": 5
}
