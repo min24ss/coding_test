{
 "cells": [
  {
   "cell_type": "markdown",
   "id": "34b18f12-9456-4d22-95dd-6093162b4ac1",
   "metadata": {},
   "source": [
    "## 0803"
   ]
  },
  {
   "cell_type": "code",
   "execution_count": 11,
   "id": "f8ec0e59-9fe0-4661-a4d9-2307724de209",
   "metadata": {},
   "outputs": [
    {
     "name": "stdout",
     "output_type": "stream",
     "text": [
      "0\n",
      "1\n",
      "3\n",
      "6\n"
     ]
    }
   ],
   "source": [
    "#n이 주어졌을 때, 1부터 n까지 합을 구하는 프로그램을 작성하시오.\n",
    "#ex. 3일 때 결과 6 \n",
    "\n",
    "answer = 0 \n",
    "n=3\n",
    "for i in range(n+1):\n",
    "    answer += i\n",
    "    print(answer)"
   ]
  },
  {
   "cell_type": "code",
   "execution_count": null,
   "id": "8ff368f8-f2c5-47c0-8df8-e9be5f1ba26a",
   "metadata": {},
   "outputs": [],
   "source": [
    "n = int(input())\n",
    "answer = 0\n",
    "\n",
    "for i in range(1, n+1):\n",
    "    answer += i\n",
    "\n",
    "print(answer)"
   ]
  },
  {
   "cell_type": "code",
   "execution_count": null,
   "id": "5a5d566e-d736-49e7-b21e-dc9b50d5ff63",
   "metadata": {},
   "outputs": [],
   "source": []
  }
 ],
 "metadata": {
  "kernelspec": {
   "display_name": "=Python3 (paed)",
   "language": "python",
   "name": "paed"
  },
  "language_info": {
   "codemirror_mode": {
    "name": "ipython",
    "version": 3
   },
   "file_extension": ".py",
   "mimetype": "text/x-python",
   "name": "python",
   "nbconvert_exporter": "python",
   "pygments_lexer": "ipython3",
   "version": "3.10.12"
  }
 },
 "nbformat": 4,
 "nbformat_minor": 5
}
