{
 "cells": [
  {
   "cell_type": "markdown",
   "id": "34b18f12-9456-4d22-95dd-6093162b4ac1",
   "metadata": {
    "jp-MarkdownHeadingCollapsed": true
   },
   "source": [
    "## 0803"
   ]
  },
  {
   "cell_type": "code",
   "execution_count": 11,
   "id": "f8ec0e59-9fe0-4661-a4d9-2307724de209",
   "metadata": {},
   "outputs": [
    {
     "name": "stdout",
     "output_type": "stream",
     "text": [
      "0\n",
      "1\n",
      "3\n",
      "6\n"
     ]
    }
   ],
   "source": [
    "#n이 주어졌을 때, 1부터 n까지 합을 구하는 프로그램을 작성하시오.\n",
    "#ex. 3일 때 결과 6 \n",
    "\n",
    "answer = 0 \n",
    "n=3\n",
    "for i in range(n+1):\n",
    "    answer += i\n",
    "    print(answer)"
   ]
  },
  {
   "cell_type": "code",
   "execution_count": null,
   "id": "8ff368f8-f2c5-47c0-8df8-e9be5f1ba26a",
   "metadata": {},
   "outputs": [],
   "source": [
    "n = int(input())\n",
    "answer = 0\n",
    "\n",
    "for i in range(1, n+1):\n",
    "    answer += i\n",
    "\n",
    "print(answer)"
   ]
  },
  {
   "cell_type": "code",
   "execution_count": 10,
   "id": "5a5d566e-d736-49e7-b21e-dc9b50d5ff63",
   "metadata": {},
   "outputs": [
    {
     "name": "stdout",
     "output_type": "stream",
     "text": [
      "[3]\n",
      "[3, 4]\n",
      "[3, 4, 5]\n",
      "[3, 4, 5, 6]\n",
      "[3, 4, 5, 6, 7]\n",
      "[3, 4, 5, 6, 7, 8]\n",
      "[3, 4, 5, 6, 7, 8, 9]\n",
      "[3, 4, 5, 6, 7, 8, 9, 10]\n",
      "[3, 4, 5, 6, 7, 8, 9, 10, 11]\n",
      "[3, 4, 5, 6, 7, 8, 9, 10, 11, 12]\n",
      "[3, 4, 5, 6, 7, 8, 9, 10, 11, 12, 13]\n",
      "[3, 4, 5, 6, 7, 8, 9, 10, 11, 12, 13, 14]\n",
      "[3, 4, 5, 6, 7, 8, 9, 10, 11, 12, 13, 14, 15]\n",
      "[3, 4, 5, 6, 7, 8, 9, 10, 11, 12, 13, 14, 15, 16]\n"
     ]
    }
   ],
   "source": [
    "#M이상 N이하의 소수를 모두 출력하는 프로그램을 작성하시오.\n",
    "#첫째 줄에 자연수 M과 N이 빈 칸을 사이에 두고 주어진다. (1 ≤ M ≤ N ≤ 1,000,000) M이상 N이하의 소수가 하나 이상 있는 입력만 주어진다.\n",
    "# 소수 의 특징: 2로나누어서 떨어지지 않음, \n",
    "m, n = 3, 16\n",
    "li = []\n",
    "for i in range(m, n+1):\n",
    "    if i ** 0.5:\n",
    "        li.append(i)\n",
    "        print(li)"
   ]
  },
  {
   "cell_type": "code",
   "execution_count": 26,
   "id": "7d2e78e6-814b-4b9d-be5f-7fe0fb79d509",
   "metadata": {},
   "outputs": [
    {
     "name": "stdout",
     "output_type": "stream",
     "text": [
      "3\n",
      "5\n",
      "7\n",
      "11\n",
      "13\n"
     ]
    }
   ],
   "source": [
    "# 소수 정의: 1과 자기 자신만 약수로 가지는 1보다 큰 자연수\n",
    "m, n  = 3, 16\n",
    "for i in range(m, n+1):\n",
    "    if i < 2: # 1은 소수 아님\n",
    "        continue\n",
    "    for k in range(2, int(i ** 0.5)+ 1): # 2부터제곱근 사이 값 확인 \n",
    "        if i % k ==0 :#나누어 떨어지면 종료 -> \n",
    "            break\n",
    "    else:\n",
    "        print(i)"
   ]
  },
  {
   "cell_type": "code",
   "execution_count": 17,
   "id": "93831140-46c4-4644-a754-6dde69efa4ac",
   "metadata": {},
   "outputs": [
    {
     "name": "stdin",
     "output_type": "stream",
     "text": [
      " 3 16\n"
     ]
    },
    {
     "name": "stdout",
     "output_type": "stream",
     "text": [
      "3\n",
      "5\n",
      "7\n",
      "11\n",
      "13\n"
     ]
    }
   ],
   "source": [
    "m, n = map(int, input().split())\n",
    "\n",
    "for i in range(m, n+1):\n",
    "    if i < 2:\n",
    "        continue\n",
    "    for k in range(2, int(i**0.5)+1):\n",
    "        if i % k == 0:\n",
    "            break\n",
    "    else:\n",
    "        print(i)"
   ]
  },
  {
   "cell_type": "markdown",
   "id": "d883b830-216f-4d29-aa1d-d8e96a9e365f",
   "metadata": {
    "jp-MarkdownHeadingCollapsed": true
   },
   "source": [
    "## 0804"
   ]
  },
  {
   "cell_type": "code",
   "execution_count": 24,
   "id": "cda73a10-4498-403b-82a2-84dc5ed11389",
   "metadata": {},
   "outputs": [
    {
     "name": "stdout",
     "output_type": "stream",
     "text": [
      "3\n"
     ]
    }
   ],
   "source": [
    "#소수 찾기\n",
    "# 100 이하의 숫자 N \n",
    "li = [1, 3, 5, 7]\n",
    "num = []\n",
    "for i in li:\n",
    "    if i < 2:\n",
    "        continue\n",
    "    for k in range(2, int(i **0.5) + 1):\n",
    "        if i % k == 0:\n",
    "            break\n",
    "    else:\n",
    "        num.append(i)\n",
    "print(len(num))"
   ]
  },
  {
   "cell_type": "code",
   "execution_count": 28,
   "id": "4ebc60d0-3a36-4fb1-a1ed-2e8f2803de1a",
   "metadata": {},
   "outputs": [
    {
     "name": "stdin",
     "output_type": "stream",
     "text": [
      " 4\n",
      " 1 3 5 7\n"
     ]
    },
    {
     "name": "stdout",
     "output_type": "stream",
     "text": [
      "3\n"
     ]
    }
   ],
   "source": [
    "### 소수 찾기\n",
    "# 100 이하의 숫자 N \n",
    "\n",
    "m = int(input())\n",
    "li = list(map(int, input().split()))\n",
    "num = []\n",
    "for i in li:\n",
    "    if i < 2:\n",
    "        continue\n",
    "    for k in range(2, int(i **0.5) + 1):\n",
    "        if i % k == 0:\n",
    "            break\n",
    "    else:\n",
    "        num.append(i)\n",
    "print(len(num))"
   ]
  },
  {
   "cell_type": "code",
   "execution_count": 36,
   "id": "21406980-19a1-4762-9961-4597f40d0b04",
   "metadata": {},
   "outputs": [
    {
     "name": "stdin",
     "output_type": "stream",
     "text": [
      " 30\n",
      " 0\n"
     ]
    },
    {
     "name": "stdout",
     "output_type": "stream",
     "text": [
      "0\n"
     ]
    }
   ],
   "source": [
    "while True:\n",
    "    n = int(input())\n",
    "    if n == 0:\n",
    "        break\n",
    "\n",
    "for i in range(n, (2*n)+1):\n",
    "    print(i)\n"
   ]
  },
  {
   "cell_type": "code",
   "execution_count": 20,
   "id": "c8fb8e74-5dd0-4a18-9152-97dbf9927520",
   "metadata": {},
   "outputs": [
    {
     "ename": "SyntaxError",
     "evalue": "invalid character '≤' (U+2264) (206581778.py, line 1)",
     "output_type": "error",
     "traceback": [
      "\u001b[0;36m  Cell \u001b[0;32mIn[20], line 1\u001b[0;36m\u001b[0m\n\u001b[0;31m    1 ≤ n ≤ 123,456\u001b[0m\n\u001b[0m      ^\u001b[0m\n\u001b[0;31mSyntaxError\u001b[0m\u001b[0;31m:\u001b[0m invalid character '≤' (U+2264)\n"
     ]
    }
   ],
   "source": [
    "# 아래 코드일 때 시간 초과 발생 \n",
    "while True:\n",
    "    n = int(input())\n",
    "    if n == 0:\n",
    "        break\n",
    "    m = 2*n \n",
    "    num = []\n",
    "    for i in range(n, m+1):\n",
    "        if i < 2:\n",
    "            continue\n",
    "        for k in range(2,int(i**0.5)+1):\n",
    "            if i % k ==0:\n",
    "                break\n",
    "        else:\n",
    "            num.append(i)\n",
    "print(len(num))"
   ]
  },
  {
   "cell_type": "markdown",
   "id": "71ace70c-6950-40f3-a0c0-e5c64e8778ff",
   "metadata": {},
   "source": [
    "### 에라토스테네스의 체 (Sieve of Eratosthenes)\n",
    "목적: 1부터 n까지의 수 중에서 소수를 빠르게 찾기\n",
    "원리 \n",
    "1. 2부터 n까지 숫자 쭉 적어두기'\n",
    "2. 2는 소수니까 남기고 2의 배수들은 모두 삭제\n",
    "3. 다음 남아있는 수 3은 소수 -> 3의 배수 모두 지움\n",
    "4. 5, 7,... 이런 식으로 루트 엔까지 반복\n",
    "5. 남아있는 수들은 모두 소수"
   ]
  },
  {
   "cell_type": "markdown",
   "id": "fecc5224-15b3-4cbd-bdd4-950c905cce8d",
   "metadata": {},
   "source": [
    "[True]\n",
    "- 파이썬에서 리스트를 만드는 방법 중 하나\n",
    "- 대괄호 [] 안에 값을 넣으면 리스트\n",
    "ex. [1] \n",
    "[\"A\"]\n",
    "[True]: 1개짜리 리스트\n",
    "[True] * 5 = [True, True, True, True, True]\n",
    "\n"
   ]
  },
  {
   "cell_type": "code",
   "execution_count": 8,
   "id": "dfbf31bb-1048-4d15-b616-d0c4397dcddd",
   "metadata": {},
   "outputs": [
    {
     "name": "stdin",
     "output_type": "stream",
     "text": [
      " 1\n"
     ]
    },
    {
     "name": "stdout",
     "output_type": "stream",
     "text": [
      "1\n"
     ]
    },
    {
     "name": "stdin",
     "output_type": "stream",
     "text": [
      " 10\n"
     ]
    },
    {
     "name": "stdout",
     "output_type": "stream",
     "text": [
      "4\n"
     ]
    },
    {
     "name": "stdin",
     "output_type": "stream",
     "text": [
      " 0\n"
     ]
    }
   ],
   "source": [
    "max = 2 * 123456\n",
    "is_prime = [True] * (max + 1) # 처음에 모든 수를 소수라고 가정\n",
    "    #max + 1 인 리스트 만들고 모든 값에 True 채우기\n",
    "    \n",
    "is_prime[0] = is_prime[1] = False # 0과 1 소수 아님 -> 미리 False 로 변경\n",
    "# [False, False, True, True.... ]\n",
    "\n",
    "for i in range(2, int(max**0.5) + 1):\n",
    "    if is_prime[i]: #i 가 소수이면\n",
    "            is_prime[j] = False\n",
    "\n",
    "while True:\n",
    "    n= int(input())\n",
    "    if n == 0:\n",
    "        break\n",
    "    count = 0\n",
    "    for i in range(n+1, 2*n + 1):\n",
    "        if is_prime[i]:\n",
    "            count += 1\n",
    "    print(count)\n",
    "    \n",
    "            "
   ]
  },
  {
   "cell_type": "markdown",
   "id": "079ccf7c-d6bd-41e6-ae19-dd85ec68c7e2",
   "metadata": {},
   "source": [
    "## 0805"
   ]
  },
  {
   "cell_type": "code",
   "execution_count": null,
   "id": "904c5cff-681f-4012-a0de-c7c5e2a645b1",
   "metadata": {},
   "outputs": [],
   "source": [
    "#한줄에 하나씩 문제 조건 만족하는 수열 출력, 중복 수열 여러번 출력하면 안됨 각 수열은 공백으로 구분\n",
    "#사전 순으로 증가하는 순서로 출력\n",
    "#ex. 3 1\n",
    "#1 2 3\n"
   ]
  },
  {
   "cell_type": "code",
   "execution_count": 4,
   "id": "936428b8-f2fb-44a8-ba7b-e93b545678b0",
   "metadata": {},
   "outputs": [
    {
     "name": "stdin",
     "output_type": "stream",
     "text": [
      " 3\n",
      " 4\n",
      " 5\n"
     ]
    }
   ],
   "source": [
    "m = int(input())\n",
    "n= int(input())\n",
    "li = list(map(int, input().split()))"
   ]
  },
  {
   "cell_type": "code",
   "execution_count": 6,
   "id": "a6391836-21b2-4ccb-9cfc-df78f848d39e",
   "metadata": {},
   "outputs": [
    {
     "name": "stdin",
     "output_type": "stream",
     "text": [
      " 3 4\n"
     ]
    }
   ],
   "source": [
    "n, m = map(int, input().split())\n"
   ]
  },
  {
   "cell_type": "markdown",
   "id": "a89dd8b6-3e60-43ee-8237-da2d2757bee0",
   "metadata": {},
   "source": [
    "### DFS(depth-first search, 깊이 우선 탐색)\n",
    "- 어떤 문제를 트리나 그래프처럼 생각했을 떄 한 갈래 끝까지 내려갔다가 더 이상 갈 수 없으면 한 단계 위로 돌아와 다른 갈래 탐색"
   ]
  },
  {
   "cell_type": "code",
   "execution_count": 7,
   "id": "ef581626-0f48-4b51-9e0d-0f49a28e89d9",
   "metadata": {},
   "outputs": [
    {
     "name": "stdout",
     "output_type": "stream",
     "text": [
      "[1, 2]\n",
      "[1, 3]\n",
      "[2, 1]\n",
      "[2, 3]\n",
      "[3, 1]\n",
      "[3, 2]\n"
     ]
    }
   ],
   "source": [
    "def dfs(path):\n",
    "    if len(path) == 2:          # 길이가 2가 되면 출력\n",
    "        print(path)\n",
    "        return\n",
    "    for i in range(1, 4):       # 1,2,3을 차례로 시도\n",
    "        if i not in path:       # 중복 방지\n",
    "            dfs(path + [i])     # 새로운 경로로 탐색\n",
    "\n",
    "dfs([])  # 빈 경로에서 시작\n"
   ]
  },
  {
   "cell_type": "code",
   "execution_count": 9,
   "id": "18fbf1c1-e084-433b-89a4-1f70d3521c6d",
   "metadata": {},
   "outputs": [
    {
     "name": "stdout",
     "output_type": "stream",
     "text": [
      "[1, 2]\n",
      "[1, 3]\n",
      "[2, 1]\n",
      "[2, 3]\n",
      "[3, 1]\n",
      "[3, 2]\n"
     ]
    }
   ],
   "source": [
    "def dfs(path):\n",
    "    if len(path) == 2:\n",
    "        print(path)\n",
    "        return\n",
    "    for i in range(1,4):\n",
    "        if i not in path:\n",
    "            dfs(path+[i])\n",
    "dfs([])"
   ]
  },
  {
   "cell_type": "code",
   "execution_count": 17,
   "id": "bfce0721-77f8-4ff3-a0d5-ae58ee83a00c",
   "metadata": {},
   "outputs": [
    {
     "name": "stdin",
     "output_type": "stream",
     "text": [
      " 4 4\n"
     ]
    },
    {
     "name": "stdout",
     "output_type": "stream",
     "text": [
      "[1, 2, 3, 4]\n",
      "[1, 2, 4, 3]\n",
      "[1, 3, 2, 4]\n",
      "[1, 3, 4, 2]\n",
      "[1, 4, 2, 3]\n",
      "[1, 4, 3, 2]\n",
      "[2, 1, 3, 4]\n",
      "[2, 1, 4, 3]\n",
      "[2, 3, 1, 4]\n",
      "[2, 3, 4, 1]\n",
      "[2, 4, 1, 3]\n",
      "[2, 4, 3, 1]\n",
      "[3, 1, 2, 4]\n",
      "[3, 1, 4, 2]\n",
      "[3, 2, 1, 4]\n",
      "[3, 2, 4, 1]\n",
      "[3, 4, 1, 2]\n",
      "[3, 4, 2, 1]\n",
      "[4, 1, 2, 3]\n",
      "[4, 1, 3, 2]\n",
      "[4, 2, 1, 3]\n",
      "[4, 2, 3, 1]\n",
      "[4, 3, 1, 2]\n",
      "[4, 3, 2, 1]\n"
     ]
    }
   ],
   "source": [
    "n, m = map(int, input().split())\n",
    "\n",
    "\n",
    "def dfs(path):\n",
    "    if len(path) == m:\n",
    "        print(*path) # *: 언패킹 연산자, 리스트 안의 원소 풀어서 함수에 전달 \n",
    "        return\n",
    "    for i in range(1, n+1):\n",
    "        if i not in path:\n",
    "            dfs(path+[i])\n",
    "dfs([])"
   ]
  },
  {
   "cell_type": "markdown",
   "id": "9dc3fa3e-53f2-475e-9281-6fdc0ce34102",
   "metadata": {},
   "source": [
    "## 0806"
   ]
  },
  {
   "cell_type": "markdown",
   "id": "c2e31f45-ae8d-4f25-8b1c-9fd9cf92d58c",
   "metadata": {},
   "source": [
    "###  set: 순서 , 인덱스로 접근 불가\n",
    "- 중복 불가\n"
   ]
  },
  {
   "cell_type": "markdown",
   "id": "97ee1a7e-9186-4c89-bb78-9896be4cfdf4",
   "metadata": {},
   "source": [
    "### &:\n",
    "- 정수(int)끼리 → 비트 AND 연산\n",
    "- 집합 set 끼리 -> 교집합 연산\n",
    "### 최소공배수 : 두 수에 서로 공통으로 존재하는 배수 중 가장 작은 수 "
   ]
  },
  {
   "cell_type": "code",
   "execution_count": 17,
   "id": "9004355e-a432-4a01-916f-17597938ae60",
   "metadata": {},
   "outputs": [
    {
     "name": "stdin",
     "output_type": "stream",
     "text": [
      " 24 18\n"
     ]
    },
    {
     "name": "stdout",
     "output_type": "stream",
     "text": [
      "6\n",
      "72\n"
     ]
    }
   ],
   "source": [
    "\n",
    "#최대공약수와 최소 공배수 \n",
    "\n",
    "#두 개의 자연수를 입력받아 최대 공약수와 최소 공배수를 출력하는 프로그램을 작성하시오.\n",
    "\n",
    "#입력\n",
    "#첫째 줄에는 두 개의 자연수가 주어진다. 이 둘은 10,000이하의 자연수이며 사이에 한 칸의 공백이 주어진다.\n",
    "\n",
    "#출력\n",
    "#첫째 줄에는 입력으로 주어진 두 수의 최대공약수를, 둘째 줄에는 입력으로 주어진 두 수의 최소 공배수를 출력\n",
    "\n",
    "n, m = map(int, input().split())\n",
    "li = []\n",
    "li2 = []\n",
    "for i in range(1, n+1):\n",
    "    if n % i == 0:\n",
    "        li.append(i)\n",
    "        \n",
    "\n",
    "for j in range(1, m+1):\n",
    "    if m % j == 0:\n",
    "        li2.append(j)\n",
    "        \n",
    "gcd = max(set(li) & set(li2))\n",
    "print(gcd)\n",
    "\n",
    "lcm = m * n // gcd\n",
    "print(lcm)\n"
   ]
  },
  {
   "cell_type": "code",
   "execution_count": 16,
   "id": "1b984fc3-b1ed-4612-a80e-1d9bea541e78",
   "metadata": {},
   "outputs": [],
   "source": [
    "\n"
   ]
  },
  {
   "cell_type": "code",
   "execution_count": null,
   "id": "4488d816-69b0-4e46-ac20-ea7fdf39708c",
   "metadata": {},
   "outputs": [],
   "source": []
  }
 ],
 "metadata": {
  "kernelspec": {
   "display_name": "=Python3 (paed)",
   "language": "python",
   "name": "paed"
  },
  "language_info": {
   "codemirror_mode": {
    "name": "ipython",
    "version": 3
   },
   "file_extension": ".py",
   "mimetype": "text/x-python",
   "name": "python",
   "nbconvert_exporter": "python",
   "pygments_lexer": "ipython3",
   "version": "3.10.12"
  }
 },
 "nbformat": 4,
 "nbformat_minor": 5
}
